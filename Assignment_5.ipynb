{
 "cells": [
  {
   "cell_type": "markdown",
   "id": "9b5f87b9",
   "metadata": {},
   "source": [
    "1 . What does an empty dictionary's code look like?"
   ]
  },
  {
   "cell_type": "code",
   "execution_count": 37,
   "id": "2c62b9ad",
   "metadata": {},
   "outputs": [
    {
     "data": {
      "text/plain": [
       "dict"
      ]
     },
     "execution_count": 37,
     "metadata": {},
     "output_type": "execute_result"
    }
   ],
   "source": [
    "s = {}\n",
    "type(s)"
   ]
  },
  {
   "cell_type": "markdown",
   "id": "81e4d4e7",
   "metadata": {},
   "source": [
    "Answer: Using empty Curly brackets can create an empty dictionary."
   ]
  },
  {
   "cell_type": "code",
   "execution_count": null,
   "id": "7ab63023",
   "metadata": {},
   "outputs": [],
   "source": []
  },
  {
   "cell_type": "markdown",
   "id": "29cd8c8b",
   "metadata": {},
   "source": [
    "2 . What is the value of a dictionary value with the key'foo' and the value 42?"
   ]
  },
  {
   "cell_type": "code",
   "execution_count": 38,
   "id": "071a8ad6",
   "metadata": {},
   "outputs": [],
   "source": [
    "s = {'foo' : 42}"
   ]
  },
  {
   "cell_type": "code",
   "execution_count": 39,
   "id": "1848b5f3",
   "metadata": {},
   "outputs": [
    {
     "data": {
      "text/plain": [
       "42"
      ]
     },
     "execution_count": 39,
     "metadata": {},
     "output_type": "execute_result"
    }
   ],
   "source": [
    "s['foo']"
   ]
  },
  {
   "cell_type": "markdown",
   "id": "a9048bba",
   "metadata": {},
   "source": [
    "Answer : The vaue will be 42."
   ]
  },
  {
   "cell_type": "code",
   "execution_count": null,
   "id": "f3702cfc",
   "metadata": {},
   "outputs": [],
   "source": []
  },
  {
   "cell_type": "markdown",
   "id": "e40445de",
   "metadata": {},
   "source": [
    "3 . What is the most significant distinction between a dictionary and a list?"
   ]
  },
  {
   "cell_type": "markdown",
   "id": "cb2aad13",
   "metadata": {},
   "source": [
    "Answer : Dictionary only stores/takes data as key value pairs.\n",
    "         List take singular data eg: str, int, another list, tuple, dictionary inside it.\n",
    "            \n",
    "         Items in dictionary are unodered and in list are ordered"
   ]
  },
  {
   "cell_type": "code",
   "execution_count": 40,
   "id": "326534bc",
   "metadata": {},
   "outputs": [],
   "source": [
    "l = [1,'xyz', ('xyz1', 2,3), [123,'abc'], {'key1' : 42, 'key2' : [1,2,3,4,5]}]"
   ]
  },
  {
   "cell_type": "code",
   "execution_count": 41,
   "id": "37ec6fbc",
   "metadata": {},
   "outputs": [],
   "source": [
    "d = {1 : ['xyz', 'abc'],\n",
    "    2 : [2,3,4,5]\n",
    "    }"
   ]
  },
  {
   "cell_type": "code",
   "execution_count": null,
   "id": "7a21482a",
   "metadata": {},
   "outputs": [],
   "source": []
  },
  {
   "cell_type": "markdown",
   "id": "66543a69",
   "metadata": {},
   "source": [
    "4 . What happens if you try to access spam['foo'] if spam is {'bar' : 100}?"
   ]
  },
  {
   "cell_type": "code",
   "execution_count": 42,
   "id": "002f46c3",
   "metadata": {},
   "outputs": [],
   "source": [
    "spam = {'bar' : 100}"
   ]
  },
  {
   "cell_type": "code",
   "execution_count": 43,
   "id": "588ea2a6",
   "metadata": {},
   "outputs": [
    {
     "ename": "KeyError",
     "evalue": "'foo'",
     "output_type": "error",
     "traceback": [
      "\u001b[1;31m---------------------------------------------------------------------------\u001b[0m",
      "\u001b[1;31mKeyError\u001b[0m                                  Traceback (most recent call last)",
      "Input \u001b[1;32mIn [43]\u001b[0m, in \u001b[0;36m<cell line: 1>\u001b[1;34m()\u001b[0m\n\u001b[1;32m----> 1\u001b[0m \u001b[43mspam\u001b[49m\u001b[43m[\u001b[49m\u001b[38;5;124;43m'\u001b[39;49m\u001b[38;5;124;43mfoo\u001b[39;49m\u001b[38;5;124;43m'\u001b[39;49m\u001b[43m]\u001b[49m\n",
      "\u001b[1;31mKeyError\u001b[0m: 'foo'"
     ]
    }
   ],
   "source": [
    "spam['foo']"
   ]
  },
  {
   "cell_type": "markdown",
   "id": "77d13b7f",
   "metadata": {},
   "source": [
    "Answer : We run into an key error because there is no such key present in dictionary called spam."
   ]
  },
  {
   "cell_type": "code",
   "execution_count": null,
   "id": "a6d37b11",
   "metadata": {},
   "outputs": [],
   "source": []
  },
  {
   "cell_type": "markdown",
   "id": "379ee025",
   "metadata": {},
   "source": [
    "5 . If a dictionary is stored in spam, what is the difference between the expressions 'cat'; in spam and\n",
    "'cat' in spam.keys()?"
   ]
  },
  {
   "cell_type": "code",
   "execution_count": 44,
   "id": "b00d2048",
   "metadata": {},
   "outputs": [],
   "source": [
    "spam['cat'] = ['abc', 'xyz']"
   ]
  },
  {
   "cell_type": "code",
   "execution_count": 45,
   "id": "4d01c35e",
   "metadata": {},
   "outputs": [
    {
     "data": {
      "text/plain": [
       "{'bar': 100, 'cat': ['abc', 'xyz']}"
      ]
     },
     "execution_count": 45,
     "metadata": {},
     "output_type": "execute_result"
    }
   ],
   "source": [
    "spam"
   ]
  },
  {
   "cell_type": "code",
   "execution_count": 46,
   "id": "21213895",
   "metadata": {},
   "outputs": [
    {
     "data": {
      "text/plain": [
       "True"
      ]
     },
     "execution_count": 46,
     "metadata": {},
     "output_type": "execute_result"
    }
   ],
   "source": [
    "'cat' in spam"
   ]
  },
  {
   "cell_type": "code",
   "execution_count": 47,
   "id": "1ca523da",
   "metadata": {},
   "outputs": [
    {
     "data": {
      "text/plain": [
       "True"
      ]
     },
     "execution_count": 47,
     "metadata": {},
     "output_type": "execute_result"
    }
   ],
   "source": [
    "'cat' in spam.keys()"
   ]
  },
  {
   "cell_type": "markdown",
   "id": "9a0ae83e",
   "metadata": {},
   "source": [
    "Answer : There is no difference between both the expression. In both cases we are calling for keys."
   ]
  },
  {
   "cell_type": "code",
   "execution_count": null,
   "id": "b13780bf",
   "metadata": {},
   "outputs": [],
   "source": []
  },
  {
   "cell_type": "markdown",
   "id": "f96d1bd2",
   "metadata": {},
   "source": [
    "6 . If a dictionary is stored in spam, what is the difference between the expressions 'cat' in spam and\n",
    "'cat' in spam.values()?"
   ]
  },
  {
   "cell_type": "code",
   "execution_count": 48,
   "id": "4e1fb8e4",
   "metadata": {},
   "outputs": [
    {
     "data": {
      "text/plain": [
       "{'bar': 100, 'cat': ['abc', 'xyz']}"
      ]
     },
     "execution_count": 48,
     "metadata": {},
     "output_type": "execute_result"
    }
   ],
   "source": [
    "spam"
   ]
  },
  {
   "cell_type": "code",
   "execution_count": 49,
   "id": "5567f5b0",
   "metadata": {},
   "outputs": [
    {
     "data": {
      "text/plain": [
       "True"
      ]
     },
     "execution_count": 49,
     "metadata": {},
     "output_type": "execute_result"
    }
   ],
   "source": [
    "'cat' in spam"
   ]
  },
  {
   "cell_type": "code",
   "execution_count": 50,
   "id": "3937c519",
   "metadata": {},
   "outputs": [
    {
     "data": {
      "text/plain": [
       "False"
      ]
     },
     "execution_count": 50,
     "metadata": {},
     "output_type": "execute_result"
    }
   ],
   "source": [
    "'cat' in spam.values()"
   ]
  },
  {
   "cell_type": "markdown",
   "id": "e1138a8b",
   "metadata": {},
   "source": [
    "Answer : While calling for spam.values() we are searching through the values of a dictionary.\n",
    "    \n",
    "         In case of 'cat' in spam or spam.keys() we are going through the keys of a dictionary. "
   ]
  },
  {
   "cell_type": "code",
   "execution_count": null,
   "id": "78508068",
   "metadata": {},
   "outputs": [],
   "source": []
  },
  {
   "cell_type": "markdown",
   "id": "aff8b48a",
   "metadata": {},
   "source": [
    "7 . What is a shortcut for the following code?\n",
    "\n",
    "if 'color' not in spam:\n",
    "    \n",
    "spam['color'] = 'black';"
   ]
  },
  {
   "cell_type": "code",
   "execution_count": 51,
   "id": "007bf4c3",
   "metadata": {},
   "outputs": [
    {
     "data": {
      "text/plain": [
       "'black'"
      ]
     },
     "execution_count": 51,
     "metadata": {},
     "output_type": "execute_result"
    }
   ],
   "source": [
    "spam.setdefault('color', 'black')"
   ]
  },
  {
   "cell_type": "code",
   "execution_count": 52,
   "id": "449fcfb5",
   "metadata": {},
   "outputs": [
    {
     "data": {
      "text/plain": [
       "{'bar': 100, 'cat': ['abc', 'xyz'], 'color': 'black'}"
      ]
     },
     "execution_count": 52,
     "metadata": {},
     "output_type": "execute_result"
    }
   ],
   "source": [
    "spam"
   ]
  },
  {
   "cell_type": "code",
   "execution_count": null,
   "id": "92324372",
   "metadata": {},
   "outputs": [],
   "source": []
  },
  {
   "cell_type": "markdown",
   "id": "e95a6b69",
   "metadata": {},
   "source": [
    "8 . How do you &quot;pretty print&quot; dictionary values using which module and function?"
   ]
  },
  {
   "cell_type": "code",
   "execution_count": 53,
   "id": "e6d6cbd6",
   "metadata": {},
   "outputs": [
    {
     "name": "stdout",
     "output_type": "stream",
     "text": [
      "This is normal print of a dictionary\n",
      "{'one': 1, 'two': 2, 'three': 3}\n"
     ]
    }
   ],
   "source": [
    "import json\n",
    "\n",
    "dic1 = {'one' : 1, 'two' : 2, 'three' : 3}\n",
    "print('This is normal print of a dictionary')\n",
    "print(dic1)\n",
    "\n"
   ]
  },
  {
   "cell_type": "code",
   "execution_count": 54,
   "id": "9b4ccc98",
   "metadata": {},
   "outputs": [
    {
     "name": "stdout",
     "output_type": "stream",
     "text": [
      "This is pretty print using json\n",
      "{\n",
      "    \"one\": 1,\n",
      "    \"two\": 2,\n",
      "    \"three\": 3\n",
      "}\n"
     ]
    }
   ],
   "source": [
    "print('This is pretty print using json')\n",
    "print(json.dumps(dic1, indent = 4))"
   ]
  },
  {
   "cell_type": "code",
   "execution_count": null,
   "id": "52086c8f",
   "metadata": {},
   "outputs": [],
   "source": []
  }
 ],
 "metadata": {
  "kernelspec": {
   "display_name": "Python 3 (ipykernel)",
   "language": "python",
   "name": "python3"
  },
  "language_info": {
   "codemirror_mode": {
    "name": "ipython",
    "version": 3
   },
   "file_extension": ".py",
   "mimetype": "text/x-python",
   "name": "python",
   "nbconvert_exporter": "python",
   "pygments_lexer": "ipython3",
   "version": "3.9.12"
  }
 },
 "nbformat": 4,
 "nbformat_minor": 5
}
