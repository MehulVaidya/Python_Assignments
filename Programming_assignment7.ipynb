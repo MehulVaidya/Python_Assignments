{
 "cells": [
  {
   "cell_type": "markdown",
   "id": "104fc244",
   "metadata": {},
   "source": [
    "1. Write a Python Program to find sum of array?"
   ]
  },
  {
   "cell_type": "code",
   "execution_count": 4,
   "id": "4e6991ca",
   "metadata": {},
   "outputs": [
    {
     "name": "stdout",
     "output_type": "stream",
     "text": [
      "Sum :  15\n"
     ]
    }
   ],
   "source": [
    "s =0\n",
    "arr = [1,2,3,4,5]\n",
    "for i in range(0,len(arr)):\n",
    "    s+=arr[i]\n",
    "print(\"Sum : \",s)"
   ]
  },
  {
   "cell_type": "code",
   "execution_count": null,
   "id": "00395a15",
   "metadata": {},
   "outputs": [],
   "source": []
  },
  {
   "cell_type": "markdown",
   "id": "b9c7f28e",
   "metadata": {},
   "source": [
    "2. Write a Python Program to find largest element in an array?"
   ]
  },
  {
   "cell_type": "code",
   "execution_count": 9,
   "id": "ed3be11c",
   "metadata": {},
   "outputs": [],
   "source": [
    "def max_arr(arr):\n",
    "    m = 0\n",
    "    for i in arr:\n",
    "        if i > m:\n",
    "            m = i\n",
    "    return m"
   ]
  },
  {
   "cell_type": "code",
   "execution_count": 10,
   "id": "1edc0b5f",
   "metadata": {},
   "outputs": [
    {
     "data": {
      "text/plain": [
       "5"
      ]
     },
     "execution_count": 10,
     "metadata": {},
     "output_type": "execute_result"
    }
   ],
   "source": [
    "max_arr(arr)"
   ]
  },
  {
   "cell_type": "markdown",
   "id": "e8b65bb8",
   "metadata": {},
   "source": [
    "3. Write a Python Program for array rotation?"
   ]
  },
  {
   "cell_type": "code",
   "execution_count": 15,
   "id": "7a53c95c",
   "metadata": {},
   "outputs": [],
   "source": [
    "def rotation_arr(arr):\n",
    "    for i in arr[::-1]:\n",
    "        print(i)\n"
   ]
  },
  {
   "cell_type": "code",
   "execution_count": 16,
   "id": "96a7b3a9",
   "metadata": {},
   "outputs": [
    {
     "name": "stdout",
     "output_type": "stream",
     "text": [
      "5\n",
      "4\n",
      "3\n",
      "2\n",
      "1\n"
     ]
    }
   ],
   "source": [
    "rotation_arr(arr)"
   ]
  },
  {
   "cell_type": "code",
   "execution_count": null,
   "id": "deda0599",
   "metadata": {},
   "outputs": [],
   "source": []
  },
  {
   "cell_type": "markdown",
   "id": "8d2290dd",
   "metadata": {},
   "source": [
    "4. Write a Python Program to Split the array and add the first part to the end?"
   ]
  },
  {
   "cell_type": "code",
   "execution_count": 17,
   "id": "a3a550d5",
   "metadata": {},
   "outputs": [
    {
     "data": {
      "text/plain": [
       "[1, 2, 3, 4, 5]"
      ]
     },
     "execution_count": 17,
     "metadata": {},
     "output_type": "execute_result"
    }
   ],
   "source": [
    "arr"
   ]
  },
  {
   "cell_type": "code",
   "execution_count": 20,
   "id": "c798e359",
   "metadata": {},
   "outputs": [],
   "source": [
    "def split_arr(arr, no_of_ele_to_split):\n",
    "    if no_of_ele_to_split > len(arr):\n",
    "        print('Cant split more then length of array', len(arr))\n",
    "        \n",
    "    else:\n",
    "        return arr[no_of_ele_to_split:] + arr[:no_of_ele_to_split]"
   ]
  },
  {
   "cell_type": "code",
   "execution_count": 21,
   "id": "d02b142e",
   "metadata": {},
   "outputs": [
    {
     "data": {
      "text/plain": [
       "[3, 4, 5, 1, 2]"
      ]
     },
     "execution_count": 21,
     "metadata": {},
     "output_type": "execute_result"
    }
   ],
   "source": [
    "split_arr(arr,2)"
   ]
  },
  {
   "cell_type": "code",
   "execution_count": null,
   "id": "08b6eb5e",
   "metadata": {},
   "outputs": [],
   "source": []
  },
  {
   "cell_type": "markdown",
   "id": "94ab39ee",
   "metadata": {},
   "source": [
    "5. Write a Python Program to check if given array is Monotonic?"
   ]
  },
  {
   "cell_type": "code",
   "execution_count": 22,
   "id": "2cf79936",
   "metadata": {},
   "outputs": [
    {
     "data": {
      "text/plain": [
       "[1, 2, 3, 4, 5]"
      ]
     },
     "execution_count": 22,
     "metadata": {},
     "output_type": "execute_result"
    }
   ],
   "source": [
    "arr"
   ]
  },
  {
   "cell_type": "code",
   "execution_count": 24,
   "id": "7d5a6ff6",
   "metadata": {},
   "outputs": [],
   "source": [
    "def monotonic(arr):\n",
    " \n",
    "    return (all(arr[i] <= arr[i + 1] for i in range(len(arr) - 1)) or\n",
    "            all(arr[i] >= arr[i + 1] for i in range(len(arr) - 1)))"
   ]
  },
  {
   "cell_type": "code",
   "execution_count": 25,
   "id": "adffb18e",
   "metadata": {},
   "outputs": [
    {
     "data": {
      "text/plain": [
       "True"
      ]
     },
     "execution_count": 25,
     "metadata": {},
     "output_type": "execute_result"
    }
   ],
   "source": [
    "monotonic(arr)"
   ]
  },
  {
   "cell_type": "code",
   "execution_count": null,
   "id": "20e74d2f",
   "metadata": {},
   "outputs": [],
   "source": []
  }
 ],
 "metadata": {
  "kernelspec": {
   "display_name": "Python 3 (ipykernel)",
   "language": "python",
   "name": "python3"
  },
  "language_info": {
   "codemirror_mode": {
    "name": "ipython",
    "version": 3
   },
   "file_extension": ".py",
   "mimetype": "text/x-python",
   "name": "python",
   "nbconvert_exporter": "python",
   "pygments_lexer": "ipython3",
   "version": "3.9.12"
  }
 },
 "nbformat": 4,
 "nbformat_minor": 5
}
