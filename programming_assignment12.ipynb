{
 "cells": [
  {
   "cell_type": "markdown",
   "id": "4ff5a732",
   "metadata": {},
   "source": [
    "1. Write a Python program to Extract Unique values dictionary values?"
   ]
  },
  {
   "cell_type": "code",
   "execution_count": 1,
   "id": "8942b847",
   "metadata": {},
   "outputs": [
    {
     "name": "stdout",
     "output_type": "stream",
     "text": [
      "unique values are: {0, 66, 35, 3, 4, 72, 8, 44, 45, 47, 17, 81, 21, 22}\n"
     ]
    }
   ],
   "source": [
    "dic = {'a' : [22, 44, 17, 66],\n",
    "             'b' : [35, 21, 47, 45],\n",
    "             'c' : [0, 17, 72, 81],\n",
    "             'd' : [3, 3, 4,8]}\n",
    "\n",
    "unique_values = set([i for val in dic.values() for i in val])\n",
    "print(f\"unique values are: {unique_values}\")"
   ]
  },
  {
   "cell_type": "code",
   "execution_count": null,
   "id": "90fafd70",
   "metadata": {},
   "outputs": [],
   "source": []
  },
  {
   "cell_type": "markdown",
   "id": "41ff986b",
   "metadata": {},
   "source": [
    "2. Write a Python program to find the sum of all items in a dictionary?"
   ]
  },
  {
   "cell_type": "code",
   "execution_count": 2,
   "id": "f8c8d154",
   "metadata": {},
   "outputs": [],
   "source": [
    "dic2 = {\n",
    "    'x' : 1, 'y':2, 'z':7\n",
    "}"
   ]
  },
  {
   "cell_type": "code",
   "execution_count": 3,
   "id": "54884e02",
   "metadata": {},
   "outputs": [
    {
     "name": "stdout",
     "output_type": "stream",
     "text": [
      "total sum : 10\n"
     ]
    }
   ],
   "source": [
    "s = 0\n",
    "for i in dic2.values():\n",
    "    s = s+i\n",
    "print(f'total sum : {s}')"
   ]
  },
  {
   "cell_type": "code",
   "execution_count": null,
   "id": "579af154",
   "metadata": {},
   "outputs": [],
   "source": []
  },
  {
   "cell_type": "markdown",
   "id": "b8a5a4b6",
   "metadata": {},
   "source": [
    "3. Write a Python program to Merging two Dictionaries?"
   ]
  },
  {
   "cell_type": "code",
   "execution_count": 4,
   "id": "e4943692",
   "metadata": {},
   "outputs": [],
   "source": [
    "d = {'a':1, 'b':2}\n",
    "c = {'x':4, 'y':8}"
   ]
  },
  {
   "cell_type": "code",
   "execution_count": 5,
   "id": "63433bcc",
   "metadata": {},
   "outputs": [],
   "source": [
    "new = d.copy()\n",
    "new.update(c)"
   ]
  },
  {
   "cell_type": "code",
   "execution_count": 6,
   "id": "0d9fcd29",
   "metadata": {},
   "outputs": [
    {
     "name": "stdout",
     "output_type": "stream",
     "text": [
      "{'a': 1, 'b': 2, 'x': 4, 'y': 8}\n"
     ]
    }
   ],
   "source": [
    "print(new)"
   ]
  },
  {
   "cell_type": "code",
   "execution_count": null,
   "id": "b166e9bb",
   "metadata": {},
   "outputs": [],
   "source": []
  },
  {
   "cell_type": "markdown",
   "id": "654416fa",
   "metadata": {},
   "source": [
    "4. Write a Python program to convert key-values list to flat dictionary?"
   ]
  },
  {
   "cell_type": "code",
   "execution_count": 7,
   "id": "f5509263",
   "metadata": {},
   "outputs": [
    {
     "name": "stdout",
     "output_type": "stream",
     "text": [
      "The original dictionary is : {'day': [6, 7], 'name': ['sat', 'sun']}\n",
      "Flattened dictionary : {6: 'sat', 7: 'sun'}\n"
     ]
    }
   ],
   "source": [
    "dic3 = {'day' : [6, 7],\n",
    "             'name' : ['sat', 'sun']}\n",
    " \n",
    "# printing original dictionary\n",
    "print(\"The original dictionary is : \" + str(dic3))\n",
    "\n",
    "res = {}\n",
    "for i in range(len(dic3['day'])):\n",
    "    res[dic3['day'][i]] = dic3['name'][i]\n",
    " \n",
    "\n",
    "print(\"Flattened dictionary : \" + str(res))"
   ]
  },
  {
   "cell_type": "code",
   "execution_count": null,
   "id": "e412f137",
   "metadata": {},
   "outputs": [],
   "source": []
  },
  {
   "cell_type": "markdown",
   "id": "c5d5fe06",
   "metadata": {},
   "source": [
    "5. Write a Python program to insertion at the beginning in OrderedDict?"
   ]
  },
  {
   "cell_type": "code",
   "execution_count": 8,
   "id": "ad325462",
   "metadata": {},
   "outputs": [
    {
     "name": "stdout",
     "output_type": "stream",
     "text": [
      "Ordered Dictionary  : OrderedDict([('Jan', '1'), ('Feb', '2'), ('Mar', '3')])\n"
     ]
    }
   ],
   "source": [
    "from collections import OrderedDict\n",
    "iniordered_dict = OrderedDict([('Feb', '2'), ('Mar', '3')])\n",
    "  \n",
    "iniordered_dict.update({'Jan':'1'})\n",
    "iniordered_dict.move_to_end('Jan', last = False)\n",
    "  \n",
    "print (\"Ordered Dictionary  : \"+str(iniordered_dict))"
   ]
  },
  {
   "cell_type": "code",
   "execution_count": null,
   "id": "0da8814c",
   "metadata": {},
   "outputs": [],
   "source": []
  },
  {
   "cell_type": "markdown",
   "id": "59470970",
   "metadata": {},
   "source": [
    "6. Write a Python program to check order of character in string using OrderedDict()?"
   ]
  },
  {
   "cell_type": "code",
   "execution_count": 9,
   "id": "4d3e3946",
   "metadata": {},
   "outputs": [
    {
     "name": "stdout",
     "output_type": "stream",
     "text": [
      "enter string : mehul\n",
      "Enter Pattern : eh\n",
      "OrderedDict([('m', None), ('e', None), ('h', None), ('u', None), ('l', None)])\n",
      "Pattern matched\n"
     ]
    }
   ],
   "source": [
    "from collections import OrderedDict \n",
    "  \n",
    "def checkOrder(str1, pattern): \n",
    "      \n",
    "    # create empty OrderedDict \n",
    "    dict = OrderedDict.fromkeys(str1) \n",
    "    print(dict)   \n",
    "    ptrlen = 0\n",
    "    for key,value in dict.items(): \n",
    "        \n",
    "        if (key == pattern[ptrlen]): \n",
    "            ptrlen = ptrlen + 1\n",
    "          \n",
    "        # check if we have traverse complete pattern string \n",
    "        if (ptrlen == (len(pattern))):            \n",
    "            return 'true'\n",
    "  \n",
    "    # if we come out from for loop that means order was mismatched \n",
    "    return 'false'\n",
    "  \n",
    "\n",
    "string = input(\"enter string : \")\n",
    "pattern = input(\"Enter Pattern : \")\n",
    "if checkOrder(string,pattern):\n",
    "    print(\"Pattern matched\")\n",
    "else:\n",
    "    print(\"Pattern not matched\")"
   ]
  },
  {
   "cell_type": "code",
   "execution_count": null,
   "id": "b5da3549",
   "metadata": {},
   "outputs": [],
   "source": []
  },
  {
   "cell_type": "markdown",
   "id": "1a6652da",
   "metadata": {},
   "source": [
    "7. Write a Python program to sort Python Dictionaries by Key or Value?"
   ]
  },
  {
   "cell_type": "code",
   "execution_count": 10,
   "id": "324b8c5a",
   "metadata": {},
   "outputs": [
    {
     "name": "stdout",
     "output_type": "stream",
     "text": [
      "oredered_keys:[2, 3, 5, 6, 7]\n",
      "ordered_items : [(2, 5), (3, 2), (5, 1), (6, 11), (7, 2)]\n",
      "ordered_values : [1, 2, 2, 5, 11]\n"
     ]
    }
   ],
   "source": [
    "\n",
    "dic4= {3:2 ,6:3 ,5:1 ,6:11 ,2:5 ,7:2 }\n",
    "print(f'oredered_keys:{sorted(dic4.keys())}')\n",
    "print(f'ordered_items : {sorted(dic4.items())}')\n",
    "\n",
    "dic5 = {3:2 ,6:3 ,5:1 ,6:11 ,2:5 ,7:2 }\n",
    "print(f'ordered_values : {sorted(dic5.values())}')\n"
   ]
  },
  {
   "cell_type": "code",
   "execution_count": null,
   "id": "48c5083f",
   "metadata": {},
   "outputs": [],
   "source": []
  }
 ],
 "metadata": {
  "kernelspec": {
   "display_name": "Python 3 (ipykernel)",
   "language": "python",
   "name": "python3"
  },
  "language_info": {
   "codemirror_mode": {
    "name": "ipython",
    "version": 3
   },
   "file_extension": ".py",
   "mimetype": "text/x-python",
   "name": "python",
   "nbconvert_exporter": "python",
   "pygments_lexer": "ipython3",
   "version": "3.9.12"
  }
 },
 "nbformat": 4,
 "nbformat_minor": 5
}
