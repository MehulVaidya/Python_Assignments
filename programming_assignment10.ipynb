{
 "cells": [
  {
   "cell_type": "markdown",
   "id": "8df7deeb",
   "metadata": {},
   "source": [
    "1. Write a Python program to find sum of elements in list?"
   ]
  },
  {
   "cell_type": "code",
   "execution_count": 15,
   "id": "303a68af",
   "metadata": {},
   "outputs": [],
   "source": [
    "l = [1,3,22,44,5]"
   ]
  },
  {
   "cell_type": "code",
   "execution_count": 2,
   "id": "61555af8",
   "metadata": {},
   "outputs": [],
   "source": [
    "def total_sum(lst):\n",
    "    s = 0\n",
    "    for i in lst:\n",
    "        s = s + i\n",
    "        \n",
    "    return s"
   ]
  },
  {
   "cell_type": "code",
   "execution_count": 3,
   "id": "557baf0d",
   "metadata": {},
   "outputs": [
    {
     "data": {
      "text/plain": [
       "75"
      ]
     },
     "execution_count": 3,
     "metadata": {},
     "output_type": "execute_result"
    }
   ],
   "source": [
    "total_sum(l)"
   ]
  },
  {
   "cell_type": "code",
   "execution_count": null,
   "id": "36eb7d87",
   "metadata": {},
   "outputs": [],
   "source": []
  },
  {
   "cell_type": "markdown",
   "id": "4fb1a968",
   "metadata": {},
   "source": [
    "2. Write a Python program to Multiply all numbers in the list?"
   ]
  },
  {
   "cell_type": "code",
   "execution_count": 6,
   "id": "ef2ceeda",
   "metadata": {},
   "outputs": [
    {
     "data": {
      "text/plain": [
       "[1, 3, 22, 44, 5]"
      ]
     },
     "execution_count": 6,
     "metadata": {},
     "output_type": "execute_result"
    }
   ],
   "source": [
    "l"
   ]
  },
  {
   "cell_type": "code",
   "execution_count": 7,
   "id": "a2f61adf",
   "metadata": {},
   "outputs": [],
   "source": [
    "def mul_lst(lst):\n",
    "    m = 1\n",
    "    for i in lst:\n",
    "        m = m*i\n",
    "    return m"
   ]
  },
  {
   "cell_type": "code",
   "execution_count": 9,
   "id": "fbd245c9",
   "metadata": {},
   "outputs": [
    {
     "data": {
      "text/plain": [
       "14520"
      ]
     },
     "execution_count": 9,
     "metadata": {},
     "output_type": "execute_result"
    }
   ],
   "source": [
    "mul_lst(l)"
   ]
  },
  {
   "cell_type": "code",
   "execution_count": null,
   "id": "7da9c4ec",
   "metadata": {},
   "outputs": [],
   "source": []
  },
  {
   "cell_type": "markdown",
   "id": "a339fa1d",
   "metadata": {},
   "source": [
    "3. Write a Python program to find smallest number in a list?"
   ]
  },
  {
   "cell_type": "code",
   "execution_count": 16,
   "id": "68cd39c4",
   "metadata": {},
   "outputs": [
    {
     "data": {
      "text/plain": [
       "[1, 3, 22, 44, 5]"
      ]
     },
     "execution_count": 16,
     "metadata": {},
     "output_type": "execute_result"
    }
   ],
   "source": [
    "l"
   ]
  },
  {
   "cell_type": "code",
   "execution_count": 14,
   "id": "bb90da8f",
   "metadata": {},
   "outputs": [],
   "source": [
    "def smallest_num(lst):\n",
    "    lst.sort()\n",
    "    return lst[0]"
   ]
  },
  {
   "cell_type": "code",
   "execution_count": 17,
   "id": "17f4e1da",
   "metadata": {},
   "outputs": [
    {
     "data": {
      "text/plain": [
       "1"
      ]
     },
     "execution_count": 17,
     "metadata": {},
     "output_type": "execute_result"
    }
   ],
   "source": [
    "smallest_num(l)"
   ]
  },
  {
   "cell_type": "code",
   "execution_count": 18,
   "id": "6d9a9664",
   "metadata": {},
   "outputs": [
    {
     "data": {
      "text/plain": [
       "5"
      ]
     },
     "execution_count": 18,
     "metadata": {},
     "output_type": "execute_result"
    }
   ],
   "source": [
    "smallest_num([33,6,5,88,9])"
   ]
  },
  {
   "cell_type": "code",
   "execution_count": null,
   "id": "0b1ca338",
   "metadata": {},
   "outputs": [],
   "source": []
  },
  {
   "cell_type": "markdown",
   "id": "1a01d0d0",
   "metadata": {},
   "source": [
    "4. Write a Python program to find largest number in a list?"
   ]
  },
  {
   "cell_type": "code",
   "execution_count": 19,
   "id": "ed40f48e",
   "metadata": {},
   "outputs": [],
   "source": [
    "def largest_num(lst):\n",
    "    lst.sort()\n",
    "    return lst[-1]"
   ]
  },
  {
   "cell_type": "code",
   "execution_count": 20,
   "id": "76f4a8d5",
   "metadata": {},
   "outputs": [
    {
     "data": {
      "text/plain": [
       "66"
      ]
     },
     "execution_count": 20,
     "metadata": {},
     "output_type": "execute_result"
    }
   ],
   "source": [
    "largest_num([1,44,5,66,2])"
   ]
  },
  {
   "cell_type": "code",
   "execution_count": null,
   "id": "9b4f873c",
   "metadata": {},
   "outputs": [],
   "source": []
  },
  {
   "cell_type": "markdown",
   "id": "ac418135",
   "metadata": {},
   "source": [
    "5. Write a Python program to find second largest number in a list?"
   ]
  },
  {
   "cell_type": "code",
   "execution_count": 22,
   "id": "8fe11825",
   "metadata": {},
   "outputs": [],
   "source": [
    "def second_largest_num(lst):\n",
    "    lst.sort()\n",
    "    return lst[-2]"
   ]
  },
  {
   "cell_type": "code",
   "execution_count": 23,
   "id": "a6735bd2",
   "metadata": {},
   "outputs": [
    {
     "data": {
      "text/plain": [
       "44"
      ]
     },
     "execution_count": 23,
     "metadata": {},
     "output_type": "execute_result"
    }
   ],
   "source": [
    "second_largest_num([1,44,5,66,2])"
   ]
  },
  {
   "cell_type": "code",
   "execution_count": null,
   "id": "811a419e",
   "metadata": {},
   "outputs": [],
   "source": []
  },
  {
   "cell_type": "markdown",
   "id": "86d056d6",
   "metadata": {},
   "source": [
    "6. Write a Python program to find N largest elements from a list?"
   ]
  },
  {
   "cell_type": "code",
   "execution_count": 25,
   "id": "e407e308",
   "metadata": {},
   "outputs": [],
   "source": [
    "def n_largest_num(lst, n_element):\n",
    "    lst.sort()\n",
    "    return lst[-n_element]"
   ]
  },
  {
   "cell_type": "code",
   "execution_count": 26,
   "id": "b7f0234c",
   "metadata": {},
   "outputs": [
    {
     "data": {
      "text/plain": [
       "5"
      ]
     },
     "execution_count": 26,
     "metadata": {},
     "output_type": "execute_result"
    }
   ],
   "source": [
    "n_largest_num([1,44,5,66,2], 3)"
   ]
  },
  {
   "cell_type": "code",
   "execution_count": null,
   "id": "8c727892",
   "metadata": {},
   "outputs": [],
   "source": []
  },
  {
   "cell_type": "markdown",
   "id": "e78f56bf",
   "metadata": {},
   "source": [
    "7. Write a Python program to print even numbers in a list?"
   ]
  },
  {
   "cell_type": "code",
   "execution_count": 27,
   "id": "33414bda",
   "metadata": {},
   "outputs": [],
   "source": [
    "def even_num(lst):\n",
    "    even_lst = []\n",
    "    for i in lst:\n",
    "        if i %2 == 0:\n",
    "            even_lst.append(i)\n",
    "    return even_lst"
   ]
  },
  {
   "cell_type": "code",
   "execution_count": 28,
   "id": "806fb798",
   "metadata": {},
   "outputs": [
    {
     "data": {
      "text/plain": [
       "[4, 66]"
      ]
     },
     "execution_count": 28,
     "metadata": {},
     "output_type": "execute_result"
    }
   ],
   "source": [
    "even_num([33,4,5,66,7])"
   ]
  },
  {
   "cell_type": "code",
   "execution_count": null,
   "id": "f395e9ea",
   "metadata": {},
   "outputs": [],
   "source": []
  },
  {
   "cell_type": "markdown",
   "id": "401c2569",
   "metadata": {},
   "source": [
    "8. Write a Python program to print odd numbers in a List?"
   ]
  },
  {
   "cell_type": "code",
   "execution_count": 29,
   "id": "014f4814",
   "metadata": {},
   "outputs": [],
   "source": [
    "def odd_num(lst):\n",
    "    odd_lst = []\n",
    "    for i in lst:\n",
    "        if i %2 != 0:\n",
    "            odd_lst.append(i)\n",
    "    return odd_lst"
   ]
  },
  {
   "cell_type": "code",
   "execution_count": 30,
   "id": "971dc63b",
   "metadata": {},
   "outputs": [
    {
     "data": {
      "text/plain": [
       "[33, 5, 7]"
      ]
     },
     "execution_count": 30,
     "metadata": {},
     "output_type": "execute_result"
    }
   ],
   "source": [
    "odd_num([33,4,5,66,7])"
   ]
  },
  {
   "cell_type": "code",
   "execution_count": null,
   "id": "2f5a6fae",
   "metadata": {},
   "outputs": [],
   "source": []
  },
  {
   "cell_type": "markdown",
   "id": "07c9c0e3",
   "metadata": {},
   "source": [
    "9. Write a Python program to Remove empty List from List?"
   ]
  },
  {
   "cell_type": "code",
   "execution_count": 54,
   "id": "d709ce27",
   "metadata": {},
   "outputs": [],
   "source": [
    "l1 = [1,2,3, []]"
   ]
  },
  {
   "cell_type": "code",
   "execution_count": 32,
   "id": "3e3f2f9d",
   "metadata": {},
   "outputs": [
    {
     "name": "stdout",
     "output_type": "stream",
     "text": [
      "1 <class 'int'>\n",
      "2 <class 'int'>\n",
      "3 <class 'int'>\n",
      "[] <class 'list'>\n"
     ]
    }
   ],
   "source": [
    "for i in l1:\n",
    "    print(i, type(i))"
   ]
  },
  {
   "cell_type": "code",
   "execution_count": 58,
   "id": "49089a79",
   "metadata": {},
   "outputs": [],
   "source": [
    "def empty_lst_remove(lst):\n",
    "    new_lst1 = []\n",
    "    for i in lst:\n",
    "         if i != []:\n",
    "            new_lst1.append(i)\n",
    "    return new_lst1               "
   ]
  },
  {
   "cell_type": "code",
   "execution_count": 59,
   "id": "2c5e8179",
   "metadata": {},
   "outputs": [
    {
     "data": {
      "text/plain": [
       "[1, 2, 3, []]"
      ]
     },
     "execution_count": 59,
     "metadata": {},
     "output_type": "execute_result"
    }
   ],
   "source": [
    "l1"
   ]
  },
  {
   "cell_type": "code",
   "execution_count": 60,
   "id": "25036a98",
   "metadata": {},
   "outputs": [
    {
     "data": {
      "text/plain": [
       "[1, 2, 3]"
      ]
     },
     "execution_count": 60,
     "metadata": {},
     "output_type": "execute_result"
    }
   ],
   "source": [
    "empty_lst_remove(l1)"
   ]
  },
  {
   "cell_type": "markdown",
   "id": "0a0cb66d",
   "metadata": {},
   "source": [
    "10. Write a Python program to Cloning or Copying a list?"
   ]
  },
  {
   "cell_type": "code",
   "execution_count": 37,
   "id": "3788563f",
   "metadata": {},
   "outputs": [],
   "source": [
    "def copy_lst(lst):\n",
    "    lst_copy = lst.copy()\n",
    "    return lst_copy"
   ]
  },
  {
   "cell_type": "code",
   "execution_count": 39,
   "id": "a938e5b3",
   "metadata": {},
   "outputs": [
    {
     "data": {
      "text/plain": [
       "[1, 2, 3, []]"
      ]
     },
     "execution_count": 39,
     "metadata": {},
     "output_type": "execute_result"
    }
   ],
   "source": [
    "copy_lst(l1)"
   ]
  },
  {
   "cell_type": "code",
   "execution_count": null,
   "id": "4f716b32",
   "metadata": {},
   "outputs": [],
   "source": []
  },
  {
   "cell_type": "markdown",
   "id": "6618cb5b",
   "metadata": {},
   "source": [
    "11. Write a Python program to Count occurrences of an element in a list?"
   ]
  },
  {
   "cell_type": "code",
   "execution_count": 52,
   "id": "a049e9ff",
   "metadata": {},
   "outputs": [],
   "source": [
    "def elements_count(lst, element_to_check):\n",
    "    return f'the list is {lst}, the occurence for {element_to_check} is {lst.count(element_to_check)}'\n",
    "        "
   ]
  },
  {
   "cell_type": "code",
   "execution_count": 53,
   "id": "4aefd8e5",
   "metadata": {},
   "outputs": [
    {
     "data": {
      "text/plain": [
       "'the list is [1, 1, 2, 1, 2, 4], the occurence for 1 is 3'"
      ]
     },
     "execution_count": 53,
     "metadata": {},
     "output_type": "execute_result"
    }
   ],
   "source": [
    "elements_count([1,1,2,1,2,4], 1)"
   ]
  },
  {
   "cell_type": "code",
   "execution_count": null,
   "id": "81bcf745",
   "metadata": {},
   "outputs": [],
   "source": []
  }
 ],
 "metadata": {
  "kernelspec": {
   "display_name": "Python 3 (ipykernel)",
   "language": "python",
   "name": "python3"
  },
  "language_info": {
   "codemirror_mode": {
    "name": "ipython",
    "version": 3
   },
   "file_extension": ".py",
   "mimetype": "text/x-python",
   "name": "python",
   "nbconvert_exporter": "python",
   "pygments_lexer": "ipython3",
   "version": "3.9.12"
  }
 },
 "nbformat": 4,
 "nbformat_minor": 5
}
