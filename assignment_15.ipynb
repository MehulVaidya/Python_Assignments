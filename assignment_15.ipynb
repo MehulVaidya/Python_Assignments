{
 "cells": [
  {
   "cell_type": "markdown",
   "id": "da531247",
   "metadata": {},
   "source": [
    "1.How many seconds are in an hour? Use the interactive interpreter as a calculator and multiply the\n",
    "number of seconds in a minute (60) by the number of minutes in an hour (also 60)."
   ]
  },
  {
   "cell_type": "code",
   "execution_count": 2,
   "id": "f650f828",
   "metadata": {},
   "outputs": [
    {
     "name": "stdout",
     "output_type": "stream",
     "text": [
      "3600 seconds in an hour\n"
     ]
    }
   ],
   "source": [
    "#1hr = 60 mins\n",
    "\n",
    "#1min = 60 sec\n",
    "\n",
    "one_min_in_secs = 60#secs\n",
    "\n",
    "one_hour_in_mins = 60#mins\n",
    "\n",
    "seconds_in_an_hour  =  one_hour_in_mins * one_min_in_secs\n",
    "\n",
    "print(f'{seconds_in_an_hour} seconds in an hour')"
   ]
  },
  {
   "cell_type": "code",
   "execution_count": null,
   "id": "31fbe4d7",
   "metadata": {},
   "outputs": [],
   "source": []
  },
  {
   "cell_type": "markdown",
   "id": "bac8c5d0",
   "metadata": {},
   "source": [
    "2. Assign the result from the previous task (seconds in an hour) to a variable called\n",
    "seconds_per_hour."
   ]
  },
  {
   "cell_type": "code",
   "execution_count": 3,
   "id": "71e73a30",
   "metadata": {},
   "outputs": [
    {
     "name": "stdout",
     "output_type": "stream",
     "text": [
      "3600\n"
     ]
    }
   ],
   "source": [
    "seconds_per_hour = seconds_in_an_hour\n",
    "\n",
    "print(seconds_per_hour)"
   ]
  },
  {
   "cell_type": "code",
   "execution_count": null,
   "id": "1b5818fc",
   "metadata": {},
   "outputs": [],
   "source": []
  },
  {
   "cell_type": "markdown",
   "id": "73674286",
   "metadata": {},
   "source": [
    "3. How many seconds do you think there are in a day? Make use of the variables seconds per hour\n",
    "and minutes per hour."
   ]
  },
  {
   "cell_type": "code",
   "execution_count": 4,
   "id": "88b1870f",
   "metadata": {},
   "outputs": [],
   "source": [
    "#1hr is 3600 secs therefore 1day= 24 hours so 24 * 3600"
   ]
  },
  {
   "cell_type": "code",
   "execution_count": 5,
   "id": "d717706a",
   "metadata": {},
   "outputs": [],
   "source": [
    "minutes_per_hour = one_hour_in_mins"
   ]
  },
  {
   "cell_type": "code",
   "execution_count": 9,
   "id": "459a51ca",
   "metadata": {},
   "outputs": [
    {
     "name": "stdout",
     "output_type": "stream",
     "text": [
      "86400 seconds in one day \n"
     ]
    }
   ],
   "source": [
    "print(f'{seconds_per_hour * 24} seconds in one day ')"
   ]
  },
  {
   "cell_type": "code",
   "execution_count": null,
   "id": "6625f877",
   "metadata": {},
   "outputs": [],
   "source": []
  },
  {
   "cell_type": "markdown",
   "id": "4b4986f5",
   "metadata": {},
   "source": [
    "4. Calculate seconds per day again, but this time save the result in a variable called seconds_per_day"
   ]
  },
  {
   "cell_type": "code",
   "execution_count": 10,
   "id": "c31c3a61",
   "metadata": {},
   "outputs": [],
   "source": [
    "secondsperday = seconds_per_hour*24"
   ]
  },
  {
   "cell_type": "code",
   "execution_count": 11,
   "id": "8cea8bd2",
   "metadata": {},
   "outputs": [
    {
     "name": "stdout",
     "output_type": "stream",
     "text": [
      "86400\n"
     ]
    }
   ],
   "source": [
    "seconds_per_day = secondsperday\n",
    "\n",
    "print(f'{seconds_per_day}')"
   ]
  },
  {
   "cell_type": "code",
   "execution_count": null,
   "id": "58174bd8",
   "metadata": {},
   "outputs": [],
   "source": []
  },
  {
   "cell_type": "markdown",
   "id": "fc00a817",
   "metadata": {},
   "source": [
    "5. Divide seconds_per_day by seconds_per_hour. Use floating-point (/) division."
   ]
  },
  {
   "cell_type": "code",
   "execution_count": 12,
   "id": "1226f6c7",
   "metadata": {},
   "outputs": [
    {
     "data": {
      "text/plain": [
       "24.0"
      ]
     },
     "execution_count": 12,
     "metadata": {},
     "output_type": "execute_result"
    }
   ],
   "source": [
    "seconds_per_day/seconds_per_hour"
   ]
  },
  {
   "cell_type": "code",
   "execution_count": null,
   "id": "9d9c5d5e",
   "metadata": {},
   "outputs": [],
   "source": []
  },
  {
   "cell_type": "markdown",
   "id": "d59b9de3",
   "metadata": {},
   "source": [
    "6. Divide seconds_per_day by seconds_per_hour, using integer (//) division. Did this number agree\n",
    "with the floating-point value from the previous question, aside from the final .0?"
   ]
  },
  {
   "cell_type": "code",
   "execution_count": 13,
   "id": "bbaac4f0",
   "metadata": {},
   "outputs": [
    {
     "data": {
      "text/plain": [
       "24"
      ]
     },
     "execution_count": 13,
     "metadata": {},
     "output_type": "execute_result"
    }
   ],
   "source": [
    "seconds_per_day//seconds_per_hour"
   ]
  },
  {
   "cell_type": "code",
   "execution_count": 14,
   "id": "7882b8e3",
   "metadata": {},
   "outputs": [],
   "source": [
    "#yes, this number agreed aside from the final.0"
   ]
  },
  {
   "cell_type": "code",
   "execution_count": null,
   "id": "5ac5b444",
   "metadata": {},
   "outputs": [],
   "source": []
  },
  {
   "cell_type": "markdown",
   "id": "628dd328",
   "metadata": {},
   "source": [
    "7. Write a generator, genPrimes, that returns the sequence of prime numbers on successive calls to\n",
    "its next() method: 2, 3, 5, 7, 11, ..."
   ]
  },
  {
   "cell_type": "code",
   "execution_count": 16,
   "id": "433141b9",
   "metadata": {},
   "outputs": [],
   "source": [
    "def genPrimes():\n",
    "    n = 2\n",
    "    prime_number_lst = []\n",
    "    while True:\n",
    "        for p in prime_number_lst:\n",
    "            if n % p == 0:\n",
    "                break\n",
    "        else:\n",
    "            primes.append(n)\n",
    "            yield n\n",
    "        n += 1"
   ]
  },
  {
   "cell_type": "code",
   "execution_count": null,
   "id": "fc874e52",
   "metadata": {},
   "outputs": [],
   "source": []
  }
 ],
 "metadata": {
  "kernelspec": {
   "display_name": "Python 3 (ipykernel)",
   "language": "python",
   "name": "python3"
  },
  "language_info": {
   "codemirror_mode": {
    "name": "ipython",
    "version": 3
   },
   "file_extension": ".py",
   "mimetype": "text/x-python",
   "name": "python",
   "nbconvert_exporter": "python",
   "pygments_lexer": "ipython3",
   "version": "3.9.12"
  }
 },
 "nbformat": 4,
 "nbformat_minor": 5
}
