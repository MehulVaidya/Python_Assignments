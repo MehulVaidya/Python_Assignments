{
 "cells": [
  {
   "cell_type": "markdown",
   "id": "ed21b090",
   "metadata": {},
   "source": [
    "1. What is the relationship between def statements and lambda expressions ?"
   ]
  },
  {
   "cell_type": "markdown",
   "id": "983db48e",
   "metadata": {},
   "source": [
    "'''\n",
    "\n",
    "ANS: \n",
    "\n",
    "Both def and lambda are used for creating custom functions.\n",
    "\n",
    "1.lambda expressions are one liner function which returns only single value in return but can take any number of \n",
    "arguements. It is used in case of simple logic.\n",
    "\n",
    "2.def statements are used for creating functions where we can write complex logic and it can return multiple values.\n",
    "\n",
    "'''"
   ]
  },
  {
   "cell_type": "code",
   "execution_count": null,
   "id": "314f4a78",
   "metadata": {},
   "outputs": [],
   "source": []
  },
  {
   "cell_type": "markdown",
   "id": "32d56170",
   "metadata": {},
   "source": [
    "2. What is the benefit of lambda?"
   ]
  },
  {
   "cell_type": "markdown",
   "id": "98baf39c",
   "metadata": {},
   "source": [
    "'''\n",
    "\n",
    "Ans: \n",
    "\n",
    "Unlike other function lambda functions can be written in  a single line of code and use it immidiately.\n",
    "\n",
    "lambda functions can save space in code compared to normal functions.\n",
    "\n",
    "'''"
   ]
  },
  {
   "cell_type": "code",
   "execution_count": null,
   "id": "414c59a5",
   "metadata": {},
   "outputs": [],
   "source": []
  },
  {
   "cell_type": "markdown",
   "id": "00103c96",
   "metadata": {},
   "source": [
    "3. Compare and contrast map, filter, and reduce."
   ]
  },
  {
   "cell_type": "markdown",
   "id": "88592dab",
   "metadata": {},
   "source": [
    "'''\n",
    "\n",
    "Ans: \n",
    "\n",
    "Map is a function that takes two arguements (function, iterable object) , it applies this given function to all the elements \n",
    "in the iterable object such as list, tuple etc.\n",
    "\n",
    "filter() function takes the exact same arguements but returns only filtered values , that are true according to the function\n",
    "passed.\n",
    "\n",
    "\n",
    "reduce() function  return a single element.\n",
    "it is used when we need to return a single value from an iterable object.\n",
    "\n",
    "'''"
   ]
  },
  {
   "cell_type": "code",
   "execution_count": 5,
   "id": "3b37ae40",
   "metadata": {},
   "outputs": [
    {
     "name": "stdout",
     "output_type": "stream",
     "text": [
      "1\n",
      "4\n",
      "9\n",
      "16\n"
     ]
    }
   ],
   "source": [
    "#map()\n",
    "\n",
    "lst = [1,2,3,4]\n",
    "\n",
    "lst_sqr = map(lambda a: a**2, lst)\n",
    "\n",
    "for i in lst_sqr:\n",
    "    print(i)"
   ]
  },
  {
   "cell_type": "code",
   "execution_count": 6,
   "id": "adf1f65e",
   "metadata": {},
   "outputs": [
    {
     "name": "stdout",
     "output_type": "stream",
     "text": [
      "12\n",
      "66\n",
      "8\n"
     ]
    }
   ],
   "source": [
    "#filter:\n",
    "\n",
    "lst = [12,33,45,66,8]\n",
    "\n",
    "even_lst = filter(lambda x:x%2==0, lst)\n",
    "\n",
    "for i in even_lst:\n",
    "    print(i)"
   ]
  },
  {
   "cell_type": "code",
   "execution_count": 7,
   "id": "f9ec68b2",
   "metadata": {},
   "outputs": [],
   "source": [
    "#reduce\n",
    "\n",
    "from functools import reduce\n",
    "\n",
    "lst = [12,33,45,66,8]\n",
    "\n",
    "single_element = reduce(lambda x,y : x+y, lst)"
   ]
  },
  {
   "cell_type": "code",
   "execution_count": 8,
   "id": "bbc62c84",
   "metadata": {},
   "outputs": [
    {
     "data": {
      "text/plain": [
       "164"
      ]
     },
     "execution_count": 8,
     "metadata": {},
     "output_type": "execute_result"
    }
   ],
   "source": [
    "single_element"
   ]
  },
  {
   "cell_type": "code",
   "execution_count": null,
   "id": "8787fd58",
   "metadata": {},
   "outputs": [],
   "source": []
  },
  {
   "cell_type": "markdown",
   "id": "49c7446c",
   "metadata": {},
   "source": [
    "4. What are function annotations, and how are they used?"
   ]
  },
  {
   "cell_type": "markdown",
   "id": "7bde17c3",
   "metadata": {},
   "source": [
    "'''\n",
    "Ans:\n",
    "\n",
    "functions annotations are used others users to understand the function better, about what type of arguements to be passed\n",
    "in the function call.\n",
    "\n",
    "It is done by using the '->' symbol\n",
    "\n",
    "'''"
   ]
  },
  {
   "cell_type": "code",
   "execution_count": 15,
   "id": "b06c5f06",
   "metadata": {},
   "outputs": [],
   "source": [
    "def func(a):\n",
    "    return a**2"
   ]
  },
  {
   "cell_type": "code",
   "execution_count": 19,
   "id": "daa5a502",
   "metadata": {},
   "outputs": [],
   "source": [
    "def func(a:int)->'a_sqr(int)':  # we can define arguement type and also return type.\n",
    "    return a**2"
   ]
  },
  {
   "cell_type": "code",
   "execution_count": 20,
   "id": "ea6e2177",
   "metadata": {},
   "outputs": [
    {
     "data": {
      "text/plain": [
       "16"
      ]
     },
     "execution_count": 20,
     "metadata": {},
     "output_type": "execute_result"
    }
   ],
   "source": [
    "func(4)"
   ]
  },
  {
   "cell_type": "code",
   "execution_count": null,
   "id": "aa5afae0",
   "metadata": {},
   "outputs": [],
   "source": []
  },
  {
   "cell_type": "markdown",
   "id": "6a82c247",
   "metadata": {},
   "source": [
    "5. What are recursive functions, and how are they used?"
   ]
  },
  {
   "cell_type": "markdown",
   "id": "5d9f90aa",
   "metadata": {},
   "source": [
    "'''\n",
    "\n",
    "Ans:\n",
    "\n",
    "recursive functions are those function that call themselves during execution\n",
    "\n",
    "'''"
   ]
  },
  {
   "cell_type": "code",
   "execution_count": 11,
   "id": "7c5d1245",
   "metadata": {},
   "outputs": [
    {
     "data": {
      "text/plain": [
       "24"
      ]
     },
     "execution_count": 11,
     "metadata": {},
     "output_type": "execute_result"
    }
   ],
   "source": [
    "def factorial(x):\n",
    "    if x == 1 :\n",
    "        return 1\n",
    "    else :\n",
    "        return x * factorial(x-1) # recurtion\n",
    "    \n",
    "factorial(4)\n",
    "     \n"
   ]
  },
  {
   "cell_type": "code",
   "execution_count": null,
   "id": "7b693eb3",
   "metadata": {},
   "outputs": [],
   "source": []
  },
  {
   "cell_type": "markdown",
   "id": "8348a00d",
   "metadata": {},
   "source": [
    "6. What are some general design guidelines for coding functions?"
   ]
  },
  {
   "cell_type": "markdown",
   "id": "646a7046",
   "metadata": {},
   "source": [
    "'''\n",
    "\n",
    "Ans:\n",
    "\n",
    "guidlines for coding functions are:\n",
    "\n",
    "1.Using class and objects.\n",
    "\n",
    "2.Use of exception handling(try, except and finally)\n",
    "\n",
    "3.use of logging for track for reinvestigation purposes.\n",
    "\n",
    "4.use if docstring\n",
    "\n",
    "'''"
   ]
  },
  {
   "cell_type": "code",
   "execution_count": null,
   "id": "b904f4fa",
   "metadata": {},
   "outputs": [],
   "source": []
  },
  {
   "cell_type": "markdown",
   "id": "6ff79e60",
   "metadata": {},
   "source": [
    "7. Name three or more ways that functions can communicate results to a caller."
   ]
  },
  {
   "cell_type": "markdown",
   "id": "c8fbc8de",
   "metadata": {},
   "source": [
    "'''\n",
    "\n",
    "Ans:\n",
    "\n",
    "It can return list of values, tuple or dictionaries, single value as result  to a caller\n",
    "\n",
    "'''"
   ]
  },
  {
   "cell_type": "code",
   "execution_count": null,
   "id": "a2b6df88",
   "metadata": {},
   "outputs": [],
   "source": []
  }
 ],
 "metadata": {
  "kernelspec": {
   "display_name": "Python 3 (ipykernel)",
   "language": "python",
   "name": "python3"
  },
  "language_info": {
   "codemirror_mode": {
    "name": "ipython",
    "version": 3
   },
   "file_extension": ".py",
   "mimetype": "text/x-python",
   "name": "python",
   "nbconvert_exporter": "python",
   "pygments_lexer": "ipython3",
   "version": "3.9.12"
  }
 },
 "nbformat": 4,
 "nbformat_minor": 5
}
