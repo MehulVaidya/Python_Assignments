{
 "cells": [
  {
   "cell_type": "markdown",
   "id": "97567b51",
   "metadata": {},
   "source": [
    "1 . Write a Python Program to Find the Factorial of a Number?"
   ]
  },
  {
   "cell_type": "code",
   "execution_count": 1,
   "id": "196a167d",
   "metadata": {},
   "outputs": [],
   "source": [
    "def factorial(n):\n",
    "    fact = 1\n",
    "    if n >= 1:\n",
    "        try:\n",
    "            for i in range(1,n+1):\n",
    "                fact = fact * i\n",
    "            return fact\n",
    "        except Exception as e:\n",
    "            print(e)\n",
    "    else:\n",
    "        print('Factorail of zero and below  does not exist')\n",
    "        \n"
   ]
  },
  {
   "cell_type": "code",
   "execution_count": 2,
   "id": "298d4652",
   "metadata": {},
   "outputs": [
    {
     "data": {
      "text/plain": [
       "6"
      ]
     },
     "execution_count": 2,
     "metadata": {},
     "output_type": "execute_result"
    }
   ],
   "source": [
    "factorial(3)"
   ]
  },
  {
   "cell_type": "code",
   "execution_count": null,
   "id": "6a3d6aa1",
   "metadata": {},
   "outputs": [],
   "source": []
  },
  {
   "cell_type": "markdown",
   "id": "53c1a301",
   "metadata": {},
   "source": [
    "2 . Write a Python Program to Display the multiplication Table?"
   ]
  },
  {
   "cell_type": "code",
   "execution_count": 3,
   "id": "2bd92d2f",
   "metadata": {},
   "outputs": [],
   "source": [
    "def multiplication_table(n):\n",
    "    try :\n",
    "        for i in range(1, 11):\n",
    "            print(n,'*',i,'=',n*i)\n",
    "    \n",
    "    except Exception as e:\n",
    "        print(e)"
   ]
  },
  {
   "cell_type": "code",
   "execution_count": 4,
   "id": "c0847738",
   "metadata": {},
   "outputs": [
    {
     "name": "stdout",
     "output_type": "stream",
     "text": [
      "5 * 1 = 5\n",
      "5 * 2 = 10\n",
      "5 * 3 = 15\n",
      "5 * 4 = 20\n",
      "5 * 5 = 25\n",
      "5 * 6 = 30\n",
      "5 * 7 = 35\n",
      "5 * 8 = 40\n",
      "5 * 9 = 45\n",
      "5 * 10 = 50\n"
     ]
    }
   ],
   "source": [
    "multiplication_table(5)"
   ]
  },
  {
   "cell_type": "code",
   "execution_count": null,
   "id": "97404075",
   "metadata": {},
   "outputs": [],
   "source": []
  },
  {
   "cell_type": "markdown",
   "id": "fb9383d1",
   "metadata": {},
   "source": [
    "3 . Write a Python Program to Print the Fibonacci sequence?"
   ]
  },
  {
   "cell_type": "code",
   "execution_count": 5,
   "id": "eab7c6a2",
   "metadata": {},
   "outputs": [],
   "source": [
    "def fibonacci(n):\n",
    "    a = 0\n",
    "    b = 1\n",
    "    c = 0\n",
    "    if n > 0:\n",
    "        try:\n",
    "            for i in range(n):\n",
    "                print(c, end = ' ')\n",
    "                a = b\n",
    "                b = c\n",
    "                c = a + b\n",
    "        except Exception as e:\n",
    "            print(e)\n",
    "    else:\n",
    "        return 'Enter a number greater than zero'\n"
   ]
  },
  {
   "cell_type": "code",
   "execution_count": 6,
   "id": "0a24bbd5",
   "metadata": {},
   "outputs": [
    {
     "name": "stdout",
     "output_type": "stream",
     "text": [
      "0 1 1 2 3 "
     ]
    }
   ],
   "source": [
    "fibonacci(5)"
   ]
  },
  {
   "cell_type": "code",
   "execution_count": null,
   "id": "2cfcc58a",
   "metadata": {},
   "outputs": [],
   "source": []
  },
  {
   "cell_type": "markdown",
   "id": "41bcba87",
   "metadata": {},
   "source": [
    "4 . Write a Python Program to Check Armstrong Number?"
   ]
  },
  {
   "cell_type": "code",
   "execution_count": 7,
   "id": "a7ed6c51",
   "metadata": {},
   "outputs": [],
   "source": [
    "def Armstrong(n):\n",
    "    sum1 = 0\n",
    "    power = len(str(n))\n",
    "    copy_n = n\n",
    "\n",
    "    try:\n",
    "        while n>0:\n",
    "            digit = n % 10  # get the last digit\n",
    "            sum1 += digit ** power\n",
    "            n = n//10\n",
    "\n",
    "        if sum1 == copy_n:\n",
    "            return f'{copy_n} is a armstrong number'\n",
    "\n",
    "        else:\n",
    "            return f'{copy} is not a armstrong number'\n",
    "    except Exception as e:\n",
    "        print(e)"
   ]
  },
  {
   "cell_type": "code",
   "execution_count": 8,
   "id": "9bf979fc",
   "metadata": {},
   "outputs": [
    {
     "data": {
      "text/plain": [
       "'153 is a armstrong number'"
      ]
     },
     "execution_count": 8,
     "metadata": {},
     "output_type": "execute_result"
    }
   ],
   "source": [
    "Armstrong(153)"
   ]
  },
  {
   "cell_type": "code",
   "execution_count": null,
   "id": "9185819c",
   "metadata": {},
   "outputs": [],
   "source": []
  },
  {
   "cell_type": "code",
   "execution_count": null,
   "id": "dfb2a35d",
   "metadata": {},
   "outputs": [],
   "source": []
  },
  {
   "cell_type": "markdown",
   "id": "05437c92",
   "metadata": {},
   "source": [
    "5 . Write a Python Program to Find Armstrong Number in an Interval?"
   ]
  },
  {
   "cell_type": "code",
   "execution_count": 9,
   "id": "bdc6a2ae",
   "metadata": {},
   "outputs": [],
   "source": [
    "def armstrong_interval(lower, upper):\n",
    "    try:\n",
    "        for i in range(lower, upper+1):\n",
    "            order = len(str(i))\n",
    "            sum1 = 0\n",
    "            temp = i\n",
    "            while temp > 0:\n",
    "                digit = temp % 10\n",
    "                sum1 += digit ** order\n",
    "                temp = temp//10\n",
    "\n",
    "\n",
    "            if i == sum1:\n",
    "                print(i)\n",
    "    except Exception as e:\n",
    "        print(e)\n",
    "\n"
   ]
  },
  {
   "cell_type": "code",
   "execution_count": null,
   "id": "352dacba",
   "metadata": {},
   "outputs": [],
   "source": []
  },
  {
   "cell_type": "markdown",
   "id": "6d7a661c",
   "metadata": {},
   "source": [
    "6 . Write a Python Program to Find the Sum of Natural Numbers?"
   ]
  },
  {
   "cell_type": "code",
   "execution_count": 10,
   "id": "95b5f4b9",
   "metadata": {},
   "outputs": [],
   "source": [
    "def sum_natural_numbers(n):\n",
    "    sum = 0\n",
    "    if n > 0:\n",
    "        try: \n",
    "            for i in range(1, n+1):\n",
    "                sum = sum + i\n",
    "            return sum\n",
    "        except Exception as e:\n",
    "            print(e)\n",
    "    else:\n",
    "        return 'Enter number greater than zero'\n",
    "                         "
   ]
  },
  {
   "cell_type": "code",
   "execution_count": 11,
   "id": "21447fef",
   "metadata": {},
   "outputs": [
    {
     "data": {
      "text/plain": [
       "10"
      ]
     },
     "execution_count": 11,
     "metadata": {},
     "output_type": "execute_result"
    }
   ],
   "source": [
    "sum_natural_numbers(4)"
   ]
  },
  {
   "cell_type": "code",
   "execution_count": null,
   "id": "0ec56570",
   "metadata": {},
   "outputs": [],
   "source": []
  }
 ],
 "metadata": {
  "kernelspec": {
   "display_name": "Python 3 (ipykernel)",
   "language": "python",
   "name": "python3"
  },
  "language_info": {
   "codemirror_mode": {
    "name": "ipython",
    "version": 3
   },
   "file_extension": ".py",
   "mimetype": "text/x-python",
   "name": "python",
   "nbconvert_exporter": "python",
   "pygments_lexer": "ipython3",
   "version": "3.9.12"
  }
 },
 "nbformat": 4,
 "nbformat_minor": 5
}
