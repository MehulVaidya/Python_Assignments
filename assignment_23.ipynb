{
 "cells": [
  {
   "cell_type": "markdown",
   "id": "58acd6e7",
   "metadata": {},
   "source": [
    "1. What is the result of the code, and why?\n",
    "def func(a, b=6, c=8):\n",
    "    print(a, b, c)\n",
    "func(1, 2)"
   ]
  },
  {
   "cell_type": "code",
   "execution_count": 1,
   "id": "59fc4ef7",
   "metadata": {},
   "outputs": [],
   "source": [
    "def func(a, b=6, c=8):\n",
    "    print(a, b, c)"
   ]
  },
  {
   "cell_type": "code",
   "execution_count": 4,
   "id": "8549d743",
   "metadata": {},
   "outputs": [
    {
     "name": "stdout",
     "output_type": "stream",
     "text": [
      "1 2 8\n"
     ]
    }
   ],
   "source": [
    "func(1, 2)"
   ]
  },
  {
   "cell_type": "markdown",
   "id": "5d06c2a9",
   "metadata": {},
   "source": [
    "'''\n",
    "ans : we have set default values for 'b' and 'c' i.e 6 and 8 respectively. so even if we pass just value for a it will take \n",
    "      take data for b and c by itself as we have already set them by default.\n",
    "      this function takes 3 arguements as input while function call .\n",
    "      \n",
    "      when we call func(1,2)---> we are passing value for a and b only , c will be take by default.\n",
    "      the function will return updated value of b i.e 2\n",
    "      \n",
    "      so the uotput is 1 2 8.'''"
   ]
  },
  {
   "cell_type": "code",
   "execution_count": null,
   "id": "dff1fdc0",
   "metadata": {},
   "outputs": [],
   "source": []
  },
  {
   "cell_type": "markdown",
   "id": "747c74a2",
   "metadata": {},
   "source": [
    "2. What is the result of this code, and why?\n",
    "def func(a, b, c=5):\n",
    "    print(a, b, c)\n",
    "func(1, c=3, b=2)"
   ]
  },
  {
   "cell_type": "code",
   "execution_count": 5,
   "id": "6ad59f61",
   "metadata": {},
   "outputs": [
    {
     "name": "stdout",
     "output_type": "stream",
     "text": [
      "1 2 3\n"
     ]
    }
   ],
   "source": [
    "def func(a, b, c=5):\n",
    "    print(a, b, c)\n",
    "func(1, c=3, b=2)"
   ]
  },
  {
   "cell_type": "markdown",
   "id": "beb210a8",
   "metadata": {},
   "source": [
    "'''\n",
    "Ans:\n",
    "the function takes 3 arguements(a,b,c) as input, we have set value of c = 5.\n",
    "so if we dont pass value for c it will be taken 5\n",
    "while calling the function we are passing the values (1,c=3, b=2),\n",
    "the value for c will be updated, now it will be 3\n",
    "\n",
    "a and b will be 1,2\n",
    "\n",
    "so it will print(a,b,c) i.e 1,2,3\n",
    "'''"
   ]
  },
  {
   "cell_type": "code",
   "execution_count": null,
   "id": "dc8ddad7",
   "metadata": {},
   "outputs": [],
   "source": []
  },
  {
   "cell_type": "markdown",
   "id": "c6971288",
   "metadata": {},
   "source": [
    "3. How about this code: what is its result, and why?\n",
    "def func(a, *pargs):\n",
    "    print(a, pargs)\n",
    "func(1, 2, 3)"
   ]
  },
  {
   "cell_type": "code",
   "execution_count": 6,
   "id": "49bef8e5",
   "metadata": {},
   "outputs": [
    {
     "name": "stdout",
     "output_type": "stream",
     "text": [
      "1 (2, 3)\n"
     ]
    }
   ],
   "source": [
    "def func(a, *pargs):\n",
    "    print(a, pargs)\n",
    "func(1, 2, 3)"
   ]
  },
  {
   "cell_type": "markdown",
   "id": "d1986022",
   "metadata": {},
   "source": [
    "'''\n",
    "Ans:\n",
    "In the function definition we take 2 argeuments , a is normal arguement, *pargs is taking *ars which means any no of arguements can be passed eg : if we pass func(1,2,3,4,5,6) all of the values after 1 will be taken by *args.\n",
    "i.e args = (2,3,4,5,6) and a = 1\n",
    "'''"
   ]
  },
  {
   "cell_type": "code",
   "execution_count": null,
   "id": "c44996cc",
   "metadata": {},
   "outputs": [],
   "source": []
  },
  {
   "cell_type": "markdown",
   "id": "fb5d637c",
   "metadata": {},
   "source": [
    "4. What does this code print, and why?\n",
    "def func(a, **kargs):\n",
    "    print(a, kargs)\n",
    "func(a=1, c=3, b=2)"
   ]
  },
  {
   "cell_type": "code",
   "execution_count": 7,
   "id": "ab0141d5",
   "metadata": {},
   "outputs": [
    {
     "name": "stdout",
     "output_type": "stream",
     "text": [
      "1 {'c': 3, 'b': 2}\n"
     ]
    }
   ],
   "source": [
    "def func(a, **kargs):\n",
    "    print(a, kargs)\n",
    "func(a=1, c=3, b=2)"
   ]
  },
  {
   "cell_type": "markdown",
   "id": "3c4fadaf",
   "metadata": {},
   "source": [
    "'''\n",
    "Ans:\n",
    "The function takes 2 arguements (a, **kargs).\n",
    "**kargs is used for taking data in key_value pairs.\n",
    "\n",
    "we are passing func(a=1, c= 3, b = 2)\n",
    "\n",
    "so the output will be print(a, kargs)\n",
    "                  i,e 1 {'c':3, 'b':2}  \n",
    "'''"
   ]
  },
  {
   "cell_type": "code",
   "execution_count": null,
   "id": "60b7dc6d",
   "metadata": {},
   "outputs": [],
   "source": []
  },
  {
   "cell_type": "markdown",
   "id": "aa7a9141",
   "metadata": {},
   "source": [
    "5. What gets printed by this, and explain?\n",
    "def func(a, b, c=8, d=5): \n",
    "    print(a, b, c, d)\n",
    "func(1, *(5, 6))"
   ]
  },
  {
   "cell_type": "code",
   "execution_count": 8,
   "id": "6ce2212c",
   "metadata": {},
   "outputs": [
    {
     "name": "stdout",
     "output_type": "stream",
     "text": [
      "1 5 6 5\n"
     ]
    }
   ],
   "source": [
    "def func(a, b, c=8, d=5): \n",
    "    print(a, b, c, d)\n",
    "func(1, *(5, 6))"
   ]
  },
  {
   "cell_type": "markdown",
   "id": "9bbd5e3d",
   "metadata": {},
   "source": [
    "'''\n",
    "Ans:\n",
    "* is operaotor the unpacks iterable objects.\n",
    "\n",
    "so *(5,6) will become 5 6 that will be passed to b and c,\n",
    "d is set 5 by default \n",
    "a will be 1.\n",
    "so,\n",
    "print(a,b,c,d)\n",
    "---> 1 5 6 5\n",
    "'''"
   ]
  },
  {
   "cell_type": "code",
   "execution_count": null,
   "id": "40df2027",
   "metadata": {},
   "outputs": [],
   "source": []
  },
  {
   "cell_type": "markdown",
   "id": "c32e7d57",
   "metadata": {},
   "source": [
    "6. what is the result of this, and explain?\n",
    "def func(a, b, c): a = 2; b[0] = 'x' ; c['a'] = 'y'\n",
    "    l=1; m=[1]; n={'a':0}\n",
    "func(l, m, n)"
   ]
  },
  {
   "cell_type": "markdown",
   "id": "7b4520b3",
   "metadata": {},
   "source": [
    "def func(a, b, c):\n",
    "    a = 2; b[0] = 'x' ; c['a'] = 'y'\n",
    "    \n",
    "l=1\n",
    "m=[1]\n",
    "n={'a':0}\n"
   ]
  },
  {
   "cell_type": "code",
   "execution_count": 14,
   "id": "836d9947",
   "metadata": {},
   "outputs": [
    {
     "data": {
      "text/plain": [
       "(1, ['x'], {'a': 'y'})"
      ]
     },
     "execution_count": 14,
     "metadata": {},
     "output_type": "execute_result"
    }
   ],
   "source": [
    "func(l,m,n)\n",
    "\n",
    "l, m, n"
   ]
  },
  {
   "cell_type": "markdown",
   "id": "3d43f7fa",
   "metadata": {},
   "source": [
    "'''\n",
    "Ans.\n",
    "Here in the code, the list and dict are passed as argument, and those are mutable. Here the list l and parameter b point \n",
    "to the same list in the memory location where as dict n and c point to the same memory location. Any updates to this \n",
    "list will update in the memory location\n",
    "\n",
    "l = 1 , integer values, immutable, m is list, mutable, n is dict, mutable.\n",
    "output will be = 1,['x'],{'a':'y'}\n",
    "'''"
   ]
  },
  {
   "cell_type": "code",
   "execution_count": null,
   "id": "fb6d5020",
   "metadata": {},
   "outputs": [],
   "source": []
  }
 ],
 "metadata": {
  "kernelspec": {
   "display_name": "Python 3 (ipykernel)",
   "language": "python",
   "name": "python3"
  },
  "language_info": {
   "codemirror_mode": {
    "name": "ipython",
    "version": 3
   },
   "file_extension": ".py",
   "mimetype": "text/x-python",
   "name": "python",
   "nbconvert_exporter": "python",
   "pygments_lexer": "ipython3",
   "version": "3.9.12"
  }
 },
 "nbformat": 4,
 "nbformat_minor": 5
}
