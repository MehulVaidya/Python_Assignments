{
 "cells": [
  {
   "cell_type": "markdown",
   "id": "d2d992e9",
   "metadata": {},
   "source": [
    "1 . Write a Python Program to Find LCM?"
   ]
  },
  {
   "cell_type": "code",
   "execution_count": 1,
   "id": "dc6ecb68",
   "metadata": {},
   "outputs": [],
   "source": [
    "def LCM(a, b):\n",
    "    try:\n",
    "        for i in range(1, a*b+1):\n",
    "            if i%a == 0 and i%b == 0:\n",
    "                return f'LCM of Numbers is {i}'\n",
    "                break\n",
    "    except Exception as e:\n",
    "        return e"
   ]
  },
  {
   "cell_type": "code",
   "execution_count": 2,
   "id": "cc461078",
   "metadata": {},
   "outputs": [
    {
     "data": {
      "text/plain": [
       "'LCM of Numbers is 6'"
      ]
     },
     "execution_count": 2,
     "metadata": {},
     "output_type": "execute_result"
    }
   ],
   "source": [
    "LCM(2,6)"
   ]
  },
  {
   "cell_type": "code",
   "execution_count": null,
   "id": "69b6b3f2",
   "metadata": {},
   "outputs": [],
   "source": []
  },
  {
   "cell_type": "markdown",
   "id": "30cff2d3",
   "metadata": {},
   "source": [
    "2 . Write a Python Program to Find HCF?"
   ]
  },
  {
   "cell_type": "code",
   "execution_count": 3,
   "id": "c9def8cd",
   "metadata": {},
   "outputs": [
    {
     "data": {
      "text/plain": [
       "'ex: two numbers are 25:\\n    25 divided by 15 remainder 10\\n    15 divided by 10 remainder  5\\n    10 diveded by 5 remainder   0\\n    \\n    so when remainder == 0 then that divisor will be hcf/gcd.'"
      ]
     },
     "execution_count": 3,
     "metadata": {},
     "output_type": "execute_result"
    }
   ],
   "source": [
    "'''ex: two numbers are 25:\n",
    "    25 divided by 15 remainder 10\n",
    "    15 divided by 10 remainder  5\n",
    "    10 diveded by 5 remainder   0\n",
    "    \n",
    "    so when remainder == 0 then that divisor will be hcf/gcd.'''"
   ]
  },
  {
   "cell_type": "code",
   "execution_count": 4,
   "id": "fafd585a",
   "metadata": {},
   "outputs": [],
   "source": [
    "def HCF(a, b):\n",
    "    try:\n",
    "        while a%b != 0:\n",
    "            rem = a%b\n",
    "            a = b\n",
    "            b = rem\n",
    "\n",
    "        return f'HCF is {b}'\n",
    "    except Exception as e:\n",
    "        return e"
   ]
  },
  {
   "cell_type": "code",
   "execution_count": 5,
   "id": "54d3138b",
   "metadata": {},
   "outputs": [
    {
     "data": {
      "text/plain": [
       "'HCF is 5'"
      ]
     },
     "execution_count": 5,
     "metadata": {},
     "output_type": "execute_result"
    }
   ],
   "source": [
    "HCF(25,15)"
   ]
  },
  {
   "cell_type": "code",
   "execution_count": null,
   "id": "468eae8e",
   "metadata": {},
   "outputs": [],
   "source": []
  },
  {
   "cell_type": "markdown",
   "id": "070cfabd",
   "metadata": {},
   "source": [
    "3 . Write a Python Program to Convert Decimal to Binary, Octal and Hexadecimal?"
   ]
  },
  {
   "cell_type": "code",
   "execution_count": 6,
   "id": "8b4de630",
   "metadata": {},
   "outputs": [],
   "source": [
    "def Decimal_converter(a):\n",
    "    try:\n",
    "        return f'Binary conversion for {a} is {bin(a)}'\n",
    "        return f'Octal conversion for {a} is {oct(a)}'\n",
    "        return f'Hexadecimal conversion for {a} is {hex(a)}'\n",
    "    except Exception as e:\n",
    "        return e"
   ]
  },
  {
   "cell_type": "code",
   "execution_count": 7,
   "id": "98b5fa68",
   "metadata": {},
   "outputs": [
    {
     "data": {
      "text/plain": [
       "'Binary conversion for 60 is 0b111100'"
      ]
     },
     "execution_count": 7,
     "metadata": {},
     "output_type": "execute_result"
    }
   ],
   "source": [
    "Decimal_converter(60)"
   ]
  },
  {
   "cell_type": "code",
   "execution_count": null,
   "id": "fd50c10a",
   "metadata": {},
   "outputs": [],
   "source": []
  },
  {
   "cell_type": "markdown",
   "id": "0b0a0798",
   "metadata": {},
   "source": [
    "4 . Write a Python Program To Find ASCII value of a character?"
   ]
  },
  {
   "cell_type": "code",
   "execution_count": 8,
   "id": "58672b72",
   "metadata": {},
   "outputs": [],
   "source": [
    "def ASCII_Value():\n",
    "    a = input('')\n",
    "    try:\n",
    "        return f'The ASCII value of {a} is {ord(a)}'\n",
    "    except Exception as e:\n",
    "        return e"
   ]
  },
  {
   "cell_type": "code",
   "execution_count": 9,
   "id": "dd6de493",
   "metadata": {},
   "outputs": [
    {
     "name": "stdout",
     "output_type": "stream",
     "text": [
      "i\n"
     ]
    },
    {
     "data": {
      "text/plain": [
       "'The ASCII value of i is 105'"
      ]
     },
     "execution_count": 9,
     "metadata": {},
     "output_type": "execute_result"
    }
   ],
   "source": [
    "ASCII_Value()"
   ]
  },
  {
   "cell_type": "code",
   "execution_count": null,
   "id": "57626d2f",
   "metadata": {},
   "outputs": [],
   "source": []
  },
  {
   "cell_type": "markdown",
   "id": "45c07a7e",
   "metadata": {},
   "source": [
    "5 . Write a Python Program to Make a Simple Calculator with 4 basic mathematical operations?"
   ]
  },
  {
   "cell_type": "code",
   "execution_count": 10,
   "id": "cb360ddf",
   "metadata": {},
   "outputs": [],
   "source": [
    "def Simple_Calculator():\n",
    "    print('1.add, 2.substract, 3.divide, 4.multiply')    \n",
    "    \n",
    "    operation = int(input('Choose the Operation Number :'))\n",
    "    \n",
    "    \n",
    "    \n",
    "    if operation == 1:\n",
    "        a = int(input('Enter the first number: '))\n",
    "        b = int(input('Enter the Second Number: '))\n",
    "        return f'The addition value is {a+b}'\n",
    "\n",
    "    elif operation == 2:\n",
    "        a = int(input('Enter the first number: '))\n",
    "        b = int(input('Enter the Second Number: '))\n",
    "        return f'The substraction value is {a-b}'\n",
    "\n",
    "    elif operation == 3:\n",
    "        a = int(input('Enter the first number: '))\n",
    "        b = int(input('Enter the Second Number: '))\n",
    "        return f'The division value is {a/b}'\n",
    "\n",
    "\n",
    "    elif operation == 4:\n",
    "        a = int(input('Enter the first number: '))\n",
    "        b = int(input('Enter the Second Number: '))\n",
    "        return  f'The Multiplication value is {a*b}'\n",
    "    else:\n",
    "        return 'The Function takes a value between 1 and 4'\n",
    "\n",
    "        \n"
   ]
  },
  {
   "cell_type": "code",
   "execution_count": 11,
   "id": "5f4cd0e0",
   "metadata": {},
   "outputs": [
    {
     "name": "stdout",
     "output_type": "stream",
     "text": [
      "1.add, 2.substract, 3.divide, 4.multiply\n",
      "Choose the Operation Number :2\n",
      "Enter the first number: 5\n",
      "Enter the Second Number: 3\n"
     ]
    },
    {
     "data": {
      "text/plain": [
       "'The substraction value is 2'"
      ]
     },
     "execution_count": 11,
     "metadata": {},
     "output_type": "execute_result"
    }
   ],
   "source": [
    "Simple_Calculator()"
   ]
  },
  {
   "cell_type": "code",
   "execution_count": null,
   "id": "73f4e059",
   "metadata": {},
   "outputs": [],
   "source": []
  },
  {
   "cell_type": "code",
   "execution_count": null,
   "id": "5ba42c55",
   "metadata": {},
   "outputs": [],
   "source": []
  }
 ],
 "metadata": {
  "kernelspec": {
   "display_name": "Python 3 (ipykernel)",
   "language": "python",
   "name": "python3"
  },
  "language_info": {
   "codemirror_mode": {
    "name": "ipython",
    "version": 3
   },
   "file_extension": ".py",
   "mimetype": "text/x-python",
   "name": "python",
   "nbconvert_exporter": "python",
   "pygments_lexer": "ipython3",
   "version": "3.9.12"
  }
 },
 "nbformat": 4,
 "nbformat_minor": 5
}
