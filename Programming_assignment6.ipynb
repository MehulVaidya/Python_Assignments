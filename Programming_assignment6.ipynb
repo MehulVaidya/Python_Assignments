{
 "cells": [
  {
   "cell_type": "markdown",
   "id": "64c33c90",
   "metadata": {},
   "source": [
    "1 . Write a Python Program to Display Fibonacci Sequence Using Recursion?"
   ]
  },
  {
   "cell_type": "code",
   "execution_count": 1,
   "id": "4667ac34",
   "metadata": {},
   "outputs": [],
   "source": [
    "def fibo(i):\n",
    "    try:\n",
    "        if i == 0:\n",
    "            return 0\n",
    "        elif i == 1:\n",
    "            return 1\n",
    "        else:\n",
    "            return fibo(i-1) + fibo(i-2)\n",
    "    except Exception as e:\n",
    "        return e"
   ]
  },
  {
   "cell_type": "code",
   "execution_count": 2,
   "id": "277dbdab",
   "metadata": {},
   "outputs": [],
   "source": [
    "def fib_recurrsion(n):\n",
    "    '''Function returns fibonacci sequence of given number'''\n",
    "    try:\n",
    "        for i in range(n):\n",
    "            print(fibo(i), end = ',')\n",
    "    except Exception as e:\n",
    "        return e\n",
    "    "
   ]
  },
  {
   "cell_type": "code",
   "execution_count": 3,
   "id": "95b2530e",
   "metadata": {},
   "outputs": [
    {
     "name": "stdout",
     "output_type": "stream",
     "text": [
      "0,1,1,2,3,5,8,13,21,34,"
     ]
    }
   ],
   "source": [
    "fib_recurrsion(10)"
   ]
  },
  {
   "cell_type": "code",
   "execution_count": null,
   "id": "76428e07",
   "metadata": {},
   "outputs": [],
   "source": []
  },
  {
   "cell_type": "markdown",
   "id": "954e032a",
   "metadata": {},
   "source": [
    "2 . Write a Python Program to Find Factorial of Number Using Recursion?"
   ]
  },
  {
   "cell_type": "code",
   "execution_count": 4,
   "id": "25f5bc17",
   "metadata": {},
   "outputs": [],
   "source": [
    "def fact(n):\n",
    "    try:\n",
    "        if n == 1:\n",
    "            return 1\n",
    "        else:\n",
    "            return n * fact(n-1)\n",
    "        \n",
    "    except Exception as e:\n",
    "        return e   "
   ]
  },
  {
   "cell_type": "code",
   "execution_count": 5,
   "id": "e40e7ac7",
   "metadata": {},
   "outputs": [
    {
     "data": {
      "text/plain": [
       "6"
      ]
     },
     "execution_count": 5,
     "metadata": {},
     "output_type": "execute_result"
    }
   ],
   "source": [
    "fact(3)"
   ]
  },
  {
   "cell_type": "markdown",
   "id": "2a63346c",
   "metadata": {},
   "source": [
    "3 . Write a Python Program to calculate your Body Mass Index?"
   ]
  },
  {
   "cell_type": "code",
   "execution_count": 6,
   "id": "251025ce",
   "metadata": {},
   "outputs": [],
   "source": [
    "def BMI(height, weight):\n",
    "    '''Function calucalates  body mass index(height in m, weight in kg)'''\n",
    "    bmi = weight/(height**2)\n",
    "    \n",
    "    try:\n",
    "        if bmi < 16:\n",
    "            return f'Your BMI is {bmi}, and you are Severly Underweight'\n",
    "        \n",
    "        elif bmi >= 16 and bmi < 18.5:\n",
    "            return f'Your BMI is {bmi}, and you are Underweight'\n",
    "        \n",
    "        elif bmi >= 18.5 and bmi < 25:\n",
    "            return f'Your BMI is {bmi}, and you are healthy'\n",
    "        \n",
    "        elif bmi >= 25 and bmi < 30:\n",
    "            return f'Your BMI is {bmi}, and you are Overweight'\n",
    "        \n",
    "        elif bmi >= 30:\n",
    "            return f'Your BMI is {bmi}, and you are obese'\n",
    "        \n",
    "        else:\n",
    "            pass\n",
    "        \n",
    "    except Ecxeption as e:\n",
    "        return e"
   ]
  },
  {
   "cell_type": "code",
   "execution_count": 7,
   "id": "7d9ad17a",
   "metadata": {},
   "outputs": [
    {
     "data": {
      "text/plain": [
       "'Your BMI is 20.061728395061728, and you are healthy'"
      ]
     },
     "execution_count": 7,
     "metadata": {},
     "output_type": "execute_result"
    }
   ],
   "source": [
    "BMI(1.8, 65)"
   ]
  },
  {
   "cell_type": "code",
   "execution_count": null,
   "id": "39918f9f",
   "metadata": {},
   "outputs": [],
   "source": []
  },
  {
   "cell_type": "code",
   "execution_count": 8,
   "id": "b598b59c",
   "metadata": {},
   "outputs": [
    {
     "name": "stdout",
     "output_type": "stream",
     "text": [
      "Object `number` not found.\n"
     ]
    }
   ],
   "source": [
    "4 . Write a Python Program to calculate the natural logarithm of any number?"
   ]
  },
  {
   "cell_type": "code",
   "execution_count": null,
   "id": "8c76a7ca",
   "metadata": {},
   "outputs": [],
   "source": [
    "4 . Write a Python Program to calculate the natural logarithm of any number"
   ]
  },
  {
   "cell_type": "code",
   "execution_count": 9,
   "id": "622c1963",
   "metadata": {},
   "outputs": [],
   "source": [
    "import math\n",
    "def Get_loagarithm(n):\n",
    "    '''Function returns logarithmic value for a given number'''\n",
    "    try:\n",
    "        return  f'The logarithm value for {n} number is {math.log(n)}'\n",
    "    \n",
    "    except Exception as e:\n",
    "        return e"
   ]
  },
  {
   "cell_type": "code",
   "execution_count": 10,
   "id": "5992f3ff",
   "metadata": {},
   "outputs": [
    {
     "data": {
      "text/plain": [
       "'The logarithm value for 10 number is 2.302585092994046'"
      ]
     },
     "execution_count": 10,
     "metadata": {},
     "output_type": "execute_result"
    }
   ],
   "source": [
    "Get_loagarithm(10)"
   ]
  },
  {
   "cell_type": "code",
   "execution_count": null,
   "id": "b88d32c5",
   "metadata": {},
   "outputs": [],
   "source": []
  },
  {
   "cell_type": "markdown",
   "id": "d7913511",
   "metadata": {},
   "source": [
    "5 . Write a Python Program for cube sum of first n natural numbers?"
   ]
  },
  {
   "cell_type": "code",
   "execution_count": 11,
   "id": "f5156ebf",
   "metadata": {},
   "outputs": [],
   "source": [
    "def cube_sum(n):\n",
    "    '''Function returns sum of cubes for given number'''\n",
    "    sum = 0\n",
    "    \n",
    "    if n<=0:\n",
    "        return 'the function takes number greater than zero'\n",
    "    elif n >= 1:\n",
    "        try:\n",
    "            for i in range(1, n+1):\n",
    "                sum += i**3\n",
    "            return sum\n",
    "\n",
    "        except Exception as e:\n",
    "            return e\n"
   ]
  },
  {
   "cell_type": "code",
   "execution_count": 12,
   "id": "a34174c5",
   "metadata": {},
   "outputs": [
    {
     "data": {
      "text/plain": [
       "225"
      ]
     },
     "execution_count": 12,
     "metadata": {},
     "output_type": "execute_result"
    }
   ],
   "source": [
    "cube_sum(5)"
   ]
  },
  {
   "cell_type": "code",
   "execution_count": null,
   "id": "a48322aa",
   "metadata": {},
   "outputs": [],
   "source": []
  }
 ],
 "metadata": {
  "kernelspec": {
   "display_name": "Python 3 (ipykernel)",
   "language": "python",
   "name": "python3"
  },
  "language_info": {
   "codemirror_mode": {
    "name": "ipython",
    "version": 3
   },
   "file_extension": ".py",
   "mimetype": "text/x-python",
   "name": "python",
   "nbconvert_exporter": "python",
   "pygments_lexer": "ipython3",
   "version": "3.9.12"
  }
 },
 "nbformat": 4,
 "nbformat_minor": 5
}
