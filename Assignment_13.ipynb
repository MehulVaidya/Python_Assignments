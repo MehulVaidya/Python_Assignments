{
 "cells": [
  {
   "cell_type": "markdown",
   "id": "319eacee",
   "metadata": {},
   "source": [
    "1. What advantages do Excel spreadsheets have over CSV spreadsheets?"
   ]
  },
  {
   "cell_type": "markdown",
   "id": "6faeb53c",
   "metadata": {},
   "source": [
    "ans:\n",
    "    \n",
    "advantages excel has over csv spreadsheets:\n",
    "    \n",
    "1.text editors cannot edit files saved in excel format.\n",
    "\n",
    "2.VBA can be performed in excel which cannot be done in csv.\n",
    "\n",
    "3.files in excel format can be password protected."
   ]
  },
  {
   "cell_type": "code",
   "execution_count": null,
   "id": "e1351e2e",
   "metadata": {},
   "outputs": [],
   "source": []
  },
  {
   "cell_type": "markdown",
   "id": "a1be662b",
   "metadata": {},
   "source": [
    "2.What do you pass to csv.reader() and csv.writer() to create reader and writer objects?"
   ]
  },
  {
   "cell_type": "code",
   "execution_count": 6,
   "id": "cc4668fe",
   "metadata": {},
   "outputs": [
    {
     "data": {
      "text/plain": [
       "[['name', 'age'], ['ross', '22'], ['joey', '23']]"
      ]
     },
     "execution_count": 6,
     "metadata": {},
     "output_type": "execute_result"
    }
   ],
   "source": [
    "import csv\n",
    "csvfile = open('xyz.csv')\n",
    "filereader = csv.reader(csvfile)\n",
    "file = list(filereader)\n",
    "file"
   ]
  },
  {
   "cell_type": "markdown",
   "id": "e7d32141",
   "metadata": {},
   "source": [
    "ans: we pass file object to reader and writed objects"
   ]
  },
  {
   "cell_type": "code",
   "execution_count": null,
   "id": "b573466d",
   "metadata": {},
   "outputs": [],
   "source": []
  },
  {
   "cell_type": "markdown",
   "id": "8eea9713",
   "metadata": {},
   "source": [
    "3. What modes do File objects for reader and writer objects need to be opened in?"
   ]
  },
  {
   "cell_type": "markdown",
   "id": "4c70945d",
   "metadata": {},
   "source": [
    "ans: they need to be opened in read-binary 'rb' mode for reader and  write-binary 'wb' for writed objects"
   ]
  },
  {
   "cell_type": "code",
   "execution_count": null,
   "id": "7eb56e5d",
   "metadata": {},
   "outputs": [],
   "source": []
  },
  {
   "cell_type": "markdown",
   "id": "14b8193e",
   "metadata": {},
   "source": [
    "4. What method takes a list argument and writes it to a CSV file?"
   ]
  },
  {
   "cell_type": "markdown",
   "id": "5a0df8cb",
   "metadata": {},
   "source": [
    "ans: the writerows() method takes a list arguement and writes it to a csv file."
   ]
  },
  {
   "cell_type": "code",
   "execution_count": null,
   "id": "b702b1da",
   "metadata": {},
   "outputs": [],
   "source": []
  },
  {
   "cell_type": "markdown",
   "id": "d98a0781",
   "metadata": {},
   "source": [
    "5. What do the keyword arguments delimiter and line terminator do?"
   ]
  },
  {
   "cell_type": "markdown",
   "id": "1e5c979c",
   "metadata": {},
   "source": [
    "ans: delimeter argument changes the string to seperate the data in a row.\n",
    "    \n",
    "    the lineterminator argument is used to seperate at the end of the rows."
   ]
  },
  {
   "cell_type": "code",
   "execution_count": null,
   "id": "f7a33075",
   "metadata": {},
   "outputs": [],
   "source": []
  },
  {
   "cell_type": "markdown",
   "id": "224204f2",
   "metadata": {},
   "source": [
    "6. What function takes a string of JSON data and returns a Python data structure?"
   ]
  },
  {
   "cell_type": "markdown",
   "id": "a15cb1a7",
   "metadata": {},
   "source": [
    "ans: json.loads() takes a string as json and returns  a python object like dictionary"
   ]
  },
  {
   "cell_type": "code",
   "execution_count": null,
   "id": "1d264eff",
   "metadata": {},
   "outputs": [],
   "source": []
  },
  {
   "cell_type": "markdown",
   "id": "9205019a",
   "metadata": {},
   "source": [
    "7. What function takes a Python data structure and returns a string of JSON data?"
   ]
  },
  {
   "cell_type": "markdown",
   "id": "687e7f09",
   "metadata": {},
   "source": [
    "ans: json.dumps() take data and converts in into a json format and return json data"
   ]
  },
  {
   "cell_type": "code",
   "execution_count": null,
   "id": "c9b04458",
   "metadata": {},
   "outputs": [],
   "source": []
  }
 ],
 "metadata": {
  "kernelspec": {
   "display_name": "Python 3 (ipykernel)",
   "language": "python",
   "name": "python3"
  },
  "language_info": {
   "codemirror_mode": {
    "name": "ipython",
    "version": 3
   },
   "file_extension": ".py",
   "mimetype": "text/x-python",
   "name": "python",
   "nbconvert_exporter": "python",
   "pygments_lexer": "ipython3",
   "version": "3.9.12"
  }
 },
 "nbformat": 4,
 "nbformat_minor": 5
}
