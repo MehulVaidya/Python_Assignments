{
 "cells": [
  {
   "cell_type": "markdown",
   "id": "7426e28f-038d-47c1-a647-36af06f3213d",
   "metadata": {},
   "source": [
    "1. To what does a relative path refer?"
   ]
  },
  {
   "cell_type": "markdown",
   "id": "58f1ea94-cfa4-4a30-b200-dfb21d1bcb5c",
   "metadata": {},
   "source": [
    "ans: the relative path refers to a file which is present in the current working directory."
   ]
  },
  {
   "cell_type": "code",
   "execution_count": null,
   "id": "c87918b5-d756-452a-a30c-4e1506cb0661",
   "metadata": {},
   "outputs": [],
   "source": []
  },
  {
   "cell_type": "markdown",
   "id": "4d1fe5e6-714e-4bc9-95e4-188856dbf195",
   "metadata": {},
   "source": [
    "2. What does an absolute path start with your operating system?"
   ]
  },
  {
   "cell_type": "markdown",
   "id": "dc1bb53b-0f7c-43da-806a-a87b8586fc7e",
   "metadata": {},
   "source": [
    "ans: an absolute path starts our harddrive and guides for the steps to be taken using our file system \n",
    "to reach the desired location."
   ]
  },
  {
   "cell_type": "code",
   "execution_count": null,
   "id": "ff5fbfe8-9e5e-4591-a747-6b51cc7aaecc",
   "metadata": {},
   "outputs": [],
   "source": []
  },
  {
   "cell_type": "markdown",
   "id": "9ce6ea3b-b4c2-41a1-8063-1fd4990baa5a",
   "metadata": {},
   "source": [
    "3. What do the functions os.getcwd() and os.chdir() do?"
   ]
  },
  {
   "cell_type": "markdown",
   "id": "fc568350-4708-4599-a63e-5483cee1def7",
   "metadata": {},
   "source": [
    "ans: os.getcwd() gives us the current working directory, where we are currently writing code.\n",
    "\n",
    "     os.chdir() is used for changing  our path/directory to another path."
   ]
  },
  {
   "cell_type": "code",
   "execution_count": null,
   "id": "2e4716e0-2f4c-4d25-ab08-b31642a0dca2",
   "metadata": {},
   "outputs": [],
   "source": []
  },
  {
   "cell_type": "markdown",
   "id": "4802a779-6872-4744-9db5-ce54399c08e1",
   "metadata": {},
   "source": [
    "4. What are the . and .. folders?"
   ]
  },
  {
   "cell_type": "markdown",
   "id": "30fcd965-b62e-4f04-a52b-391b5baf150d",
   "metadata": {},
   "source": [
    "ans: the . is the current working directory, where as .. is the parent directory."
   ]
  },
  {
   "cell_type": "code",
   "execution_count": null,
   "id": "99759876-3586-476e-b3f5-3971c28075a0",
   "metadata": {},
   "outputs": [],
   "source": []
  },
  {
   "cell_type": "markdown",
   "id": "8048d151-5514-450f-bbeb-2ed56838e915",
   "metadata": {},
   "source": [
    "5. In C:\\bacon\\eggs\\spam.txt, which part is the dir name, and which part is the base name?"
   ]
  },
  {
   "cell_type": "markdown",
   "id": "e57fcfb7-8e63-47a0-9e8c-dd49a35a6838",
   "metadata": {},
   "source": [
    "ans: spam.txt is the base name, where as C:\\bacon\\eggs is the dirctory name"
   ]
  },
  {
   "cell_type": "code",
   "execution_count": null,
   "id": "e009b788-7dab-41cb-a2c1-8fb9c06846df",
   "metadata": {},
   "outputs": [],
   "source": []
  },
  {
   "cell_type": "markdown",
   "id": "3758b2b2-1db2-4e94-b813-54fe90b68ae9",
   "metadata": {},
   "source": [
    "6. What are the three “mode” arguments that can be passed to the open() function?"
   ]
  },
  {
   "cell_type": "markdown",
   "id": "712e56e2-0348-4a9d-be20-333c531d0aa2",
   "metadata": {},
   "source": [
    "ans: read, write, append are three modes that can be passed to the open function.\n",
    "\n",
    "     read is used for reading lines in the file, \n",
    "     write is to overwite some  file that is existing.\n",
    "     append is used to add new information to a file."
   ]
  },
  {
   "cell_type": "code",
   "execution_count": null,
   "id": "ba74b0b8-955f-44d5-8b57-00360a19b9c6",
   "metadata": {},
   "outputs": [],
   "source": []
  },
  {
   "cell_type": "markdown",
   "id": "ec639be3-1bab-4fdc-a8db-6266b918e830",
   "metadata": {},
   "source": [
    "7. What happens if an existing file is opened in write mode?"
   ]
  },
  {
   "cell_type": "markdown",
   "id": "c4c44e01-9d49-461d-a6e7-37c0ebfc9fa0",
   "metadata": {},
   "source": [
    "ans: if an existing file is opened using write mode it will delete existing content present in the file."
   ]
  },
  {
   "cell_type": "code",
   "execution_count": null,
   "id": "68b99091-da1e-4942-b5b0-80f5e2324d82",
   "metadata": {},
   "outputs": [],
   "source": []
  },
  {
   "cell_type": "markdown",
   "id": "998d9c38-5cea-4e26-af60-b431d3bc22dd",
   "metadata": {},
   "source": [
    "8. How do you tell the difference between read() and readlines()?"
   ]
  },
  {
   "cell_type": "markdown",
   "id": "1431d69f-f8ad-44aa-b2f9-37c283854061",
   "metadata": {},
   "source": [
    "ans: read() will return all the content in the file at once,\n",
    "     readlines() will return a list of specified bytes."
   ]
  },
  {
   "cell_type": "code",
   "execution_count": null,
   "id": "e9b0d30f-4704-41c4-887a-070177750e32",
   "metadata": {},
   "outputs": [],
   "source": []
  },
  {
   "cell_type": "markdown",
   "id": "224244c8-bff7-45aa-85c2-ba85a4b80094",
   "metadata": {},
   "source": [
    "9. What data structure does a shelf value resemble?"
   ]
  },
  {
   "cell_type": "markdown",
   "id": "74e572ff-4158-4559-be97-973614a117e1",
   "metadata": {},
   "source": [
    "ans: a shelf value resembles  a dictionary value."
   ]
  },
  {
   "cell_type": "code",
   "execution_count": null,
   "id": "8d787283-c57d-4684-94a7-5b4a6028a34b",
   "metadata": {},
   "outputs": [],
   "source": []
  }
 ],
 "metadata": {
  "kernelspec": {
   "display_name": "Python 3 (ipykernel)",
   "language": "python",
   "name": "python3"
  },
  "language_info": {
   "codemirror_mode": {
    "name": "ipython",
    "version": 3
   },
   "file_extension": ".py",
   "mimetype": "text/x-python",
   "name": "python",
   "nbconvert_exporter": "python",
   "pygments_lexer": "ipython3",
   "version": "3.10.6"
  }
 },
 "nbformat": 4,
 "nbformat_minor": 5
}
