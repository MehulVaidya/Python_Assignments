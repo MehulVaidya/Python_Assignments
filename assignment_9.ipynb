{
 "cells": [
  {
   "cell_type": "raw",
   "id": "69c30114-c542-466a-9c0d-e2d8d383f5fb",
   "metadata": {},
   "source": [
    "1. To what does a relative path refer?"
   ]
  },
  {
   "cell_type": "raw",
   "id": "6987b271-4720-4b82-8325-ba96c34e0fab",
   "metadata": {},
   "source": [
    "ans: the relative path refers to a file which is present in the current working directory."
   ]
  },
  {
   "cell_type": "code",
   "execution_count": null,
   "id": "c87918b5-d756-452a-a30c-4e1506cb0661",
   "metadata": {},
   "outputs": [],
   "source": []
  },
  {
   "cell_type": "raw",
   "id": "783c5632-40bd-4263-9d7d-ca4d4bd22538",
   "metadata": {},
   "source": [
    "2. What does an absolute path start with your operating system?"
   ]
  },
  {
   "cell_type": "raw",
   "id": "e997d154-1bfa-4a02-92bb-6420e4391eb6",
   "metadata": {},
   "source": [
    "ans: an absolute path starts our harddrive and guides for the steps to be taken using our file system \n",
    "to reach the desired location."
   ]
  },
  {
   "cell_type": "code",
   "execution_count": null,
   "id": "ff5fbfe8-9e5e-4591-a747-6b51cc7aaecc",
   "metadata": {},
   "outputs": [],
   "source": []
  },
  {
   "cell_type": "raw",
   "id": "d9c78b79-05b7-4b6f-a0fe-e7796660c23a",
   "metadata": {},
   "source": [
    "3. What do the functions os.getcwd() and os.chdir() do?"
   ]
  },
  {
   "cell_type": "raw",
   "id": "3f0b5334-d1bb-46fa-80b1-efc40912de88",
   "metadata": {},
   "source": [
    "ans: os.getcwd() gives us the current working directory, where we are currently writing code.\n",
    "\n",
    "     os.chdir() is used for changing  our path/directory to another path."
   ]
  },
  {
   "cell_type": "code",
   "execution_count": null,
   "id": "2e4716e0-2f4c-4d25-ab08-b31642a0dca2",
   "metadata": {},
   "outputs": [],
   "source": []
  },
  {
   "cell_type": "raw",
   "id": "a6d59585-9033-43fa-9e01-aaf308b329d4",
   "metadata": {},
   "source": [
    "4. What are the . and .. folders?"
   ]
  },
  {
   "cell_type": "raw",
   "id": "c82f98f7-7d28-4969-918a-caaa44605af1",
   "metadata": {},
   "source": [
    "ans: the . is the current working directory, where as .. is the parent directory."
   ]
  },
  {
   "cell_type": "code",
   "execution_count": null,
   "id": "99759876-3586-476e-b3f5-3971c28075a0",
   "metadata": {},
   "outputs": [],
   "source": []
  },
  {
   "cell_type": "raw",
   "id": "314fa4f8-f109-409e-9650-95b1d74f2f18",
   "metadata": {},
   "source": [
    "5. In C:\\bacon\\eggs\\spam.txt, which part is the dir name, and which part is the base name?"
   ]
  },
  {
   "cell_type": "raw",
   "id": "26620cb9-41ed-4074-ae88-6efb21232d4d",
   "metadata": {},
   "source": [
    "ans: spam.txt is the base name, where as C:\\bacon\\eggs is the dirctory name"
   ]
  },
  {
   "cell_type": "code",
   "execution_count": null,
   "id": "e009b788-7dab-41cb-a2c1-8fb9c06846df",
   "metadata": {},
   "outputs": [],
   "source": []
  },
  {
   "cell_type": "markdown",
   "id": "3758b2b2-1db2-4e94-b813-54fe90b68ae9",
   "metadata": {},
   "source": [
    "6. What are the three “mode” arguments that can be passed to the open() function?"
   ]
  },
  {
   "cell_type": "raw",
   "id": "d7dccb3b-8d59-46ba-a6bb-5f11c2dbe6c4",
   "metadata": {},
   "source": [
    "ans: read, write, append are three modes that can be passed to the open function.\n",
    "\n",
    "     read is used for reading lines in the file, \n",
    "     write is to overwite some  file that is existing.\n",
    "     append is used to add new information to a file."
   ]
  },
  {
   "cell_type": "code",
   "execution_count": null,
   "id": "ba74b0b8-955f-44d5-8b57-00360a19b9c6",
   "metadata": {},
   "outputs": [],
   "source": []
  },
  {
   "cell_type": "raw",
   "id": "aa44c33a-07b8-4ff8-bfb8-ec6fd3f36b8f",
   "metadata": {},
   "source": [
    "7. What happens if an existing file is opened in write mode?"
   ]
  },
  {
   "cell_type": "raw",
   "id": "c4a99b06-cbc1-4a6b-88e1-936a16de10e3",
   "metadata": {},
   "source": [
    "ans: if an existing file is opened using write mode it will delete existing content present in the file."
   ]
  },
  {
   "cell_type": "code",
   "execution_count": null,
   "id": "68b99091-da1e-4942-b5b0-80f5e2324d82",
   "metadata": {},
   "outputs": [],
   "source": []
  },
  {
   "cell_type": "raw",
   "id": "893314bb-385b-438b-8a45-5da4bac152a6",
   "metadata": {},
   "source": [
    "8. How do you tell the difference between read() and readlines()?"
   ]
  },
  {
   "cell_type": "raw",
   "id": "9d102b2c-270b-49a1-82d1-ad12e2557d2d",
   "metadata": {},
   "source": [
    "ans: read() will return all the content in the file at once,\n",
    "     readlines() will return a list of specified bytes."
   ]
  },
  {
   "cell_type": "code",
   "execution_count": null,
   "id": "e9b0d30f-4704-41c4-887a-070177750e32",
   "metadata": {},
   "outputs": [],
   "source": []
  },
  {
   "cell_type": "raw",
   "id": "820eccfb-d609-4d80-9bf8-0719a67f4b8b",
   "metadata": {},
   "source": [
    "9. What data structure does a shelf value resemble?"
   ]
  },
  {
   "cell_type": "raw",
   "id": "acda557d-4ebb-4344-a119-b3ec8f4fac80",
   "metadata": {},
   "source": [
    "ans: a shelf value resembles  a dictionary value."
   ]
  },
  {
   "cell_type": "code",
   "execution_count": null,
   "id": "8d787283-c57d-4684-94a7-5b4a6028a34b",
   "metadata": {},
   "outputs": [],
   "source": []
  }
 ],
 "metadata": {
  "kernelspec": {
   "display_name": "Python 3 (ipykernel)",
   "language": "python",
   "name": "python3"
  },
  "language_info": {
   "codemirror_mode": {
    "name": "ipython",
    "version": 3
   },
   "file_extension": ".py",
   "mimetype": "text/x-python",
   "name": "python",
   "nbconvert_exporter": "python",
   "pygments_lexer": "ipython3",
   "version": "3.10.6"
  }
 },
 "nbformat": 4,
 "nbformat_minor": 5
}
