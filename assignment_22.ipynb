{
 "cells": [
  {
   "cell_type": "markdown",
   "id": "f270f209",
   "metadata": {},
   "source": [
    "1. What is the result of the code, and explain?\n",
    "\n",
    "\n",
    "X = 'iNeuron'\n",
    "\n",
    "def func():\n",
    "\n",
    "    print(X)\n",
    "\n",
    "func()\n",
    "\n"
   ]
  },
  {
   "cell_type": "code",
   "execution_count": 2,
   "id": "5dde1bbb",
   "metadata": {},
   "outputs": [],
   "source": [
    "x = 'iNeuron'\n",
    "def func():\n",
    "    print(x)\n"
   ]
  },
  {
   "cell_type": "code",
   "execution_count": 3,
   "id": "71c9f34c",
   "metadata": {},
   "outputs": [
    {
     "name": "stdout",
     "output_type": "stream",
     "text": [
      "iNeuron\n"
     ]
    }
   ],
   "source": [
    "func()"
   ]
  },
  {
   "cell_type": "code",
   "execution_count": 4,
   "id": "d006e4fb",
   "metadata": {},
   "outputs": [],
   "source": [
    "#Ans : the output is string 'ineuron' as we have assigned value of  x to 'iNeuron' and the function prints the value of x."
   ]
  },
  {
   "cell_type": "code",
   "execution_count": null,
   "id": "14d795cc",
   "metadata": {},
   "outputs": [],
   "source": []
  },
  {
   "cell_type": "markdown",
   "id": "e202023e",
   "metadata": {},
   "source": [
    "2. What is the result of the code, and explain?\n",
    "\n",
    "X = 'iNeuron';\n",
    "\n",
    "def func():\n",
    "\n",
    "    X = 'NI!'';\n",
    "\n",
    "func()\n",
    "\n",
    "print(X)"
   ]
  },
  {
   "cell_type": "code",
   "execution_count": 6,
   "id": "daab8d5e",
   "metadata": {},
   "outputs": [],
   "source": [
    "X = 'iNeuron'\n",
    "\n",
    "def func():\n",
    "    X = 'NI!'"
   ]
  },
  {
   "cell_type": "code",
   "execution_count": 8,
   "id": "c23ec2f1",
   "metadata": {},
   "outputs": [
    {
     "name": "stdout",
     "output_type": "stream",
     "text": [
      "iNeuron\n"
     ]
    }
   ],
   "source": [
    "func()\n",
    "print(X)"
   ]
  },
  {
   "cell_type": "code",
   "execution_count": 9,
   "id": "6fcdd1ff",
   "metadata": {},
   "outputs": [],
   "source": [
    "#Ans:X = 'iNeuron' is a global variable which can be accesed outside the function, so we are 'iNeuron' as output.\n",
    "\n",
    "#   we cannot access the local variavle X = 'NI!' defined inside the function. \n",
    "# so we get output 'iNeuron'"
   ]
  },
  {
   "cell_type": "code",
   "execution_count": null,
   "id": "5205af10",
   "metadata": {},
   "outputs": [],
   "source": []
  },
  {
   "cell_type": "code",
   "execution_count": null,
   "id": "76b07f27",
   "metadata": {},
   "outputs": [],
   "source": []
  },
  {
   "cell_type": "markdown",
   "id": "06496c7b",
   "metadata": {},
   "source": [
    "3. What does this code print, and why?\n",
    "\n",
    "X = 'iNeuron':\n",
    "    \n",
    "def func():\n",
    "        \n",
    "    X = 'NI':\n",
    "\n",
    "print(X)\n",
    "\n",
    "func()\n",
    "print(X)"
   ]
  },
  {
   "cell_type": "code",
   "execution_count": 11,
   "id": "888a1a82",
   "metadata": {},
   "outputs": [],
   "source": [
    "X = 'iNeuron'\n",
    "\n",
    "def func():\n",
    "    X = 'NI'\n",
    "    print(X)"
   ]
  },
  {
   "cell_type": "code",
   "execution_count": 12,
   "id": "67d0de42",
   "metadata": {},
   "outputs": [
    {
     "name": "stdout",
     "output_type": "stream",
     "text": [
      "NI\n"
     ]
    }
   ],
   "source": [
    "func()"
   ]
  },
  {
   "cell_type": "code",
   "execution_count": 13,
   "id": "89229636",
   "metadata": {},
   "outputs": [
    {
     "name": "stdout",
     "output_type": "stream",
     "text": [
      "iNeuron\n"
     ]
    }
   ],
   "source": [
    "print(X)"
   ]
  },
  {
   "cell_type": "code",
   "execution_count": 14,
   "id": "4b110387",
   "metadata": {},
   "outputs": [],
   "source": [
    "#Ans: \n",
    "# we are able to now access the local variabl X = 'NI' as the function is using print defined inside the function.\n",
    "\n",
    "# print(X) that is used not in the function will return the value of gloabl variable i.e 'iNeuron'"
   ]
  },
  {
   "cell_type": "code",
   "execution_count": null,
   "id": "a1cbe8ff",
   "metadata": {},
   "outputs": [],
   "source": []
  },
  {
   "cell_type": "markdown",
   "id": "20663a52",
   "metadata": {},
   "source": [
    "4. What output does this code produce? Why?\n",
    "\n",
    "X = 'iNeuron';\n",
    "\n",
    "def func():\n",
    "    \n",
    "    global X\n",
    "    \n",
    "    X = 'NI';\n",
    "\n",
    "func()\n",
    "\n",
    "print(X)"
   ]
  },
  {
   "cell_type": "code",
   "execution_count": 20,
   "id": "2c5aa32e",
   "metadata": {},
   "outputs": [],
   "source": [
    "X = 'iNeuron'\n",
    "\n",
    "def func():\n",
    "    global X\n",
    "    X = 'NI'\n",
    "    \n",
    "func()"
   ]
  },
  {
   "cell_type": "code",
   "execution_count": 21,
   "id": "64da845d",
   "metadata": {},
   "outputs": [
    {
     "name": "stdout",
     "output_type": "stream",
     "text": [
      "NI\n"
     ]
    }
   ],
   "source": [
    "print(X)"
   ]
  },
  {
   "cell_type": "code",
   "execution_count": 22,
   "id": "bd544370",
   "metadata": {},
   "outputs": [],
   "source": [
    "# Ans:\n",
    "# we have declared X as a gloabl variable in the function , so now the X = 'NI' will be treated as globa variable.\n",
    "\n",
    "#so print(X) will return 'NI' not 'Ineuron'"
   ]
  },
  {
   "cell_type": "code",
   "execution_count": null,
   "id": "82c554f6",
   "metadata": {},
   "outputs": [],
   "source": []
  },
  {
   "cell_type": "markdown",
   "id": "f3f3eca1",
   "metadata": {},
   "source": [
    "5. What about this code—what’s the output, and why?\n",
    "\n",
    "X = 'iNeuron':\n",
    "    \n",
    "def func():\n",
    "    \n",
    "    X = 'NI':\n",
    "        \n",
    "    def nested():\n",
    "        \n",
    "    print(X)\n",
    "    \n",
    "        nested()\n",
    "\n",
    "func()\n",
    "X"
   ]
  },
  {
   "cell_type": "code",
   "execution_count": 25,
   "id": "de3b7e57",
   "metadata": {},
   "outputs": [],
   "source": [
    "X = 'iNeuron'\n",
    "\n",
    "def func():\n",
    "    X = 'NI'\n",
    "def nested():\n",
    "    print(X)\n",
    "        \n",
    "        \n",
    "        \n",
    "func()"
   ]
  },
  {
   "cell_type": "code",
   "execution_count": 26,
   "id": "70aef2f3",
   "metadata": {},
   "outputs": [
    {
     "name": "stdout",
     "output_type": "stream",
     "text": [
      "iNeuron\n"
     ]
    }
   ],
   "source": [
    "nested()"
   ]
  },
  {
   "cell_type": "code",
   "execution_count": 27,
   "id": "600f150c",
   "metadata": {},
   "outputs": [
    {
     "data": {
      "text/plain": [
       "'iNeuron'"
      ]
     },
     "execution_count": 27,
     "metadata": {},
     "output_type": "execute_result"
    }
   ],
   "source": [
    "X"
   ]
  },
  {
   "cell_type": "code",
   "execution_count": 28,
   "id": "feb3ca63",
   "metadata": {},
   "outputs": [],
   "source": [
    "#ans: \n",
    "#func does not return anything.\n",
    "\n",
    "# nested() will print the value of X i.e 'iNeuron'\n",
    "# so when nested() is called it will return iNeuron\n",
    "\n",
    "\n",
    "#X will return 'iNeuron'"
   ]
  },
  {
   "cell_type": "code",
   "execution_count": null,
   "id": "c4f78e90",
   "metadata": {},
   "outputs": [],
   "source": []
  },
  {
   "cell_type": "markdown",
   "id": "e335023c",
   "metadata": {},
   "source": [
    "6. How about this code: what is its output in Python 3, and explain?\n",
    "\n",
    "def func():\n",
    "    \n",
    "    X = 'NI'\n",
    "    \n",
    "    def nested():\n",
    "        \n",
    "        nonlocal X\n",
    "        \n",
    "        X = 'Spam'\n",
    "    nested()\n",
    "    \n",
    "    print(X)\n",
    "\n",
    "func()"
   ]
  },
  {
   "cell_type": "code",
   "execution_count": 31,
   "id": "34194f5d",
   "metadata": {},
   "outputs": [],
   "source": [
    "def func():\n",
    "    X = 'NI'\n",
    "    def nested():\n",
    "        nonlocal X\n",
    "        \n",
    "        X = 'spam'\n",
    "    nested()\n",
    "    print(X)"
   ]
  },
  {
   "cell_type": "code",
   "execution_count": 32,
   "id": "e5113c24",
   "metadata": {},
   "outputs": [
    {
     "name": "stdout",
     "output_type": "stream",
     "text": [
      "spam\n"
     ]
    }
   ],
   "source": [
    "func()"
   ]
  },
  {
   "cell_type": "code",
   "execution_count": 33,
   "id": "a82deb85",
   "metadata": {},
   "outputs": [],
   "source": [
    "#Nonlocal variables are used in nested functions whose local scope is not defined. \n",
    "#This means that the variable can be neither in the local nor the global scope. it will print the updated value from nested \n",
    "#function\n",
    "\n",
    "#i.e 'spam'\n",
    "     "
   ]
  },
  {
   "cell_type": "code",
   "execution_count": null,
   "id": "84e40e33",
   "metadata": {},
   "outputs": [],
   "source": []
  }
 ],
 "metadata": {
  "kernelspec": {
   "display_name": "Python 3 (ipykernel)",
   "language": "python",
   "name": "python3"
  },
  "language_info": {
   "codemirror_mode": {
    "name": "ipython",
    "version": 3
   },
   "file_extension": ".py",
   "mimetype": "text/x-python",
   "name": "python",
   "nbconvert_exporter": "python",
   "pygments_lexer": "ipython3",
   "version": "3.9.12"
  }
 },
 "nbformat": 4,
 "nbformat_minor": 5
}
