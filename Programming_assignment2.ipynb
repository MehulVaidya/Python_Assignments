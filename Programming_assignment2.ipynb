{
 "cells": [
  {
   "cell_type": "markdown",
   "id": "42cd3016",
   "metadata": {},
   "source": [
    "1 . Write a Python program to convert kilometers to miles?"
   ]
  },
  {
   "cell_type": "markdown",
   "id": "a3bc701a",
   "metadata": {},
   "source": [
    "1 km = 0.62137119 miles"
   ]
  },
  {
   "cell_type": "code",
   "execution_count": 1,
   "id": "7007b916",
   "metadata": {},
   "outputs": [],
   "source": [
    "def kilo(km):\n",
    "    a = km * 0.62137119\n",
    "    return f'{km} Kilometers is equal to {a} miles'"
   ]
  },
  {
   "cell_type": "code",
   "execution_count": 2,
   "id": "1242605b",
   "metadata": {},
   "outputs": [
    {
     "data": {
      "text/plain": [
       "'2 Kilometers is equal to 1.24274238 miles'"
      ]
     },
     "execution_count": 2,
     "metadata": {},
     "output_type": "execute_result"
    }
   ],
   "source": [
    "kilo(2)"
   ]
  },
  {
   "cell_type": "code",
   "execution_count": null,
   "id": "028d0e3a",
   "metadata": {},
   "outputs": [],
   "source": []
  },
  {
   "cell_type": "markdown",
   "id": "36762343",
   "metadata": {},
   "source": [
    "2 . Write a Python program to convert Celsius to Fahrenheit?"
   ]
  },
  {
   "cell_type": "markdown",
   "id": "b27e7193",
   "metadata": {},
   "source": [
    "#Formula for conversion of Celsius to Fahrenheit.\n",
    "(celsius * 9/5) + 32"
   ]
  },
  {
   "cell_type": "code",
   "execution_count": 3,
   "id": "c580b313",
   "metadata": {},
   "outputs": [],
   "source": [
    "def cel_to_fahrenheit(Cel):\n",
    "    Fahren = (Cel * 9/5) + 32\n",
    "    return f'{Cel} Celsius is {Fahren} in Fahrenheit' "
   ]
  },
  {
   "cell_type": "code",
   "execution_count": 4,
   "id": "3c2baaf5",
   "metadata": {},
   "outputs": [
    {
     "data": {
      "text/plain": [
       "'5 Celsius is 41.0 in Fahrenheit'"
      ]
     },
     "execution_count": 4,
     "metadata": {},
     "output_type": "execute_result"
    }
   ],
   "source": [
    "cel_to_fahrenheit(5)"
   ]
  },
  {
   "cell_type": "code",
   "execution_count": null,
   "id": "4f2bb121",
   "metadata": {},
   "outputs": [],
   "source": []
  },
  {
   "cell_type": "markdown",
   "id": "8e1b630f",
   "metadata": {},
   "source": [
    "3. Write a Python program to display calendar?"
   ]
  },
  {
   "cell_type": "code",
   "execution_count": 5,
   "id": "8f2be3f1",
   "metadata": {},
   "outputs": [],
   "source": [
    "import calendar"
   ]
  },
  {
   "cell_type": "code",
   "execution_count": 6,
   "id": "b1728d6e",
   "metadata": {},
   "outputs": [
    {
     "name": "stdout",
     "output_type": "stream",
     "text": [
      "Enter the year: 2021\n",
      "Enter the month: 2\n",
      "   February 2021\n",
      "Mo Tu We Th Fr Sa Su\n",
      " 1  2  3  4  5  6  7\n",
      " 8  9 10 11 12 13 14\n",
      "15 16 17 18 19 20 21\n",
      "22 23 24 25 26 27 28\n",
      "\n"
     ]
    }
   ],
   "source": [
    "yy = int(input('Enter the year: '))\n",
    "mm = int(input('Enter the month: '))\n",
    "print(calendar.month(yy, mm))\n"
   ]
  },
  {
   "cell_type": "code",
   "execution_count": null,
   "id": "1a28b328",
   "metadata": {},
   "outputs": [],
   "source": []
  },
  {
   "cell_type": "markdown",
   "id": "7b593be2",
   "metadata": {},
   "source": [
    "4 . Write a Python program to solve quadratic equation?"
   ]
  },
  {
   "cell_type": "code",
   "execution_count": 7,
   "id": "9557d477",
   "metadata": {},
   "outputs": [
    {
     "data": {
      "text/plain": [
       "\"Formula for solving quadratic equation is (-b + (b**2 -4*a*c)**0.5 ) / (2 * a) .Value of 'a' must not be zero\""
      ]
     },
     "execution_count": 7,
     "metadata": {},
     "output_type": "execute_result"
    }
   ],
   "source": [
    " '''Formula for solving quadratic equation is (-b + (b**2 -4*a*c)**0.5 ) / (2 * a) .Value of 'a' must not be zero'''"
   ]
  },
  {
   "cell_type": "code",
   "execution_count": 8,
   "id": "17891b4b",
   "metadata": {},
   "outputs": [],
   "source": [
    "def quad(a,b,c):\n",
    "    if a == 0:\n",
    "        return 'Value of a cannot be zero'\n",
    "    result1 = (-b - (b**2 -4*a*c)**0.5 ) / (2 * a)\n",
    "    result2 = (-b + (b**2 -4*a*c)**0.5 ) / (2 * a)\n",
    "    return result1, result2"
   ]
  },
  {
   "cell_type": "code",
   "execution_count": 9,
   "id": "2ade9166",
   "metadata": {},
   "outputs": [
    {
     "data": {
      "text/plain": [
       "(-3.0, -2.0)"
      ]
     },
     "execution_count": 9,
     "metadata": {},
     "output_type": "execute_result"
    }
   ],
   "source": [
    "quad(1,5,6)"
   ]
  },
  {
   "cell_type": "code",
   "execution_count": null,
   "id": "b4ce164f",
   "metadata": {},
   "outputs": [],
   "source": []
  },
  {
   "cell_type": "markdown",
   "id": "2d5d1ffc",
   "metadata": {},
   "source": [
    "5. Write a Python program to swap two variables without temp variable?"
   ]
  },
  {
   "cell_type": "code",
   "execution_count": 10,
   "id": "d7fe67d0",
   "metadata": {},
   "outputs": [
    {
     "name": "stdout",
     "output_type": "stream",
     "text": [
      "Value of x is 55, Value for y is 22\n"
     ]
    }
   ],
   "source": [
    "x, y  = 55,22\n",
    "print(f'Value of x is {x}, Value for y is {y}')"
   ]
  },
  {
   "cell_type": "code",
   "execution_count": 11,
   "id": "cb9c6024",
   "metadata": {},
   "outputs": [],
   "source": [
    "#swap the variables without using temp variabel.\n",
    "x, y = y, x"
   ]
  },
  {
   "cell_type": "code",
   "execution_count": 12,
   "id": "f678279c",
   "metadata": {},
   "outputs": [
    {
     "name": "stdout",
     "output_type": "stream",
     "text": [
      "Value of x is 22, Value for y is 55\n"
     ]
    }
   ],
   "source": [
    "print(f'Value of x is {x}, Value for y is {y}')"
   ]
  },
  {
   "cell_type": "code",
   "execution_count": null,
   "id": "ea5087cd",
   "metadata": {},
   "outputs": [],
   "source": []
  }
 ],
 "metadata": {
  "kernelspec": {
   "display_name": "Python 3 (ipykernel)",
   "language": "python",
   "name": "python3"
  },
  "language_info": {
   "codemirror_mode": {
    "name": "ipython",
    "version": 3
   },
   "file_extension": ".py",
   "mimetype": "text/x-python",
   "name": "python",
   "nbconvert_exporter": "python",
   "pygments_lexer": "ipython3",
   "version": "3.9.12"
  }
 },
 "nbformat": 4,
 "nbformat_minor": 5
}
