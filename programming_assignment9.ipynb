{
 "cells": [
  {
   "cell_type": "markdown",
   "id": "d90c4760",
   "metadata": {},
   "source": [
    "1. Write a Python program to check if the given number is a Disarium Number?"
   ]
  },
  {
   "cell_type": "code",
   "execution_count": 4,
   "id": "ef790537",
   "metadata": {},
   "outputs": [],
   "source": [
    "def disarium(n):\n",
    "    s = 0\n",
    "    for i in range(len(str(n))):\n",
    "        s += int(str(n)[i]) ** (i + 1)\n",
    "    if s == n:\n",
    "        return f'{n} is s disarium number'\n",
    "    else:\n",
    "        return f'{n} is not a disarium number'"
   ]
  },
  {
   "cell_type": "code",
   "execution_count": 5,
   "id": "ec7ef341",
   "metadata": {},
   "outputs": [
    {
     "data": {
      "text/plain": [
       "'175 is s disarium number'"
      ]
     },
     "execution_count": 5,
     "metadata": {},
     "output_type": "execute_result"
    }
   ],
   "source": [
    "disarium(175)"
   ]
  },
  {
   "cell_type": "code",
   "execution_count": 6,
   "id": "d5ef9c40",
   "metadata": {},
   "outputs": [
    {
     "data": {
      "text/plain": [
       "'25 is not a disarium number'"
      ]
     },
     "execution_count": 6,
     "metadata": {},
     "output_type": "execute_result"
    }
   ],
   "source": [
    "disarium(25)"
   ]
  },
  {
   "cell_type": "code",
   "execution_count": null,
   "id": "69f48dd7",
   "metadata": {},
   "outputs": [],
   "source": []
  },
  {
   "cell_type": "markdown",
   "id": "649882d7",
   "metadata": {},
   "source": [
    "2. Write a Python program to print all disarium numbers between 1 to 100?"
   ]
  },
  {
   "cell_type": "code",
   "execution_count": 11,
   "id": "af12e02b",
   "metadata": {},
   "outputs": [],
   "source": [
    "def get_disarium(num):\n",
    "    sum = 0\n",
    "    while(num>0):\n",
    "        l= len(str(num))\n",
    "        no = num%10\n",
    "        sum= sum + no**l   \n",
    "        l-=1\n",
    "        num = num//10\n",
    "    return sum"
   ]
  },
  {
   "cell_type": "code",
   "execution_count": 15,
   "id": "ea0eb9c8",
   "metadata": {},
   "outputs": [
    {
     "name": "stdout",
     "output_type": "stream",
     "text": [
      "[1, 2, 3, 4, 5, 6, 7, 8, 9, 89]\n"
     ]
    }
   ],
   "source": [
    "disno = []\n",
    "\n",
    "for i in range(1,101):\n",
    "    sum = 0\n",
    "    sum = get_disarium(i)\n",
    "    if sum == i:\n",
    "        disno.append(i)        \n",
    "print(disno)\n",
    "     "
   ]
  },
  {
   "cell_type": "code",
   "execution_count": null,
   "id": "daaecd4b",
   "metadata": {},
   "outputs": [],
   "source": []
  },
  {
   "cell_type": "markdown",
   "id": "7e52b398",
   "metadata": {},
   "source": [
    "3. Write a Python program to check if the given number is Happy Number?"
   ]
  },
  {
   "cell_type": "code",
   "execution_count": 18,
   "id": "23b88df6",
   "metadata": {},
   "outputs": [
    {
     "name": "stdout",
     "output_type": "stream",
     "text": [
      "Enter the number :49\n",
      "49 Is a Happy Number\n"
     ]
    }
   ],
   "source": [
    "def happy(num):\n",
    "    sum = 0\n",
    "    while(num>0):\n",
    "        dig = num%10\n",
    "        sum= sum + dig**2        \n",
    "        num = num//10\n",
    "    return sum\n",
    "\n",
    "num = int(input(\"Enter the number :\"))\n",
    "result = num\n",
    "\n",
    "\n",
    "while (result != 1 and result != 4):\n",
    "    result = happy(result)\n",
    "\n",
    "if result == 1:\n",
    "    print(num,\"Is a Happy Number\")\n",
    "else:\n",
    "    print(num,\" Is a Unhappy Number\")"
   ]
  },
  {
   "cell_type": "code",
   "execution_count": null,
   "id": "e0d0013a",
   "metadata": {},
   "outputs": [],
   "source": []
  },
  {
   "cell_type": "markdown",
   "id": "5bdda253",
   "metadata": {},
   "source": [
    "4. Write a Python program to print all happy numbers between 1 and 100?"
   ]
  },
  {
   "cell_type": "code",
   "execution_count": 19,
   "id": "fc8cd113",
   "metadata": {},
   "outputs": [
    {
     "name": "stdout",
     "output_type": "stream",
     "text": [
      "Happy numbers in range 1 to 100\n",
      "[1, 7, 10, 13, 19, 23, 28, 31, 32, 44, 49, 68, 70, 79, 82, 86, 91, 94, 97, 100]\n"
     ]
    }
   ],
   "source": [
    "def Happy(num):\n",
    "    sum = 0\n",
    "    while(num>0):\n",
    "        dig = num%10\n",
    "        sum= sum + dig**2        \n",
    "        num = num//10\n",
    "    return sum\n",
    "\n",
    "print(\"Happy numbers in range 1 to 100\")\n",
    "result=num=i=0\n",
    "happyNo = []\n",
    "for i in range(1,101):\n",
    "    result = i\n",
    "    while (result != 1 and result != 4):\n",
    "        result = Happy(result)    \n",
    "    if result == 1:\n",
    "        happyNo.append(i)\n",
    "print(happyNo)\n",
    "     "
   ]
  },
  {
   "cell_type": "code",
   "execution_count": null,
   "id": "7dd9b3ac",
   "metadata": {},
   "outputs": [],
   "source": []
  },
  {
   "cell_type": "markdown",
   "id": "28692a77",
   "metadata": {},
   "source": [
    "5. Write a Python program to determine whether the given number is a Harshad Number?"
   ]
  },
  {
   "cell_type": "code",
   "execution_count": 23,
   "id": "411b1392",
   "metadata": {},
   "outputs": [],
   "source": [
    "def is_harshad(n):\n",
    "    n = str(n)\n",
    "    s = 0\n",
    "    for i in range(len(n)):\n",
    "        s += int(n[i])\n",
    "        \n",
    "    if int(n)%s==0:\n",
    "        return f'{n} is a happy number'\n",
    "    else:\n",
    "        return f'{n} is not a happy number'"
   ]
  },
  {
   "cell_type": "code",
   "execution_count": 24,
   "id": "31c4e204",
   "metadata": {},
   "outputs": [
    {
     "data": {
      "text/plain": [
       "'19 is not a happy number'"
      ]
     },
     "execution_count": 24,
     "metadata": {},
     "output_type": "execute_result"
    }
   ],
   "source": [
    "is_harshad(19)"
   ]
  },
  {
   "cell_type": "code",
   "execution_count": 26,
   "id": "0b85a0f4",
   "metadata": {},
   "outputs": [
    {
     "data": {
      "text/plain": [
       "'18 is a happy number'"
      ]
     },
     "execution_count": 26,
     "metadata": {},
     "output_type": "execute_result"
    }
   ],
   "source": [
    "is_harshad(18)"
   ]
  },
  {
   "cell_type": "code",
   "execution_count": null,
   "id": "6368fc1d",
   "metadata": {},
   "outputs": [],
   "source": []
  },
  {
   "cell_type": "markdown",
   "id": "fb41879d",
   "metadata": {},
   "source": [
    "6. Write a Python program to print all pronic numbers between 1 and 100?"
   ]
  },
  {
   "cell_type": "code",
   "execution_count": 31,
   "id": "0ed87276",
   "metadata": {},
   "outputs": [
    {
     "name": "stdout",
     "output_type": "stream",
     "text": [
      "Pronic numbers in range 1 to 100\n",
      "[2, 6, 12, 20, 30, 42, 56, 72, 90]\n"
     ]
    }
   ],
   "source": [
    "def PronicNo(num):\n",
    "    Pronic = False\n",
    "    for i in range(1,num+1):\n",
    "        if i*(i+1) == num:\n",
    "            Pronic = True\n",
    "            break\n",
    "    return Pronic\n",
    "\n",
    "print(\"Pronic numbers in range 1 to 100\")\n",
    "pronicno = []\n",
    "for i in range(1,101):\n",
    "    if PronicNo(i):\n",
    "        pronicno.append(i)\n",
    "print(pronicno)"
   ]
  },
  {
   "cell_type": "code",
   "execution_count": null,
   "id": "98e0070f",
   "metadata": {},
   "outputs": [],
   "source": []
  }
 ],
 "metadata": {
  "kernelspec": {
   "display_name": "Python 3 (ipykernel)",
   "language": "python",
   "name": "python3"
  },
  "language_info": {
   "codemirror_mode": {
    "name": "ipython",
    "version": 3
   },
   "file_extension": ".py",
   "mimetype": "text/x-python",
   "name": "python",
   "nbconvert_exporter": "python",
   "pygments_lexer": "ipython3",
   "version": "3.9.12"
  }
 },
 "nbformat": 4,
 "nbformat_minor": 5
}
