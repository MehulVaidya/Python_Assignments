{
 "cells": [
  {
   "cell_type": "raw",
   "id": "bc67511f",
   "metadata": {},
   "source": [
    "1. In the below elements which of them are values or an expression? eg:- values can be\n",
    "integer or string and expressions will be mathematical operators.\n",
    "\n",
    "*\n",
    "'hello'\n",
    "-87.8\n",
    "-\n",
    "/\n",
    "+\n",
    "6"
   ]
  },
  {
   "cell_type": "raw",
   "id": "afe07dd5",
   "metadata": {},
   "source": [
    "Answer: From the elements above:\n",
    "        1. 'hello', -87.8, 6 are values that can be stored into a variable.\n",
    "        2. *,-,/,+ are mathematical operators used for calculation purposes."
   ]
  },
  {
   "cell_type": "code",
   "execution_count": null,
   "id": "86fa2f28",
   "metadata": {},
   "outputs": [],
   "source": []
  },
  {
   "cell_type": "raw",
   "id": "14d10b88",
   "metadata": {},
   "source": [
    "2. What is the difference between string and variable?"
   ]
  },
  {
   "cell_type": "raw",
   "id": "3e4e9bd3",
   "metadata": {},
   "source": [
    "Answer: String is a basic datatype which can hold a single value inside double/single quotes.\n",
    "        Where as Variable is an entity that helps us to store/hold different values/Datatypes.\n",
    "        eg: x = 'abc'\n",
    "            here x is the varibale that is holding a string value."
   ]
  },
  {
   "cell_type": "code",
   "execution_count": null,
   "id": "b9c26969",
   "metadata": {},
   "outputs": [],
   "source": []
  },
  {
   "cell_type": "raw",
   "id": "4ba97c19",
   "metadata": {},
   "source": [
    "3. Describe three different data types."
   ]
  },
  {
   "cell_type": "raw",
   "id": "1db19464",
   "metadata": {},
   "source": [
    "Answer:\n",
    "    Three different data types:\n",
    "    1.string --> This datatype holds values/characters enclosed inside single or double quotes. eg: 'abc' or '10'\n",
    "    2.Float --> This datatype holds decimal/point values within it. eg 10.4, 2.0.\n",
    "    3.Integer --> This datatype holds zero/natural numbers/ ngeative numbers but non decimal within it. eg: 10, 9, 6."
   ]
  },
  {
   "cell_type": "code",
   "execution_count": null,
   "id": "f23f64b2",
   "metadata": {},
   "outputs": [],
   "source": []
  },
  {
   "cell_type": "raw",
   "id": "e614c7df",
   "metadata": {},
   "source": [
    "4. What is an expression made up of? What do all expressions do?"
   ]
  },
  {
   "cell_type": "raw",
   "id": "2f281639",
   "metadata": {},
   "source": [
    "Answer: Expression are combination of operators and varibale that gives some value.\n",
    "        eg: x = 10 + 20\n",
    "            print(x)\n",
    "            \n",
    "            output: 30\n",
    "                \n",
    "        Here '+' is the operator and x is the variable."
   ]
  },
  {
   "cell_type": "code",
   "execution_count": null,
   "id": "5232e170",
   "metadata": {},
   "outputs": [],
   "source": []
  },
  {
   "cell_type": "raw",
   "id": "f867aa38",
   "metadata": {},
   "source": [
    "5. This assignment statements, like spam = 10. What is the difference between an\n",
    "expression and a statement?"
   ]
  },
  {
   "cell_type": "raw",
   "id": "3eda5839",
   "metadata": {},
   "source": [
    "Answer: An expression uses operators with some values that will give a single value.\n",
    "        eg: y = 2*4 \n",
    "            print(y)\n",
    "        Assignment statement is simply used to assign a value to a varibale.            "
   ]
  },
  {
   "cell_type": "code",
   "execution_count": null,
   "id": "3af1c242",
   "metadata": {},
   "outputs": [],
   "source": []
  },
  {
   "cell_type": "raw",
   "id": "a83f5d05",
   "metadata": {},
   "source": [
    "6. After running the following code, what does the variable bacon contain?\n",
    "bacon = 22\n",
    "bacon + 1"
   ]
  },
  {
   "cell_type": "raw",
   "id": "17ce17d3",
   "metadata": {},
   "source": [
    "Answer: The variabe bacon still contains the previous value which is 22 as we have not saved/assigned bacon+1.\n",
    "        like this bacon = bacon+1 now it will hold 23"
   ]
  },
  {
   "cell_type": "code",
   "execution_count": null,
   "id": "68beb2e2",
   "metadata": {},
   "outputs": [],
   "source": []
  },
  {
   "cell_type": "raw",
   "id": "606e62bc",
   "metadata": {},
   "source": [
    "7. What should the values of the following two terms be?\n",
    "\n",
    "'spam'+'spamspam'\n",
    "'spam'*3"
   ]
  },
  {
   "cell_type": "raw",
   "id": "7c47a687",
   "metadata": {},
   "source": [
    "Answer: Both the terms will have the same result.\n",
    "        i.e : 'spamspamspam'\n",
    "        In the first example we are concatinating two string data types, Second one repeats thrice which gives the same result."
   ]
  },
  {
   "cell_type": "code",
   "execution_count": null,
   "id": "39c3aafd",
   "metadata": {},
   "outputs": [],
   "source": []
  },
  {
   "cell_type": "raw",
   "id": "43b1d587",
   "metadata": {},
   "source": [
    "8. Why is eggs a valid variable name while 100 is invalid?"
   ]
  },
  {
   "cell_type": "raw",
   "id": "65cb2811",
   "metadata": {},
   "source": [
    "Answer: We can name a variable starting with alphabets or _ but not numbers.\n",
    "        It's a rule that python follows while creating a variable"
   ]
  },
  {
   "cell_type": "code",
   "execution_count": null,
   "id": "abefe82b",
   "metadata": {},
   "outputs": [],
   "source": []
  },
  {
   "cell_type": "raw",
   "id": "658d864a",
   "metadata": {},
   "source": [
    "9. What three functions can be used to get the integer, floating-point number, or string\n",
    "version of a value?"
   ]
  },
  {
   "cell_type": "raw",
   "id": "0419d4d2",
   "metadata": {},
   "source": [
    "Answer: The functions are:\n",
    "        int(), float(), str() are the three functions that are used for getting  required version of a value\n",
    "        eg : int() can be used for conversion of 10.4 to 10\n",
    "            float() can be used for conversion of 6 to 6.0\n",
    "            str() can be used for conversio of 10.4 to '10.4' or True to 'True'"
   ]
  },
  {
   "cell_type": "code",
   "execution_count": null,
   "id": "78c5840f",
   "metadata": {},
   "outputs": [],
   "source": []
  },
  {
   "cell_type": "code",
   "execution_count": null,
   "id": "5c01c9bd",
   "metadata": {},
   "outputs": [],
   "source": [
    "10. Why does this expression cause an error? How can you fix it?\n",
    "'i have eaten' + 99 + 'burritos.'"
   ]
  },
  {
   "cell_type": "raw",
   "id": "5266a273",
   "metadata": {},
   "source": [
    "Answer: This causes an error because we are trying to concatenate different datatypes together.\n",
    "        To fix it we can do typecasting of 99 to string value '99'.\n",
    "        fixed one : 'i have eaten ' + str(99) + ' burritos.'\n",
    "                    'i have eaten ' + '99' + ' burritos.'"
   ]
  },
  {
   "cell_type": "code",
   "execution_count": null,
   "id": "c26d340c",
   "metadata": {},
   "outputs": [],
   "source": []
  }
 ],
 "metadata": {
  "kernelspec": {
   "display_name": "Python 3 (ipykernel)",
   "language": "python",
   "name": "python3"
  },
  "language_info": {
   "codemirror_mode": {
    "name": "ipython",
    "version": 3
   },
   "file_extension": ".py",
   "mimetype": "text/x-python",
   "name": "python",
   "nbconvert_exporter": "python",
   "pygments_lexer": "ipython3",
   "version": "3.9.12"
  }
 },
 "nbformat": 4,
 "nbformat_minor": 5
}
