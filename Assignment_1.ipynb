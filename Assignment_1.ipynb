{
 "cells": [
  {
   "cell_type": "raw",
   "id": "1f99238e",
   "metadata": {},
   "source": [
    "1. In the below elements which of them are values or an expression? eg:- values can be\n",
    "integer or string and expressions will be mathematical operators.\n",
    "\n",
    "*\n",
    "'hello'\n",
    "-87.8\n",
    "-\n",
    "/\n",
    "+\n",
    "6"
   ]
  },
  {
   "cell_type": "raw",
   "id": "ac5ab530",
   "metadata": {},
   "source": [
    "Answer: From the elements above:\n",
    "        1. 'hello', -87.8, 6 are values that can be stored into a variable.\n",
    "        2. *,-,/,+ are mathematical operators used for calculation purposes."
   ]
  },
  {
   "cell_type": "code",
   "execution_count": null,
   "id": "12da5bef",
   "metadata": {},
   "outputs": [],
   "source": []
  },
  {
   "cell_type": "raw",
   "id": "302575da",
   "metadata": {},
   "source": [
    "2. What is the difference between string and variable?"
   ]
  },
  {
   "cell_type": "raw",
   "id": "025d9570",
   "metadata": {},
   "source": [
    "Answer: String is a basic datatype which can hold a single value inside double/single quotes.\n",
    "        Where as Variable is an entity that helps us to store/hold different values/Datatypes.\n",
    "        eg: x = 'abc'\n",
    "            here x is the varibale that is holding a string value."
   ]
  },
  {
   "cell_type": "code",
   "execution_count": null,
   "id": "79b1f305",
   "metadata": {},
   "outputs": [],
   "source": []
  },
  {
   "cell_type": "raw",
   "id": "09fb3c90",
   "metadata": {},
   "source": [
    "3. Describe three different data types."
   ]
  },
  {
   "cell_type": "raw",
   "id": "5ba35111",
   "metadata": {},
   "source": [
    "Answer:\n",
    "    Three different data types:\n",
    "    1.string --> This datatype holds values/characters enclosed inside single or double quotes. eg: 'abc' or '10'\n",
    "    2.Float --> This datatype holds decimal/point values within it. eg 10.4, 2.0.\n",
    "    3.Integer --> This datatype holds zero/natural numbers/ ngeative numbers but non decimal within it. eg: 10, 9, 6."
   ]
  },
  {
   "cell_type": "code",
   "execution_count": null,
   "id": "bc155ee5",
   "metadata": {},
   "outputs": [],
   "source": []
  },
  {
   "cell_type": "raw",
   "id": "6e6f580d",
   "metadata": {},
   "source": [
    "4. What is an expression made up of? What do all expressions do?"
   ]
  },
  {
   "cell_type": "raw",
   "id": "3ca47b34",
   "metadata": {},
   "source": [
    "Answer: Expression are combination of operators and varibale that gives some value.\n",
    "        eg: x = 10 + 20\n",
    "            print(x)\n",
    "            \n",
    "            output: 30\n",
    "                \n",
    "        Here '+' is the operator and x is the variable."
   ]
  },
  {
   "cell_type": "code",
   "execution_count": null,
   "id": "1c3c741c",
   "metadata": {},
   "outputs": [],
   "source": []
  },
  {
   "cell_type": "raw",
   "id": "37ef6d26",
   "metadata": {},
   "source": [
    "5. This assignment statements, like spam = 10. What is the difference between an\n",
    "expression and a statement?"
   ]
  },
  {
   "cell_type": "raw",
   "id": "dfd28cbb",
   "metadata": {},
   "source": [
    "Answer: An expression uses operators with some values that will give a single value.\n",
    "        eg: y = 2*4 \n",
    "            print(y)\n",
    "        Assignment statement is simply used to assign a value to a varibale.            "
   ]
  },
  {
   "cell_type": "code",
   "execution_count": null,
   "id": "b7434986",
   "metadata": {},
   "outputs": [],
   "source": []
  },
  {
   "cell_type": "raw",
   "id": "04c9fd82",
   "metadata": {},
   "source": [
    "6. After running the following code, what does the variable bacon contain?\n",
    "bacon = 22\n",
    "bacon + 1"
   ]
  },
  {
   "cell_type": "raw",
   "id": "296a7b12",
   "metadata": {},
   "source": [
    "Answer: The variabe bacon still contains the previous value which is 22 as we have not saved/assigned bacon+1.\n",
    "        like this bacon = bacon+1 now it will hold 23"
   ]
  },
  {
   "cell_type": "code",
   "execution_count": null,
   "id": "77f39a23",
   "metadata": {},
   "outputs": [],
   "source": []
  },
  {
   "cell_type": "raw",
   "id": "5969e9a9",
   "metadata": {},
   "source": [
    "7. What should the values of the following two terms be?\n",
    "\n",
    "'spam'+'spamspam'\n",
    "'spam'*3"
   ]
  },
  {
   "cell_type": "raw",
   "id": "dde22e1e",
   "metadata": {},
   "source": [
    "Answer: Both the terms will have the same result.\n",
    "        i.e : 'spamspamspam'\n",
    "        In the first example we are concatinating two string data types, Second one repeats thrice which gives the same result."
   ]
  },
  {
   "cell_type": "code",
   "execution_count": null,
   "id": "192fbd6e",
   "metadata": {},
   "outputs": [],
   "source": []
  },
  {
   "cell_type": "raw",
   "id": "83cb53c0",
   "metadata": {},
   "source": [
    "8. Why is eggs a valid variable name while 100 is invalid?"
   ]
  },
  {
   "cell_type": "raw",
   "id": "744fcf8f",
   "metadata": {},
   "source": [
    "Answer: We can name a variable starting with alphabets or _ but not numbers.\n",
    "        It's a rule that python follows while creating a variable"
   ]
  },
  {
   "cell_type": "code",
   "execution_count": null,
   "id": "e5621212",
   "metadata": {},
   "outputs": [],
   "source": []
  },
  {
   "cell_type": "raw",
   "id": "136bdd3e",
   "metadata": {},
   "source": [
    "9. What three functions can be used to get the integer, floating-point number, or string\n",
    "version of a value?"
   ]
  },
  {
   "cell_type": "raw",
   "id": "67e41f7f",
   "metadata": {},
   "source": [
    "Answer: The functions are:\n",
    "        int(), float(), str() are the three functions that are used for getting  required version of a value\n",
    "        eg : int() can be used for conversion of 10.4 to 10\n",
    "            float() can be used for conversion of 6 to 6.0\n",
    "            str() can be used for conversio of 10.4 to '10.4' or True to 'True'"
   ]
  },
  {
   "cell_type": "code",
   "execution_count": null,
   "id": "bd7b6422",
   "metadata": {},
   "outputs": [],
   "source": []
  },
  {
   "cell_type": "raw",
   "id": "ffdfe778",
   "metadata": {},
   "source": [
    "10. Why does this expression cause an error? How can you fix it?\n",
    "'i have eaten' + 99 + 'burritos.'"
   ]
  },
  {
   "cell_type": "raw",
   "id": "33f094b0",
   "metadata": {},
   "source": [
    "Answer: This causes an error because we are trying to concatenate different datatypes together.\n",
    "        To fix it we can do typecasting of 99 to string value '99'.\n",
    "        fixed one : 'i have eaten ' + str(99) + ' burritos.'\n",
    "                    'i have eaten ' + '99' + ' burritos.'"
   ]
  },
  {
   "cell_type": "code",
   "execution_count": null,
   "id": "730c4a49",
   "metadata": {},
   "outputs": [],
   "source": []
  }
 ],
 "metadata": {
  "kernelspec": {
   "display_name": "Python 3 (ipykernel)",
   "language": "python",
   "name": "python3"
  },
  "language_info": {
   "codemirror_mode": {
    "name": "ipython",
    "version": 3
   },
   "file_extension": ".py",
   "mimetype": "text/x-python",
   "name": "python",
   "nbconvert_exporter": "python",
   "pygments_lexer": "ipython3",
   "version": "3.9.12"
  }
 },
 "nbformat": 4,
 "nbformat_minor": 5
}
