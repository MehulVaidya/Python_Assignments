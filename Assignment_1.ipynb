{
 "cells": [
  {
   "cell_type": "markdown",
   "id": "e8ee23d4",
   "metadata": {},
   "source": [
    "1. In the below elements which of them are values or an expression? eg:- values can be\n",
    "integer or string and expressions will be mathematical operators.\n",
    "\n",
    "- *\n",
    "- 'hello'\n",
    "- -87.8\n",
    "- -\n",
    "- /\n",
    "- +\n",
    "- 6"
   ]
  },
  {
   "cell_type": "markdown",
   "id": "4e0d2fbe",
   "metadata": {},
   "source": [
    "Answer: From the elements above:\n",
    "\n",
    "        1. 'hello', -87.8, 6 are values that can be stored into a variable.\n",
    "        \n",
    "        2. *,-,/,+ are mathematical operators used for calculation purposes."
   ]
  },
  {
   "cell_type": "code",
   "execution_count": null,
   "id": "71fe35a1",
   "metadata": {},
   "outputs": [],
   "source": []
  },
  {
   "cell_type": "markdown",
   "id": "c80d870f",
   "metadata": {},
   "source": [
    "2. What is the difference between string and variable?"
   ]
  },
  {
   "cell_type": "markdown",
   "id": "310cc0d2",
   "metadata": {},
   "source": [
    "Answer: String is a basic datatype which can hold a single value inside double/single quotes.\n",
    "    \n",
    "        Where as Variable is an entity that helps us to store/hold different values/Datatypes.\n",
    "        eg: x = 'abc'\n",
    "            here x is the varibale that is holding a string value."
   ]
  },
  {
   "cell_type": "code",
   "execution_count": null,
   "id": "c8fa3251",
   "metadata": {},
   "outputs": [],
   "source": []
  },
  {
   "cell_type": "markdown",
   "id": "9597339f",
   "metadata": {},
   "source": [
    "3. Describe three different data types."
   ]
  },
  {
   "cell_type": "markdown",
   "id": "bea2ee5e",
   "metadata": {},
   "source": [
    "Answer:\n",
    "    Three different data types:\n",
    "        \n",
    "    1.string --> This datatype holds values/characters enclosed inside single or double quotes. eg: 'abc' or '10'\n",
    "    2.Float --> This datatype holds decimal/point values within it. eg 10.4, 2.0.\n",
    "    3.Integer --> This datatype holds zero/natural numbers/ ngeative numbers but non decimal within it. eg: 10, 9, 6."
   ]
  },
  {
   "cell_type": "code",
   "execution_count": null,
   "id": "bf1f5277",
   "metadata": {},
   "outputs": [],
   "source": []
  },
  {
   "cell_type": "markdown",
   "id": "02a88530",
   "metadata": {},
   "source": [
    "4. What is an expression made up of? What do all expressions do?"
   ]
  },
  {
   "cell_type": "markdown",
   "id": "5d4f9416",
   "metadata": {},
   "source": [
    "Answer: Expression are combination of operators and varibale that gives some value.\n",
    "        eg: x = 10 + 20\n",
    "            print(x)\n",
    "            \n",
    "            output: 30\n",
    "                \n",
    "        Here '+' is the operator and x is the variable."
   ]
  },
  {
   "cell_type": "code",
   "execution_count": null,
   "id": "48fb7a7d",
   "metadata": {},
   "outputs": [],
   "source": []
  },
  {
   "cell_type": "markdown",
   "id": "82e2c697",
   "metadata": {},
   "source": [
    "5. This assignment statements, like spam = 10. What is the difference between an\n",
    "expression and a statement?"
   ]
  },
  {
   "cell_type": "markdown",
   "id": "15c55e78",
   "metadata": {},
   "source": [
    "Answer: \n",
    "        An expression uses operators with some values that will give a single value.\n",
    "        \n",
    "            eg: y = 2*4 \n",
    "            print(y)\n",
    "        Assignment statement is simply used to assign a value to a varibale.            "
   ]
  },
  {
   "cell_type": "code",
   "execution_count": null,
   "id": "88cca0c5",
   "metadata": {},
   "outputs": [],
   "source": []
  },
  {
   "cell_type": "markdown",
   "id": "c6c69d55",
   "metadata": {},
   "source": [
    "6. After running the following code, what does the variable bacon contain?\n",
    "bacon = 22\n",
    "bacon + 1"
   ]
  },
  {
   "cell_type": "markdown",
   "id": "c4fa8f05",
   "metadata": {},
   "source": [
    "Answer: \n",
    "    \n",
    "    The variabe bacon still contains the previous value which is 22 as we have not saved/assigned bacon+1.\n",
    "    like this bacon = bacon+1 now it will hold 23"
   ]
  },
  {
   "cell_type": "code",
   "execution_count": null,
   "id": "4692e373",
   "metadata": {},
   "outputs": [],
   "source": []
  },
  {
   "cell_type": "markdown",
   "id": "a51f2d16",
   "metadata": {},
   "source": [
    "7. What should the values of the following two terms be?\n",
    "\n",
    "'spam'+'spamspam'\n",
    "\n",
    "'spam'*3"
   ]
  },
  {
   "cell_type": "markdown",
   "id": "6d5cdb2d",
   "metadata": {},
   "source": [
    "Answer:Both the terms will have the same result.\n",
    "\n",
    "       i.e : 'spamspamspam'\n",
    "        \n",
    "       In the first example we are concatinating two string data types,Second one repeats thrice which gives the same value."
   ]
  },
  {
   "cell_type": "code",
   "execution_count": null,
   "id": "873501a6",
   "metadata": {},
   "outputs": [],
   "source": []
  },
  {
   "cell_type": "markdown",
   "id": "54615161",
   "metadata": {},
   "source": [
    "8. Why is eggs a valid variable name while 100 is invalid?"
   ]
  },
  {
   "cell_type": "markdown",
   "id": "4e5ec03e",
   "metadata": {},
   "source": [
    "Answer:\n",
    "        We can name a variable starting with alphabets or _ but not numbers.\n",
    "        \n",
    "        It's a rule that python follows while creating a variable"
   ]
  },
  {
   "cell_type": "code",
   "execution_count": null,
   "id": "c23426c6",
   "metadata": {},
   "outputs": [],
   "source": []
  },
  {
   "cell_type": "markdown",
   "id": "92afb696",
   "metadata": {},
   "source": [
    "9. What three functions can be used to get the integer, floating-point number, or string\n",
    "version of a value?"
   ]
  },
  {
   "cell_type": "markdown",
   "id": "7e0443ec",
   "metadata": {},
   "source": [
    "Answer: \n",
    "        The functions are:\n",
    "        \n",
    "        int(), float(), str() are the three functions that are used for getting  required version of a value\n",
    "        eg : int() can be used for conversion of 10.4 to 10\n",
    "            float() can be used for conversion of 6 to 6.0\n",
    "            str() can be used for conversio of 10.4 to '10.4' or True to 'True'"
   ]
  },
  {
   "cell_type": "code",
   "execution_count": null,
   "id": "c55d02fd",
   "metadata": {},
   "outputs": [],
   "source": []
  },
  {
   "cell_type": "markdown",
   "id": "826cf4c5",
   "metadata": {},
   "source": [
    "10. Why does this expression cause an error? How can you fix it?\n",
    "\n",
    "'i have eaten' + 99 + 'burritos.'"
   ]
  },
  {
   "cell_type": "markdown",
   "id": "034c7542",
   "metadata": {},
   "source": [
    "Answer: This causes an error because we are trying to concatenate different datatypes together.\n",
    "\n",
    "        To fix it we can do typecasting of 99 to string value '99'.\n",
    "        fixed one : 'i have eaten ' + str(99) + ' burritos.'\n",
    "                    'i have eaten ' + '99' + ' burritos.'"
   ]
  },
  {
   "cell_type": "code",
   "execution_count": null,
   "id": "afb11887",
   "metadata": {},
   "outputs": [],
   "source": []
  }
 ],
 "metadata": {
  "kernelspec": {
   "display_name": "Python 3 (ipykernel)",
   "language": "python",
   "name": "python3"
  },
  "language_info": {
   "codemirror_mode": {
    "name": "ipython",
    "version": 3
   },
   "file_extension": ".py",
   "mimetype": "text/x-python",
   "name": "python",
   "nbconvert_exporter": "python",
   "pygments_lexer": "ipython3",
   "version": "3.9.12"
  }
 },
 "nbformat": 4,
 "nbformat_minor": 5
}
