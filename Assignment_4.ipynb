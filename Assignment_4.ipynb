{
 "cells": [
  {
   "cell_type": "markdown",
   "id": "3caa7822",
   "metadata": {},
   "source": [
    "1 . What exactly is []?"
   ]
  },
  {
   "cell_type": "code",
   "execution_count": 1,
   "id": "00a29775",
   "metadata": {},
   "outputs": [
    {
     "data": {
      "text/plain": [
       "list"
      ]
     },
     "execution_count": 1,
     "metadata": {},
     "output_type": "execute_result"
    }
   ],
   "source": [
    "type([])"
   ]
  },
  {
   "cell_type": "markdown",
   "id": "f08151fb",
   "metadata": {},
   "source": [
    "Answer : [] is an empty list."
   ]
  },
  {
   "cell_type": "code",
   "execution_count": null,
   "id": "f7a194a6",
   "metadata": {},
   "outputs": [],
   "source": []
  },
  {
   "cell_type": "markdown",
   "id": "9d633c58",
   "metadata": {},
   "source": [
    "2 . In a list of values stored in a variable called spam, how would you assign the value &#39;hello&#39; as the\n",
    "third value? (Assume [2, 4, 6, 8, 10] are in spam.)"
   ]
  },
  {
   "cell_type": "code",
   "execution_count": 2,
   "id": "35c00cae",
   "metadata": {},
   "outputs": [],
   "source": [
    "spam = [2,4,6,8,10]"
   ]
  },
  {
   "cell_type": "code",
   "execution_count": 3,
   "id": "93f16d4e",
   "metadata": {},
   "outputs": [],
   "source": [
    "spam[2] = 'hello'"
   ]
  },
  {
   "cell_type": "code",
   "execution_count": 4,
   "id": "41b731f1",
   "metadata": {},
   "outputs": [
    {
     "name": "stdout",
     "output_type": "stream",
     "text": [
      "[2, 4, 'hello', 8, 10]\n"
     ]
    }
   ],
   "source": [
    "print(spam)"
   ]
  },
  {
   "cell_type": "code",
   "execution_count": null,
   "id": "5e17783d",
   "metadata": {},
   "outputs": [],
   "source": []
  },
  {
   "cell_type": "code",
   "execution_count": 5,
   "id": "6a786ee0",
   "metadata": {},
   "outputs": [],
   "source": [
    "spam = ['a', 'b', 'c', 'd']"
   ]
  },
  {
   "cell_type": "markdown",
   "id": "f2347f52",
   "metadata": {},
   "source": [
    "spam includes ['a', 'a', 'c', 'd'] for the next three queries.\n"
   ]
  },
  {
   "cell_type": "markdown",
   "id": "acae0ff9",
   "metadata": {},
   "source": [
    "3 . What is the value of spam[int(int('3'*2)/11)))]?"
   ]
  },
  {
   "cell_type": "markdown",
   "id": "0418d950",
   "metadata": {},
   "source": [
    "Answer : spam[int(33/11)] = spam[3] =d"
   ]
  },
  {
   "cell_type": "code",
   "execution_count": 6,
   "id": "29cec354",
   "metadata": {},
   "outputs": [
    {
     "data": {
      "text/plain": [
       "['a', 'b', 'c', 'd']"
      ]
     },
     "execution_count": 6,
     "metadata": {},
     "output_type": "execute_result"
    }
   ],
   "source": [
    "spam"
   ]
  },
  {
   "cell_type": "code",
   "execution_count": 7,
   "id": "f3fcfc86",
   "metadata": {},
   "outputs": [
    {
     "data": {
      "text/plain": [
       "'d'"
      ]
     },
     "execution_count": 7,
     "metadata": {},
     "output_type": "execute_result"
    }
   ],
   "source": [
    "spam[int(int('3' * 2) / 11)] "
   ]
  },
  {
   "cell_type": "code",
   "execution_count": null,
   "id": "6c9e6f4a",
   "metadata": {},
   "outputs": [],
   "source": []
  },
  {
   "cell_type": "markdown",
   "id": "da8749f2",
   "metadata": {},
   "source": [
    "4 . What is the value of spam[-1]?"
   ]
  },
  {
   "cell_type": "markdown",
   "id": "7a2c4ac6",
   "metadata": {},
   "source": [
    "Answer : 'd' is the value for spam[-1]."
   ]
  },
  {
   "cell_type": "code",
   "execution_count": 8,
   "id": "580e7ef2",
   "metadata": {},
   "outputs": [
    {
     "data": {
      "text/plain": [
       "'d'"
      ]
     },
     "execution_count": 8,
     "metadata": {},
     "output_type": "execute_result"
    }
   ],
   "source": [
    "spam[-1]"
   ]
  },
  {
   "cell_type": "code",
   "execution_count": null,
   "id": "d9b96c27",
   "metadata": {},
   "outputs": [],
   "source": []
  },
  {
   "cell_type": "markdown",
   "id": "ba14189b",
   "metadata": {},
   "source": [
    "5 . What is the value of spam[:2]?"
   ]
  },
  {
   "cell_type": "markdown",
   "id": "e1b209cd",
   "metadata": {},
   "source": [
    "Answer : the first two elements i.e 'a' , 'b' will be returned for spam[:2]"
   ]
  },
  {
   "cell_type": "code",
   "execution_count": 9,
   "id": "ada24e2d",
   "metadata": {},
   "outputs": [
    {
     "data": {
      "text/plain": [
       "['a', 'b']"
      ]
     },
     "execution_count": 9,
     "metadata": {},
     "output_type": "execute_result"
    }
   ],
   "source": [
    "spam[:2]"
   ]
  },
  {
   "cell_type": "code",
   "execution_count": null,
   "id": "04121dd6",
   "metadata": {},
   "outputs": [],
   "source": []
  },
  {
   "cell_type": "code",
   "execution_count": null,
   "id": "6e481629",
   "metadata": {},
   "outputs": [],
   "source": []
  },
  {
   "cell_type": "markdown",
   "id": "20d7fa50",
   "metadata": {},
   "source": [
    "lets pretend bacon has the list [3.14, 'cat', 11, 'cat', True] for next three questions?"
   ]
  },
  {
   "cell_type": "code",
   "execution_count": 10,
   "id": "dbf4b374",
   "metadata": {},
   "outputs": [],
   "source": [
    "bacon = [3.14, 'cat', 11, 'cat', True]"
   ]
  },
  {
   "cell_type": "markdown",
   "id": "1613c15c",
   "metadata": {},
   "source": [
    "6 . What is the value of bacon.index('cat')?"
   ]
  },
  {
   "cell_type": "markdown",
   "id": "7ce1fda9",
   "metadata": {},
   "source": [
    "Answer : The value is 1 for bacon.index('cat')"
   ]
  },
  {
   "cell_type": "code",
   "execution_count": 11,
   "id": "c9f92c3b",
   "metadata": {},
   "outputs": [
    {
     "data": {
      "text/plain": [
       "1"
      ]
     },
     "execution_count": 11,
     "metadata": {},
     "output_type": "execute_result"
    }
   ],
   "source": [
    "bacon.index('cat')"
   ]
  },
  {
   "cell_type": "code",
   "execution_count": null,
   "id": "9c45b76b",
   "metadata": {},
   "outputs": [],
   "source": []
  },
  {
   "cell_type": "markdown",
   "id": "235d05f1",
   "metadata": {},
   "source": [
    "7 . How does bacon.append(99) change the look of the list value in bacon?"
   ]
  },
  {
   "cell_type": "markdown",
   "id": "df5acd0e",
   "metadata": {},
   "source": [
    "Answer : the value 99 is added at the end of the list. Now there are Total 6 elements."
   ]
  },
  {
   "cell_type": "code",
   "execution_count": 12,
   "id": "0a10271b",
   "metadata": {},
   "outputs": [
    {
     "data": {
      "text/plain": [
       "[3.14, 'cat', 11, 'cat', True]"
      ]
     },
     "execution_count": 12,
     "metadata": {},
     "output_type": "execute_result"
    }
   ],
   "source": [
    "bacon"
   ]
  },
  {
   "cell_type": "code",
   "execution_count": 13,
   "id": "0ca5104d",
   "metadata": {},
   "outputs": [
    {
     "name": "stdout",
     "output_type": "stream",
     "text": [
      "[3.14, 'cat', 11, 'cat', True, 99]\n"
     ]
    }
   ],
   "source": [
    "bacon.append(99)\n",
    "print(bacon)"
   ]
  },
  {
   "cell_type": "markdown",
   "id": "7472cee7",
   "metadata": {},
   "source": []
  },
  {
   "cell_type": "markdown",
   "id": "0f971406",
   "metadata": {},
   "source": [
    "8 . How does bacon.remove('cat') change the look of the list in bacon?"
   ]
  },
  {
   "cell_type": "markdown",
   "id": "50bbcf14",
   "metadata": {},
   "source": [
    "Answer : It removes the first index where element 'cat' is found .There are 2 indexes where 'cat' is present(1,3) it removes index1"
   ]
  },
  {
   "cell_type": "code",
   "execution_count": 14,
   "id": "2d89aa78",
   "metadata": {},
   "outputs": [
    {
     "data": {
      "text/plain": [
       "[3.14, 11, 'cat', True, 99]"
      ]
     },
     "execution_count": 14,
     "metadata": {},
     "output_type": "execute_result"
    }
   ],
   "source": [
    "bacon.remove('cat')\n",
    "bacon"
   ]
  },
  {
   "cell_type": "code",
   "execution_count": null,
   "id": "6614bf76",
   "metadata": {},
   "outputs": [],
   "source": []
  },
  {
   "cell_type": "markdown",
   "id": "95681ea7",
   "metadata": {},
   "source": [
    "9 . What are the list concatenation and list replication operators?"
   ]
  },
  {
   "cell_type": "markdown",
   "id": "7f4d2a35",
   "metadata": {},
   "source": [
    "Answer : For list concatenation we use '+' operator, for replication we use '*' operator."
   ]
  },
  {
   "cell_type": "code",
   "execution_count": 15,
   "id": "34f0e34e",
   "metadata": {},
   "outputs": [
    {
     "name": "stdout",
     "output_type": "stream",
     "text": [
      "[1, 2, 3, 4, 4, 5, 6]\n",
      "[1, 2, 3, 4, 1, 2, 3, 4]\n"
     ]
    }
   ],
   "source": [
    "#eg\n",
    "\n",
    "l1 = [1,2,3,4]\n",
    "l2 = [4,5,6]\n",
    "\n",
    "print(l1 +l2)\n",
    "print(l1*2)"
   ]
  },
  {
   "cell_type": "code",
   "execution_count": null,
   "id": "a53f5d4a",
   "metadata": {},
   "outputs": [],
   "source": []
  },
  {
   "cell_type": "markdown",
   "id": "481f7874",
   "metadata": {},
   "source": [
    "10 . What is difference between the list methods append() and insert()?"
   ]
  },
  {
   "cell_type": "markdown",
   "id": "40941456",
   "metadata": {},
   "source": [
    "Answer : Append will add an element at the end of the list, where as insert adds an element before index"
   ]
  },
  {
   "cell_type": "code",
   "execution_count": 16,
   "id": "8344cd75",
   "metadata": {},
   "outputs": [
    {
     "data": {
      "text/plain": [
       "[1, 2, 3, 4]"
      ]
     },
     "execution_count": 16,
     "metadata": {},
     "output_type": "execute_result"
    }
   ],
   "source": [
    "l1"
   ]
  },
  {
   "cell_type": "code",
   "execution_count": 17,
   "id": "4fd41431",
   "metadata": {},
   "outputs": [],
   "source": [
    "l1.append(9)"
   ]
  },
  {
   "cell_type": "code",
   "execution_count": 18,
   "id": "1875f07a",
   "metadata": {},
   "outputs": [
    {
     "data": {
      "text/plain": [
       "[1, 2, 3, 4, 9]"
      ]
     },
     "execution_count": 18,
     "metadata": {},
     "output_type": "execute_result"
    }
   ],
   "source": [
    "l1   # 9 is added at the end of the list"
   ]
  },
  {
   "cell_type": "code",
   "execution_count": 19,
   "id": "f52e9f6e",
   "metadata": {},
   "outputs": [],
   "source": [
    "l1.insert(2, 10)"
   ]
  },
  {
   "cell_type": "code",
   "execution_count": 20,
   "id": "ac33c355",
   "metadata": {},
   "outputs": [
    {
     "data": {
      "text/plain": [
       "[1, 2, 10, 3, 4, 9]"
      ]
     },
     "execution_count": 20,
     "metadata": {},
     "output_type": "execute_result"
    }
   ],
   "source": [
    "l1   # 10 is inserted before 2nd index"
   ]
  },
  {
   "cell_type": "code",
   "execution_count": null,
   "id": "cba96a03",
   "metadata": {},
   "outputs": [],
   "source": []
  },
  {
   "cell_type": "markdown",
   "id": "66af234c",
   "metadata": {},
   "source": [
    "11 . What are the two methods for removing items from a list?"
   ]
  },
  {
   "cell_type": "markdown",
   "id": "9fdfa94f",
   "metadata": {},
   "source": [
    "Answer: pop() and remove() are the two methods for removinf items from list."
   ]
  },
  {
   "cell_type": "code",
   "execution_count": 21,
   "id": "2aa1bad1",
   "metadata": {},
   "outputs": [
    {
     "data": {
      "text/plain": [
       "9"
      ]
     },
     "execution_count": 21,
     "metadata": {},
     "output_type": "execute_result"
    }
   ],
   "source": [
    "l1.pop()"
   ]
  },
  {
   "cell_type": "code",
   "execution_count": 22,
   "id": "a8fe76c3",
   "metadata": {},
   "outputs": [
    {
     "data": {
      "text/plain": [
       "[1, 2, 10, 3, 4]"
      ]
     },
     "execution_count": 22,
     "metadata": {},
     "output_type": "execute_result"
    }
   ],
   "source": [
    "l1   #pop()  "
   ]
  },
  {
   "cell_type": "code",
   "execution_count": 23,
   "id": "dc3ec1aa",
   "metadata": {},
   "outputs": [],
   "source": [
    "l1.remove(10)"
   ]
  },
  {
   "cell_type": "code",
   "execution_count": 24,
   "id": "4f38c0a9",
   "metadata": {},
   "outputs": [
    {
     "data": {
      "text/plain": [
       "[1, 2, 3, 4]"
      ]
     },
     "execution_count": 24,
     "metadata": {},
     "output_type": "execute_result"
    }
   ],
   "source": [
    "l1"
   ]
  },
  {
   "cell_type": "code",
   "execution_count": null,
   "id": "a09929e7",
   "metadata": {},
   "outputs": [],
   "source": []
  },
  {
   "cell_type": "markdown",
   "id": "a1804c79",
   "metadata": {},
   "source": [
    "12 . Describe how list values and string values are identical."
   ]
  },
  {
   "cell_type": "markdown",
   "id": "3460db96",
   "metadata": {},
   "source": [
    "Answer: The similarity is both are sequential values"
   ]
  },
  {
   "cell_type": "code",
   "execution_count": null,
   "id": "dbbbc91e",
   "metadata": {},
   "outputs": [],
   "source": []
  },
  {
   "cell_type": "markdown",
   "id": "08c422f3",
   "metadata": {},
   "source": [
    "13 . What's the difference between tuples and lists?"
   ]
  },
  {
   "cell_type": "markdown",
   "id": "12a542ee",
   "metadata": {},
   "source": [
    "Answer: List are mutable objects , tuples are immutable objects.\n",
    "        list can be created using [] brackets , tuples are created using () brackets."
   ]
  },
  {
   "cell_type": "code",
   "execution_count": null,
   "id": "6d525ece",
   "metadata": {},
   "outputs": [],
   "source": []
  },
  {
   "cell_type": "markdown",
   "id": "6a924d88",
   "metadata": {},
   "source": [
    "14 . How do you type a tuple value that only contains the integer 42?"
   ]
  },
  {
   "cell_type": "code",
   "execution_count": 25,
   "id": "ab7dd963",
   "metadata": {},
   "outputs": [
    {
     "data": {
      "text/plain": [
       "(42,)"
      ]
     },
     "execution_count": 25,
     "metadata": {},
     "output_type": "execute_result"
    }
   ],
   "source": [
    "t = (42,)\n",
    "t\n"
   ]
  },
  {
   "cell_type": "code",
   "execution_count": null,
   "id": "40352837",
   "metadata": {},
   "outputs": [],
   "source": []
  },
  {
   "cell_type": "markdown",
   "id": "c02e2767",
   "metadata": {},
   "source": [
    "15 . How do you get a list value's tuple form? How do you get a tuple value's list form?"
   ]
  },
  {
   "cell_type": "markdown",
   "id": "53e18bf8",
   "metadata": {},
   "source": [
    "Answer : We can use the built in functions tuple() to get a list into tuple form ,\n",
    "        and list() to get a tuple form."
   ]
  },
  {
   "cell_type": "code",
   "execution_count": 26,
   "id": "d2bfc7c2",
   "metadata": {},
   "outputs": [
    {
     "data": {
      "text/plain": [
       "[1, 2, 3, 4]"
      ]
     },
     "execution_count": 26,
     "metadata": {},
     "output_type": "execute_result"
    }
   ],
   "source": [
    "l1"
   ]
  },
  {
   "cell_type": "code",
   "execution_count": 27,
   "id": "edbb1250",
   "metadata": {},
   "outputs": [
    {
     "data": {
      "text/plain": [
       "tuple"
      ]
     },
     "execution_count": 27,
     "metadata": {},
     "output_type": "execute_result"
    }
   ],
   "source": [
    "type(tuple(l1))"
   ]
  },
  {
   "cell_type": "code",
   "execution_count": 28,
   "id": "d9452435",
   "metadata": {},
   "outputs": [
    {
     "name": "stdout",
     "output_type": "stream",
     "text": [
      "<class 'tuple'>\n"
     ]
    }
   ],
   "source": [
    "t = (1,2,3,4)\n",
    "print(type(t))"
   ]
  },
  {
   "cell_type": "code",
   "execution_count": 29,
   "id": "be42f5a3",
   "metadata": {},
   "outputs": [
    {
     "data": {
      "text/plain": [
       "list"
      ]
     },
     "execution_count": 29,
     "metadata": {},
     "output_type": "execute_result"
    }
   ],
   "source": [
    "type(list(t))"
   ]
  },
  {
   "cell_type": "code",
   "execution_count": null,
   "id": "e0fae100",
   "metadata": {},
   "outputs": [],
   "source": []
  },
  {
   "cell_type": "markdown",
   "id": "7bd6202c",
   "metadata": {},
   "source": [
    "16 . Variables that \"contain\" list values are not necessarily lists themselves. Instead, what do they\n",
    "contain?"
   ]
  },
  {
   "cell_type": "markdown",
   "id": "5cfe4648",
   "metadata": {},
   "source": [
    "Answer :They contain references to list values"
   ]
  },
  {
   "cell_type": "code",
   "execution_count": null,
   "id": "7134fc12",
   "metadata": {},
   "outputs": [],
   "source": []
  },
  {
   "cell_type": "markdown",
   "id": "d52c4c4c",
   "metadata": {},
   "source": [
    "17 . How do you distinguish between copy.copy() and copy.deepcopy()?"
   ]
  },
  {
   "cell_type": "markdown",
   "id": "2b48060c",
   "metadata": {},
   "source": [
    "Answer: copy.copy() will create a shallow copy of the list\n",
    "        \n",
    "        copy.deepcopy() will create a deep copy for the list."
   ]
  },
  {
   "cell_type": "code",
   "execution_count": null,
   "id": "6da668b1",
   "metadata": {},
   "outputs": [],
   "source": []
  }
 ],
 "metadata": {
  "kernelspec": {
   "display_name": "Python 3 (ipykernel)",
   "language": "python",
   "name": "python3"
  },
  "language_info": {
   "codemirror_mode": {
    "name": "ipython",
    "version": 3
   },
   "file_extension": ".py",
   "mimetype": "text/x-python",
   "name": "python",
   "nbconvert_exporter": "python",
   "pygments_lexer": "ipython3",
   "version": "3.9.12"
  }
 },
 "nbformat": 4,
 "nbformat_minor": 5
}
