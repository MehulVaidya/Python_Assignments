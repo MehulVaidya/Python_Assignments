{
 "cells": [
  {
   "cell_type": "raw",
   "id": "1a38d6ba",
   "metadata": {},
   "source": [
    "1. Write a Python program to print 'Hello Python'?"
   ]
  },
  {
   "cell_type": "code",
   "execution_count": 1,
   "id": "413cf533",
   "metadata": {},
   "outputs": [
    {
     "name": "stdout",
     "output_type": "stream",
     "text": [
      "Hello Python\n"
     ]
    }
   ],
   "source": [
    "print('Hello Python')"
   ]
  },
  {
   "cell_type": "code",
   "execution_count": null,
   "id": "15cf37b5",
   "metadata": {},
   "outputs": [],
   "source": []
  },
  {
   "cell_type": "raw",
   "id": "a1cff5a4",
   "metadata": {},
   "source": [
    "2. Write a Python program to do arithmetical operations addition and division.?"
   ]
  },
  {
   "cell_type": "code",
   "execution_count": 2,
   "id": "8cd316b8",
   "metadata": {},
   "outputs": [],
   "source": [
    "a,b = 10, 20"
   ]
  },
  {
   "cell_type": "code",
   "execution_count": 3,
   "id": "6e0688bf",
   "metadata": {},
   "outputs": [
    {
     "name": "stdout",
     "output_type": "stream",
     "text": [
      "30\n"
     ]
    }
   ],
   "source": [
    "print(a + b)"
   ]
  },
  {
   "cell_type": "code",
   "execution_count": 4,
   "id": "81af5aac",
   "metadata": {},
   "outputs": [
    {
     "name": "stdout",
     "output_type": "stream",
     "text": [
      "0.5\n"
     ]
    }
   ],
   "source": [
    "print(a/b)"
   ]
  },
  {
   "cell_type": "code",
   "execution_count": null,
   "id": "4ebbc680",
   "metadata": {},
   "outputs": [],
   "source": []
  },
  {
   "cell_type": "raw",
   "id": "8fae463a",
   "metadata": {},
   "source": [
    "3. Write a Python program to find the area of a triangle?"
   ]
  },
  {
   "cell_type": "code",
   "execution_count": 5,
   "id": "41b6b805",
   "metadata": {},
   "outputs": [],
   "source": [
    "base = 20\n",
    "height = 10"
   ]
  },
  {
   "cell_type": "code",
   "execution_count": 6,
   "id": "3f50d750",
   "metadata": {},
   "outputs": [],
   "source": [
    "Area_of_triange = 1/2 * base * height"
   ]
  },
  {
   "cell_type": "code",
   "execution_count": 7,
   "id": "f66caf00",
   "metadata": {},
   "outputs": [
    {
     "name": "stdout",
     "output_type": "stream",
     "text": [
      "100.0\n"
     ]
    }
   ],
   "source": [
    "print(Area_of_triange)"
   ]
  },
  {
   "cell_type": "code",
   "execution_count": null,
   "id": "4197ca86",
   "metadata": {},
   "outputs": [],
   "source": []
  },
  {
   "cell_type": "raw",
   "id": "669c3aa5",
   "metadata": {},
   "source": [
    "4. Write a Python program to swap two variables?"
   ]
  },
  {
   "cell_type": "code",
   "execution_count": 8,
   "id": "83bea86a",
   "metadata": {},
   "outputs": [],
   "source": [
    "y, z = 15, 25"
   ]
  },
  {
   "cell_type": "code",
   "execution_count": 9,
   "id": "bc0841b1",
   "metadata": {},
   "outputs": [
    {
     "name": "stdout",
     "output_type": "stream",
     "text": [
      "15 25\n"
     ]
    }
   ],
   "source": [
    "print(y,z)"
   ]
  },
  {
   "cell_type": "code",
   "execution_count": 10,
   "id": "9d64aeda",
   "metadata": {},
   "outputs": [],
   "source": [
    "y,z = z,y #swap two variables"
   ]
  },
  {
   "cell_type": "code",
   "execution_count": 11,
   "id": "c8ec019a",
   "metadata": {},
   "outputs": [
    {
     "name": "stdout",
     "output_type": "stream",
     "text": [
      "25 15\n"
     ]
    }
   ],
   "source": [
    "print(y,z)"
   ]
  },
  {
   "cell_type": "code",
   "execution_count": null,
   "id": "399604c9",
   "metadata": {},
   "outputs": [],
   "source": []
  },
  {
   "cell_type": "raw",
   "id": "97d5490e",
   "metadata": {},
   "source": [
    "5. Write a Python program to generate a random number?"
   ]
  },
  {
   "cell_type": "code",
   "execution_count": 12,
   "id": "2c7cd338",
   "metadata": {},
   "outputs": [],
   "source": [
    "import random"
   ]
  },
  {
   "cell_type": "code",
   "execution_count": 13,
   "id": "3627acbf",
   "metadata": {},
   "outputs": [],
   "source": [
    "num = random.random()"
   ]
  },
  {
   "cell_type": "code",
   "execution_count": 14,
   "id": "49abe339",
   "metadata": {},
   "outputs": [
    {
     "name": "stdout",
     "output_type": "stream",
     "text": [
      "0.5549729802373906\n"
     ]
    }
   ],
   "source": [
    "print(num)"
   ]
  }
 ],
 "metadata": {
  "kernelspec": {
   "display_name": "Python 3 (ipykernel)",
   "language": "python",
   "name": "python3"
  },
  "language_info": {
   "codemirror_mode": {
    "name": "ipython",
    "version": 3
   },
   "file_extension": ".py",
   "mimetype": "text/x-python",
   "name": "python",
   "nbconvert_exporter": "python",
   "pygments_lexer": "ipython3",
   "version": "3.9.12"
  }
 },
 "nbformat": 4,
 "nbformat_minor": 5
}
