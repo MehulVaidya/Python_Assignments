{
 "cells": [
  {
   "cell_type": "markdown",
   "id": "f441862a-3cfb-4b09-801f-0f167bbd28ea",
   "metadata": {},
   "source": [
    "1. Write a Python program to find words which are greater than given length k?"
   ]
  },
  {
   "cell_type": "code",
   "execution_count": 1,
   "id": "43dc6d91-05d0-4ea9-a9ce-c226dc004bd0",
   "metadata": {},
   "outputs": [],
   "source": [
    "l = 'morning evening afternoon'"
   ]
  },
  {
   "cell_type": "code",
   "execution_count": null,
   "id": "77597c1c-e3e6-4d73-a603-10a814b6b909",
   "metadata": {},
   "outputs": [],
   "source": []
  },
  {
   "cell_type": "code",
   "execution_count": 2,
   "id": "daa4206d-f80a-4bb3-bfbd-ab68d4543f2d",
   "metadata": {},
   "outputs": [],
   "source": [
    "def greater_len(string,n):\n",
    "    l = string.split()\n",
    "    for i in l:\n",
    "        if len(i) > n:\n",
    "            print(i)"
   ]
  },
  {
   "cell_type": "code",
   "execution_count": 3,
   "id": "a74a749b-1e64-432c-84b5-6795fc872b10",
   "metadata": {},
   "outputs": [
    {
     "name": "stdout",
     "output_type": "stream",
     "text": [
      "morning\n",
      "evening\n",
      "afternoon\n"
     ]
    }
   ],
   "source": [
    "greater_len(l, 4)"
   ]
  },
  {
   "cell_type": "code",
   "execution_count": null,
   "id": "7f019753-948f-4ced-aa76-26a81d35047e",
   "metadata": {},
   "outputs": [],
   "source": []
  },
  {
   "cell_type": "markdown",
   "id": "b9901e85-6e64-4078-8748-430c426fd538",
   "metadata": {},
   "source": [
    "2. Write a Python program for removing i-th character from a string?"
   ]
  },
  {
   "cell_type": "code",
   "execution_count": 4,
   "id": "c225f785-95f4-4426-bb1f-ec8252dd7cb4",
   "metadata": {},
   "outputs": [],
   "source": [
    "s = 'hello'"
   ]
  },
  {
   "cell_type": "code",
   "execution_count": 5,
   "id": "10edab09-8eef-4ea0-8840-1ff148a6023d",
   "metadata": {},
   "outputs": [],
   "source": [
    "def rem_ith_char(string, i):\n",
    "    a = string[: i]\n",
    "    b = string[i + 1:]\n",
    "    return a + b"
   ]
  },
  {
   "cell_type": "code",
   "execution_count": 6,
   "id": "793299de-91c8-41e8-b273-21e6ccb38999",
   "metadata": {},
   "outputs": [
    {
     "data": {
      "text/plain": [
       "'hllo'"
      ]
     },
     "execution_count": 6,
     "metadata": {},
     "output_type": "execute_result"
    }
   ],
   "source": [
    "rem_ith_char(s, 1)"
   ]
  },
  {
   "cell_type": "code",
   "execution_count": null,
   "id": "63dc43d0-a27f-4f1c-ad4b-40df6ebe9763",
   "metadata": {},
   "outputs": [],
   "source": []
  },
  {
   "cell_type": "markdown",
   "id": "4292b1d0",
   "metadata": {},
   "source": [
    "3. Write a Python program to split and join a string?"
   ]
  },
  {
   "cell_type": "code",
   "execution_count": 7,
   "id": "ce9fc9a7-6b9c-4955-b5c8-a5824216ecb8",
   "metadata": {},
   "outputs": [],
   "source": [
    "def split_join_str(string):\n",
    "    a = string.split()\n",
    "    b = '-'.join(a)\n",
    "    return b   "
   ]
  },
  {
   "cell_type": "code",
   "execution_count": 8,
   "id": "f4645bb1-5f2f-4ca9-89b3-d9d27df040b4",
   "metadata": {},
   "outputs": [
    {
     "data": {
      "text/plain": [
       "'i-am-from-ineuron'"
      ]
     },
     "execution_count": 8,
     "metadata": {},
     "output_type": "execute_result"
    }
   ],
   "source": [
    "split_join_str('i am from ineuron')"
   ]
  },
  {
   "cell_type": "code",
   "execution_count": null,
   "id": "195f4236-1183-4408-bb9b-4e79922639f4",
   "metadata": {},
   "outputs": [],
   "source": []
  },
  {
   "cell_type": "markdown",
   "id": "486cca8d",
   "metadata": {},
   "source": [
    "4. Write a Python to check if a given string is binary string or not?"
   ]
  },
  {
   "cell_type": "code",
   "execution_count": null,
   "id": "3e156dbf",
   "metadata": {},
   "outputs": [],
   "source": []
  },
  {
   "cell_type": "code",
   "execution_count": 9,
   "id": "d601d4f5-1559-4f24-b42c-61ad775073a6",
   "metadata": {},
   "outputs": [],
   "source": [
    "def str_binary_check(string):\n",
    "    for i in string:\n",
    "        if i in ('1','0'):\n",
    "            return f'True its a binary string, {string}'\n",
    "        else:\n",
    "            return f'Fasle its not a binary string, {string}'        "
   ]
  },
  {
   "cell_type": "code",
   "execution_count": 10,
   "id": "b3043fc5-3cc9-4c43-a0ef-6bce9d9b5055",
   "metadata": {},
   "outputs": [
    {
     "data": {
      "text/plain": [
       "'True its a binary string, 1010101'"
      ]
     },
     "execution_count": 10,
     "metadata": {},
     "output_type": "execute_result"
    }
   ],
   "source": [
    "str_binary_check('1010101')"
   ]
  },
  {
   "cell_type": "code",
   "execution_count": 11,
   "id": "336fb575-d6e2-4351-86e0-1f58eb3c438f",
   "metadata": {},
   "outputs": [
    {
     "data": {
      "text/plain": [
       "'Fasle its not a binary string, hello'"
      ]
     },
     "execution_count": 11,
     "metadata": {},
     "output_type": "execute_result"
    }
   ],
   "source": [
    "str_binary_check('hello')"
   ]
  },
  {
   "cell_type": "code",
   "execution_count": null,
   "id": "27163808-9016-4dc1-96eb-5178423a5eb3",
   "metadata": {},
   "outputs": [],
   "source": []
  },
  {
   "cell_type": "markdown",
   "id": "e5f725aa",
   "metadata": {},
   "source": [
    "5. Write a Python program to find uncommon words from two Strings?"
   ]
  },
  {
   "cell_type": "code",
   "execution_count": 12,
   "id": "21b26708-045c-4b16-8c3e-833afc416063",
   "metadata": {},
   "outputs": [],
   "source": [
    "s = 'from mumbai maharastra'"
   ]
  },
  {
   "cell_type": "code",
   "execution_count": 13,
   "id": "42efccee-0c3b-4d78-8ed6-1a50832a1312",
   "metadata": {},
   "outputs": [],
   "source": [
    "s1 = 'from mumbai'"
   ]
  },
  {
   "cell_type": "code",
   "execution_count": 14,
   "id": "c9aa30aa-19c7-4140-ad75-5e7846e5f19c",
   "metadata": {},
   "outputs": [],
   "source": [
    "def uncommon_words(a, b):\n",
    "    a=a.split()\n",
    "    b=b.split()\n",
    "    x=[]\n",
    "    for i in a:\n",
    "        if i not in b:\n",
    "            x.append(i)\n",
    "    for i in b:\n",
    "        if i not in a:\n",
    "            x.append(i)\n",
    "    x=list(set(x))\n",
    "    return x"
   ]
  },
  {
   "cell_type": "code",
   "execution_count": 15,
   "id": "2439538a-056d-42de-ad6f-af726765a206",
   "metadata": {},
   "outputs": [
    {
     "data": {
      "text/plain": [
       "['maharastra']"
      ]
     },
     "execution_count": 15,
     "metadata": {},
     "output_type": "execute_result"
    }
   ],
   "source": [
    "uncommon_words(s,s1)"
   ]
  },
  {
   "cell_type": "code",
   "execution_count": null,
   "id": "6b775fd2-5ccf-4558-b81e-9799465223d8",
   "metadata": {},
   "outputs": [],
   "source": []
  },
  {
   "cell_type": "markdown",
   "id": "54587ca2",
   "metadata": {},
   "source": [
    "6. Write a Python to find all duplicate characters in string?"
   ]
  },
  {
   "cell_type": "code",
   "execution_count": 16,
   "id": "baa16a7c-14b3-404c-8bc6-032a601fd24d",
   "metadata": {},
   "outputs": [],
   "source": [
    "def str_duplicate(string):\n",
    "    n = []\n",
    "    for i in string:\n",
    "        if string.count(i) > 1:\n",
    "            n.append(i)\n",
    "    print(set(n))\n",
    "        "
   ]
  },
  {
   "cell_type": "code",
   "execution_count": 17,
   "id": "81d9700b",
   "metadata": {},
   "outputs": [
    {
     "name": "stdout",
     "output_type": "stream",
     "text": [
      "{'2', 'm'}\n"
     ]
    }
   ],
   "source": [
    "str_duplicate('m22m312')"
   ]
  },
  {
   "cell_type": "code",
   "execution_count": null,
   "id": "b0485761-1800-4ce1-9f8f-1ede4486aba8",
   "metadata": {},
   "outputs": [],
   "source": []
  },
  {
   "cell_type": "markdown",
   "id": "742576f5",
   "metadata": {},
   "source": [
    "7. Write a Python Program to check if a string contains any special character?"
   ]
  },
  {
   "cell_type": "code",
   "execution_count": 18,
   "id": "4a2b010a-5be5-43c9-b64f-97ffb36ef57c",
   "metadata": {},
   "outputs": [],
   "source": [
    "special_char = '[@_!#$%^&*()<>?/\\|}{~:]'"
   ]
  },
  {
   "cell_type": "code",
   "execution_count": 19,
   "id": "e0a2122c-0e01-42af-a2f6-cd13460fe156",
   "metadata": {},
   "outputs": [],
   "source": [
    "def special_character_check(string):\n",
    "    for i in string:\n",
    "        if i in special_char:\n",
    "            print(f'the given string contains special character, {i}')\n",
    "            break\n",
    "    else:\n",
    "        print('the given string does not contain specail charatcer')"
   ]
  },
  {
   "cell_type": "code",
   "execution_count": 20,
   "id": "48ff3240-9cd3-436b-8504-edb0d1ff8bd3",
   "metadata": {},
   "outputs": [
    {
     "name": "stdout",
     "output_type": "stream",
     "text": [
      "the given string does not contain specail charatcer\n"
     ]
    }
   ],
   "source": [
    "special_character_check('ineuron')"
   ]
  },
  {
   "cell_type": "code",
   "execution_count": 21,
   "id": "deb7c9d4-d7af-49f6-b416-1d421b4aa06f",
   "metadata": {},
   "outputs": [
    {
     "name": "stdout",
     "output_type": "stream",
     "text": [
      "the given string contains special character, @\n"
     ]
    }
   ],
   "source": [
    "special_character_check('mehul@1234')"
   ]
  }
 ],
 "metadata": {
  "kernelspec": {
   "display_name": "Python 3 (ipykernel)",
   "language": "python",
   "name": "python3"
  },
  "language_info": {
   "codemirror_mode": {
    "name": "ipython",
    "version": 3
   },
   "file_extension": ".py",
   "mimetype": "text/x-python",
   "name": "python",
   "nbconvert_exporter": "python",
   "pygments_lexer": "ipython3",
   "version": "3.9.12"
  }
 },
 "nbformat": 4,
 "nbformat_minor": 5
}
