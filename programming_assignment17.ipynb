{
 "cells": [
  {
   "cell_type": "markdown",
   "id": "f3d9096c",
   "metadata": {},
   "source": [
    "Question1.\n",
    "\n",
    "Create a function that takes three arguments a, b, c and returns the sum of the\n",
    "numbers that are evenly divided by c from the range a, b inclusive.\n",
    "Examples\n",
    "evenly_divisible(1, 10, 20) ➞ 0\n",
    " No number between 1 and 10 can be evenly divided by 20.\n",
    "evenly_divisible(1, 10, 2) ➞ 30\n",
    " 2 + 4 + 6 + 8 + 10 = 30\n",
    "evenly_divisible(1, 10, 3) ➞ 18\n",
    " 3 + 6 + 9 = 18"
   ]
  },
  {
   "cell_type": "code",
   "execution_count": 3,
   "id": "3ef5be4a",
   "metadata": {},
   "outputs": [],
   "source": [
    "def evenly_divisible(a,b,c):\n",
    "    l=0\n",
    "    for i in range(a, b+1):\n",
    "        if i%c==0:\n",
    "            l = l+i\n",
    "    return f'the total sum is {l}'"
   ]
  },
  {
   "cell_type": "code",
   "execution_count": 7,
   "id": "e4525f70",
   "metadata": {},
   "outputs": [
    {
     "data": {
      "text/plain": [
       "'the total sum is 18'"
      ]
     },
     "execution_count": 7,
     "metadata": {},
     "output_type": "execute_result"
    }
   ],
   "source": [
    "evenly_divisible(1,10,3)"
   ]
  },
  {
   "cell_type": "code",
   "execution_count": null,
   "id": "9846d16d",
   "metadata": {},
   "outputs": [],
   "source": []
  },
  {
   "cell_type": "markdown",
   "id": "1e3e1763",
   "metadata": {},
   "source": [
    "Question2. \n",
    "\n",
    "Create a function that returns True if a given inequality expression is correct and\n",
    "False otherwise.\n",
    "Examples\n",
    "correct_signs(&quot;3 &lt; 7 &lt; 11&quot;) ➞ True\n",
    "correct_signs(&quot;13 &gt; 44 &gt; 33 &gt; 1&quot;) ➞ False\n",
    "correct_signs(&quot;1 &lt; 2 &lt; 6 &lt; 9 &gt; 3&quot;) ➞ True"
   ]
  },
  {
   "cell_type": "code",
   "execution_count": 9,
   "id": "d525e50b",
   "metadata": {},
   "outputs": [],
   "source": [
    "def check_expression(string):\n",
    "    res = eval(string)\n",
    "    return f'the given expression {string } is {res}'"
   ]
  },
  {
   "cell_type": "code",
   "execution_count": 10,
   "id": "d42d0c88",
   "metadata": {},
   "outputs": [
    {
     "data": {
      "text/plain": [
       "'the given expression 1<2<6<9>3 is True'"
      ]
     },
     "execution_count": 10,
     "metadata": {},
     "output_type": "execute_result"
    }
   ],
   "source": [
    "check_expression('1<2<6<9>3')"
   ]
  },
  {
   "cell_type": "code",
   "execution_count": null,
   "id": "748f11d5",
   "metadata": {},
   "outputs": [],
   "source": []
  },
  {
   "cell_type": "markdown",
   "id": "00357897",
   "metadata": {},
   "source": [
    "Question3. \n",
    "\n",
    "Create a function that replaces all the vowels in a string with a specified character.\n",
    "Examples\n",
    "replace_vowels(&quot;the aardvark&quot;, &quot;#&quot;) ➞ &quot;th# ##rdv#rk&quot;\n",
    "replace_vowels(&quot;minnie mouse&quot;, &quot;?&quot;) ➞ &quot;m?nn?? m??s?&quot;\n",
    "replace_vowels(&quot;shakespeare&quot;, &quot;*&quot;) ➞ &quot;sh*k*sp**r*&quot;"
   ]
  },
  {
   "cell_type": "code",
   "execution_count": 25,
   "id": "85542fa7",
   "metadata": {},
   "outputs": [],
   "source": [
    "v = 'AEIOUaeiou'\n",
    "\n",
    "\n",
    "def rep_with_char(string, char):\n",
    "    \n",
    "    v = 'AEIOUaeiou'\n",
    "    for i in v:\n",
    "        string = string.replace(i, char)\n",
    "        \n",
    "    return string\n",
    "            \n"
   ]
  },
  {
   "cell_type": "code",
   "execution_count": 28,
   "id": "8d14fb02",
   "metadata": {},
   "outputs": [
    {
     "data": {
      "text/plain": [
       "'m?nn?? m??s?'"
      ]
     },
     "execution_count": 28,
     "metadata": {},
     "output_type": "execute_result"
    }
   ],
   "source": [
    "rep_with_char('minnie mouse', '?')"
   ]
  },
  {
   "cell_type": "code",
   "execution_count": null,
   "id": "07993d0e",
   "metadata": {},
   "outputs": [],
   "source": []
  },
  {
   "cell_type": "markdown",
   "id": "26f8c7ff",
   "metadata": {},
   "source": [
    "Question4.\n",
    "\n",
    "Write a function that calculates the factorial of a number recursively.\n",
    "Examples\n",
    "factorial(5) ➞ 120\n",
    "factorial(3) ➞ 6\n",
    "factorial(1) ➞ 1\n",
    "factorial(0) ➞ 1"
   ]
  },
  {
   "cell_type": "code",
   "execution_count": 29,
   "id": "55da8ace",
   "metadata": {},
   "outputs": [],
   "source": [
    "def factorial(n):     \n",
    "    if n == 0:\n",
    "        return 1    \n",
    "    return n * factorial(n-1)\n"
   ]
  },
  {
   "cell_type": "code",
   "execution_count": 30,
   "id": "d934b882",
   "metadata": {},
   "outputs": [
    {
     "data": {
      "text/plain": [
       "6"
      ]
     },
     "execution_count": 30,
     "metadata": {},
     "output_type": "execute_result"
    }
   ],
   "source": [
    "factorial(3)"
   ]
  },
  {
   "cell_type": "code",
   "execution_count": null,
   "id": "d2ce679f",
   "metadata": {},
   "outputs": [],
   "source": []
  },
  {
   "cell_type": "markdown",
   "id": "0609398f",
   "metadata": {},
   "source": [
    "Question 5\n",
    "\n",
    "\n",
    "Hamming distance is the number of characters that differ between two strings.\n",
    "To illustrate:\n",
    "String1: &quot;abcbba&quot;\n",
    "String2: &quot;abcbda&quot;\n",
    "Hamming Distance: 1 - &quot;b&quot; vs. &quot;d&quot; is the only difference.\n",
    "Create a function that computes the hamming distance between two strings.\n",
    "Examples\n",
    "hamming_distance(&quot;abcde&quot;, &quot;bcdef&quot;) ➞ 5\n",
    "hamming_distance(&quot;abcde&quot;, &quot;abcde&quot;) ➞ 0\n",
    "hamming_distance(&quot;strong&quot;, &quot;strung&quot;) ➞ 1"
   ]
  },
  {
   "cell_type": "code",
   "execution_count": 39,
   "id": "008167ad",
   "metadata": {},
   "outputs": [],
   "source": [
    "def hamming_distance(str1, str2):\n",
    "    i = 0\n",
    "    count = 0\n",
    " \n",
    "    while(i < len(str1)):\n",
    "        if(str1[i] != str2[i]):\n",
    "            count += 1\n",
    "        i += 1\n",
    "    return count "
   ]
  },
  {
   "cell_type": "code",
   "execution_count": 40,
   "id": "94c4daaf",
   "metadata": {},
   "outputs": [
    {
     "data": {
      "text/plain": [
       "5"
      ]
     },
     "execution_count": 40,
     "metadata": {},
     "output_type": "execute_result"
    }
   ],
   "source": [
    "hamming_distance(\"abcde\", \"bcdef\")"
   ]
  },
  {
   "cell_type": "code",
   "execution_count": null,
   "id": "3532692a",
   "metadata": {},
   "outputs": [],
   "source": []
  }
 ],
 "metadata": {
  "kernelspec": {
   "display_name": "Python 3 (ipykernel)",
   "language": "python",
   "name": "python3"
  },
  "language_info": {
   "codemirror_mode": {
    "name": "ipython",
    "version": 3
   },
   "file_extension": ".py",
   "mimetype": "text/x-python",
   "name": "python",
   "nbconvert_exporter": "python",
   "pygments_lexer": "ipython3",
   "version": "3.9.12"
  }
 },
 "nbformat": 4,
 "nbformat_minor": 5
}
