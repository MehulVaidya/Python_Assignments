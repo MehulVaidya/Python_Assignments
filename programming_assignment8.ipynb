{
 "cells": [
  {
   "cell_type": "markdown",
   "id": "0865a6fa",
   "metadata": {},
   "source": [
    "1. Write a Python Program to Add Two Matrices?"
   ]
  },
  {
   "cell_type": "code",
   "execution_count": 1,
   "id": "46363b89",
   "metadata": {},
   "outputs": [],
   "source": [
    "import numpy as np"
   ]
  },
  {
   "cell_type": "code",
   "execution_count": 10,
   "id": "acdd689a",
   "metadata": {},
   "outputs": [],
   "source": [
    "l = [[1,2], [3,4]]"
   ]
  },
  {
   "cell_type": "code",
   "execution_count": 13,
   "id": "734ae759",
   "metadata": {},
   "outputs": [
    {
     "data": {
      "text/plain": [
       "array([[1, 2],\n",
       "       [3, 4]])"
      ]
     },
     "execution_count": 13,
     "metadata": {},
     "output_type": "execute_result"
    }
   ],
   "source": [
    "a  = np.array(l)\n",
    "a"
   ]
  },
  {
   "cell_type": "code",
   "execution_count": 14,
   "id": "e2d3b3b6",
   "metadata": {},
   "outputs": [],
   "source": [
    "l1 = [[3,4], [5,6]]"
   ]
  },
  {
   "cell_type": "code",
   "execution_count": 15,
   "id": "69ea09e3",
   "metadata": {},
   "outputs": [],
   "source": [
    "b = np.array(l1)"
   ]
  },
  {
   "cell_type": "code",
   "execution_count": 16,
   "id": "358cef1e",
   "metadata": {},
   "outputs": [
    {
     "data": {
      "text/plain": [
       "array([[3, 4],\n",
       "       [5, 6]])"
      ]
     },
     "execution_count": 16,
     "metadata": {},
     "output_type": "execute_result"
    }
   ],
   "source": [
    "b"
   ]
  },
  {
   "cell_type": "code",
   "execution_count": 18,
   "id": "0ac68546",
   "metadata": {},
   "outputs": [],
   "source": [
    "def arr_add(matrix1, matrix2):\n",
    "    c = matrix1 + matrix2\n",
    "    return c"
   ]
  },
  {
   "cell_type": "code",
   "execution_count": 19,
   "id": "4a92cac2",
   "metadata": {},
   "outputs": [
    {
     "data": {
      "text/plain": [
       "array([[ 4,  6],\n",
       "       [ 8, 10]])"
      ]
     },
     "execution_count": 19,
     "metadata": {},
     "output_type": "execute_result"
    }
   ],
   "source": [
    "arr_add(a,b)"
   ]
  },
  {
   "cell_type": "code",
   "execution_count": null,
   "id": "5669f0bf",
   "metadata": {},
   "outputs": [],
   "source": []
  },
  {
   "cell_type": "markdown",
   "id": "021c8927",
   "metadata": {},
   "source": [
    "2. Write a Python Program to Multiply Two Matrices?"
   ]
  },
  {
   "cell_type": "code",
   "execution_count": 20,
   "id": "7d8acd47",
   "metadata": {},
   "outputs": [],
   "source": [
    "def arr_multiply(matrix1, matrix2):\n",
    "    mul = matrix1 @ matrix2\n",
    "    return mul"
   ]
  },
  {
   "cell_type": "code",
   "execution_count": 21,
   "id": "4f5bf152",
   "metadata": {},
   "outputs": [
    {
     "data": {
      "text/plain": [
       "array([[13, 16],\n",
       "       [29, 36]])"
      ]
     },
     "execution_count": 21,
     "metadata": {},
     "output_type": "execute_result"
    }
   ],
   "source": [
    "arr_multiply(a,b)"
   ]
  },
  {
   "cell_type": "code",
   "execution_count": null,
   "id": "6c0a5f78",
   "metadata": {},
   "outputs": [],
   "source": []
  },
  {
   "cell_type": "markdown",
   "id": "60d22b73",
   "metadata": {},
   "source": [
    "3. Write a Python Program to Transpose a Matrix?"
   ]
  },
  {
   "cell_type": "code",
   "execution_count": 24,
   "id": "09c5cf7b",
   "metadata": {},
   "outputs": [],
   "source": [
    "def mat_transpose(matrix):\n",
    "    return matrix.T"
   ]
  },
  {
   "cell_type": "code",
   "execution_count": 25,
   "id": "8b1e502c",
   "metadata": {},
   "outputs": [
    {
     "data": {
      "text/plain": [
       "array([[3, 5],\n",
       "       [4, 6]])"
      ]
     },
     "execution_count": 25,
     "metadata": {},
     "output_type": "execute_result"
    }
   ],
   "source": [
    "mat_transpose(b)"
   ]
  },
  {
   "cell_type": "code",
   "execution_count": null,
   "id": "3fc3ac32",
   "metadata": {},
   "outputs": [],
   "source": []
  },
  {
   "cell_type": "markdown",
   "id": "ff7e8403",
   "metadata": {},
   "source": [
    "4. Write a Python Program to Sort Words in Alphabetic Order?"
   ]
  },
  {
   "cell_type": "code",
   "execution_count": 43,
   "id": "172074fa",
   "metadata": {},
   "outputs": [],
   "source": [
    "l = ['mumbai', 'delhi', 'karnataka', 'banglore']"
   ]
  },
  {
   "cell_type": "code",
   "execution_count": 44,
   "id": "4069cff0",
   "metadata": {},
   "outputs": [
    {
     "data": {
      "text/plain": [
       "['mumbai', 'delhi', 'karnataka', 'banglore']"
      ]
     },
     "execution_count": 44,
     "metadata": {},
     "output_type": "execute_result"
    }
   ],
   "source": [
    "l"
   ]
  },
  {
   "cell_type": "code",
   "execution_count": 45,
   "id": "e448c0fe",
   "metadata": {},
   "outputs": [],
   "source": [
    "def sorter(l):\n",
    "    l.sort()\n",
    "    return l"
   ]
  },
  {
   "cell_type": "code",
   "execution_count": 46,
   "id": "c607c970",
   "metadata": {},
   "outputs": [
    {
     "data": {
      "text/plain": [
       "['banglore', 'delhi', 'karnataka', 'mumbai']"
      ]
     },
     "execution_count": 46,
     "metadata": {},
     "output_type": "execute_result"
    }
   ],
   "source": [
    "sorter(l)"
   ]
  },
  {
   "cell_type": "code",
   "execution_count": null,
   "id": "6f3e47e7",
   "metadata": {},
   "outputs": [],
   "source": []
  },
  {
   "cell_type": "markdown",
   "id": "fce945b1",
   "metadata": {},
   "source": [
    "5. Write a Python Program to Remove Punctuation From a String?"
   ]
  },
  {
   "cell_type": "code",
   "execution_count": 48,
   "id": "26ef82b1",
   "metadata": {},
   "outputs": [],
   "source": [
    "punc = '''!()-[]{};:'\"\\,<>./?@#$%^&*_~'''\n"
   ]
  },
  {
   "cell_type": "code",
   "execution_count": 55,
   "id": "ee634fa1",
   "metadata": {},
   "outputs": [],
   "source": [
    "def remove_punctuations(string):\n",
    "    new_str = ''\n",
    "    for i in string:\n",
    "        if i not in punc:\n",
    "            new_str = new_str + i\n",
    "    return new_str\n",
    "    "
   ]
  },
  {
   "cell_type": "code",
   "execution_count": 56,
   "id": "33958802",
   "metadata": {},
   "outputs": [
    {
     "data": {
      "text/plain": [
       "'mehul'"
      ]
     },
     "execution_count": 56,
     "metadata": {},
     "output_type": "execute_result"
    }
   ],
   "source": [
    "remove_punctuations('mehul@#$')"
   ]
  },
  {
   "cell_type": "code",
   "execution_count": null,
   "id": "4fdfedf4",
   "metadata": {},
   "outputs": [],
   "source": []
  }
 ],
 "metadata": {
  "kernelspec": {
   "display_name": "Python 3 (ipykernel)",
   "language": "python",
   "name": "python3"
  },
  "language_info": {
   "codemirror_mode": {
    "name": "ipython",
    "version": 3
   },
   "file_extension": ".py",
   "mimetype": "text/x-python",
   "name": "python",
   "nbconvert_exporter": "python",
   "pygments_lexer": "ipython3",
   "version": "3.9.12"
  }
 },
 "nbformat": 4,
 "nbformat_minor": 5
}
