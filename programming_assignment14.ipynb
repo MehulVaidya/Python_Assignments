{
 "cells": [
  {
   "cell_type": "markdown",
   "id": "b97a895f",
   "metadata": {},
   "source": [
    "Question 1:\n",
    "\n",
    "Define a class with a generator which can iterate the numbers, which are divisible by\n",
    "7, between a given range 0 and n."
   ]
  },
  {
   "cell_type": "code",
   "execution_count": 2,
   "id": "12e95d68",
   "metadata": {},
   "outputs": [
    {
     "name": "stdout",
     "output_type": "stream",
     "text": [
      "enter n : 30\n",
      "0\n",
      "7\n",
      "14\n",
      "21\n",
      "28\n"
     ]
    }
   ],
   "source": [
    "def div_by_7(n):\n",
    "    for i in range(0,n):\n",
    "        if i%7==0:\n",
    "            print(i)\n",
    "n = int(input('enter n : '))\n",
    "div_by_7(n)    "
   ]
  },
  {
   "cell_type": "code",
   "execution_count": null,
   "id": "664c5576",
   "metadata": {},
   "outputs": [],
   "source": []
  },
  {
   "cell_type": "markdown",
   "id": "e87d86e5",
   "metadata": {},
   "source": [
    "Question 2:\n",
    "    \n",
    "Write a program to compute the frequency of the words from the input. The output\n",
    "should output after sorting the key alphanumerically.\n",
    "Suppose the following input is supplied to the program:\n",
    "New to Python or choosing between Python 2 and Python 3? Read Python 2 or\n",
    "Python 3.\n",
    "Then, the output should be:\n",
    "2:2\n",
    "3.:1\n",
    "3?:1\n",
    "New:1\n",
    "Python:5\n",
    "Read:1\n",
    "and:1\n",
    "between:1\n",
    "choosing:1\n",
    "or:2\n",
    "to:1"
   ]
  },
  {
   "cell_type": "code",
   "execution_count": 18,
   "id": "aa06a84d",
   "metadata": {},
   "outputs": [
    {
     "name": "stdout",
     "output_type": "stream",
     "text": [
      "enter sentence: New to Python or choosing between Python 2 and Python 3? Read Python 2 or Python 3\n",
      "2:2\n",
      "3:1\n",
      "3?:1\n",
      "New:1\n",
      "Python:5\n",
      "Read:1\n",
      "and:1\n",
      "between:1\n",
      "choosing:1\n",
      "or:2\n",
      "to:1\n"
     ]
    }
   ],
   "source": [
    "s = input('enter sentence: ').split(' ')\n",
    "w = s\n",
    "for i in sorted(set(w)):\n",
    "    print(f'{i}:{s.count(i)}')"
   ]
  },
  {
   "cell_type": "code",
   "execution_count": null,
   "id": "65b25ed2",
   "metadata": {},
   "outputs": [],
   "source": []
  },
  {
   "cell_type": "markdown",
   "id": "ecb20b8d",
   "metadata": {},
   "source": [
    "Question 3:\n",
    "\n",
    "Define a class Person and its two child classes: Male and Female. All classes have a\n",
    "method &quot;getGender&quot; which can print &quot;Male&quot; for Male class and &quot;Female&quot; for Female\n",
    "class."
   ]
  },
  {
   "cell_type": "code",
   "execution_count": 20,
   "id": "c691a27c",
   "metadata": {},
   "outputs": [
    {
     "data": {
      "text/plain": [
       "'Female'"
      ]
     },
     "execution_count": 20,
     "metadata": {},
     "output_type": "execute_result"
    }
   ],
   "source": [
    "class person:\n",
    "    def getGender(self):\n",
    "        pass\n",
    "class Male(person):\n",
    "    def getGender(self):\n",
    "        return 'Male'\n",
    "class Female(person):\n",
    "    def getGender(self):\n",
    "        return 'Female'\n",
    "    \n",
    "\n",
    "m = Male()\n",
    "m.getGender()\n",
    "f = Female()\n",
    "f.getGender()"
   ]
  },
  {
   "cell_type": "code",
   "execution_count": null,
   "id": "e9d882fa",
   "metadata": {},
   "outputs": [],
   "source": []
  },
  {
   "cell_type": "markdown",
   "id": "b9c03e14",
   "metadata": {},
   "source": [
    "Question 4:\n",
    "    \n",
    "Please write a program to generate all sentences where subject is in [&quot;I&quot;, &quot;You&quot;] and\n",
    "verb is in [&quot;Play&quot;, &quot;Love&quot;] and the object is in [&quot;Hockey&quot;,&quot;Football&quot;]."
   ]
  },
  {
   "cell_type": "code",
   "execution_count": 21,
   "id": "9e4578d4",
   "metadata": {},
   "outputs": [],
   "source": [
    "s = ['I', 'You']\n",
    "v = ['Play', 'Love']\n",
    "o = ['Hockey', 'Football']"
   ]
  },
  {
   "cell_type": "code",
   "execution_count": 23,
   "id": "bcd809fd",
   "metadata": {},
   "outputs": [
    {
     "name": "stdout",
     "output_type": "stream",
     "text": [
      "I Play Hockey\n",
      "I Play Football\n",
      "I Love Hockey\n",
      "I Love Football\n",
      "You Play Hockey\n",
      "You Play Football\n",
      "You Love Hockey\n",
      "You Love Football\n"
     ]
    }
   ],
   "source": [
    "for i in s:\n",
    "    for j in v:\n",
    "        for k in o:\n",
    "            print(i + ' ' + j + ' ' + k)"
   ]
  },
  {
   "cell_type": "code",
   "execution_count": null,
   "id": "3c18d876",
   "metadata": {},
   "outputs": [],
   "source": []
  },
  {
   "cell_type": "markdown",
   "id": "bb5858cf",
   "metadata": {},
   "source": [
    "Question 5:\n",
    "    \n",
    "Please write a program to compress and decompress the string &quot;hello world!hello\n",
    "world!hello world!hello world!&quot;."
   ]
  },
  {
   "cell_type": "code",
   "execution_count": 26,
   "id": "85f43b31",
   "metadata": {},
   "outputs": [
    {
     "name": "stdout",
     "output_type": "stream",
     "text": [
      "b'x\\x9c\\xcbH\\xcd\\xc9\\xc9W(\\xcf/\\xcaIQ\\xcc \\x82\\r\\x00\\xbd[\\x11\\xf5'\n",
      "b'hello world!hello world!hello world!hello world!'\n"
     ]
    }
   ],
   "source": [
    "import zlib\n",
    "str = 'hello world!hello world!hello world!hello world!'\n",
    "\n",
    "a = bytes(str, 'utf-8')\n",
    "compress = zlib.compress(a)\n",
    "print(compress)\n",
    "print(zlib.decompress(compress))"
   ]
  },
  {
   "cell_type": "code",
   "execution_count": null,
   "id": "69661c00",
   "metadata": {},
   "outputs": [],
   "source": []
  },
  {
   "cell_type": "markdown",
   "id": "ad2152b4",
   "metadata": {},
   "source": [
    "Question 6:\n",
    "    \n",
    "Please write a binary search function which searches an item in a sorted list. The\n",
    "function should return the index of element to be searched in the list."
   ]
  },
  {
   "cell_type": "code",
   "execution_count": 30,
   "id": "ea4671c1",
   "metadata": {},
   "outputs": [
    {
     "name": "stdout",
     "output_type": "stream",
     "text": [
      "First occurrence of 2 is present at 1\n"
     ]
    }
   ],
   "source": [
    "from bisect import bisect_left\n",
    "  \n",
    "def binarySearch(a, x):\n",
    "    i = bisect_left(a, x)\n",
    "    if i != len(a) and a[i] == x:\n",
    "        return i\n",
    "    else:\n",
    "        return -1 \n",
    "\n",
    "a = [1, 2, 3, 4, 6]\n",
    "x = int(2)\n",
    "res = binarySearch(a, x)\n",
    "if res == -1:\n",
    "    print(x, \"is absent\")\n",
    "else:\n",
    "    print(\"First occurrence of\", x, \"is present at\", res)\n"
   ]
  },
  {
   "cell_type": "code",
   "execution_count": null,
   "id": "591cb3b6",
   "metadata": {},
   "outputs": [],
   "source": []
  }
 ],
 "metadata": {
  "kernelspec": {
   "display_name": "Python 3 (ipykernel)",
   "language": "python",
   "name": "python3"
  },
  "language_info": {
   "codemirror_mode": {
    "name": "ipython",
    "version": 3
   },
   "file_extension": ".py",
   "mimetype": "text/x-python",
   "name": "python",
   "nbconvert_exporter": "python",
   "pygments_lexer": "ipython3",
   "version": "3.9.12"
  }
 },
 "nbformat": 4,
 "nbformat_minor": 5
}
