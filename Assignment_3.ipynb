{
 "cells": [
  {
   "cell_type": "markdown",
   "id": "14fd9753",
   "metadata": {},
   "source": [
    "1 . Why are functions advantageous to have in your programs?"
   ]
  },
  {
   "cell_type": "markdown",
   "id": "e8da9973",
   "metadata": {},
   "source": [
    "Answer: \n",
    "- A normal program can only be used once, where as a function once created can be used multiple times.\n",
    "- The main advantage of Function comes with its reusability . So that we dont have to write a code again and again."
   ]
  },
  {
   "cell_type": "code",
   "execution_count": null,
   "id": "b8da1f30",
   "metadata": {},
   "outputs": [],
   "source": []
  },
  {
   "cell_type": "markdown",
   "id": "13aa4289",
   "metadata": {},
   "source": [
    "2 . When does the code in a function run: when its specified or when its called? "
   ]
  },
  {
   "cell_type": "markdown",
   "id": "99385c76",
   "metadata": {},
   "source": [
    "Answer : The function code run when the function is called"
   ]
  },
  {
   "cell_type": "code",
   "execution_count": null,
   "id": "e8d02dce",
   "metadata": {},
   "outputs": [],
   "source": []
  },
  {
   "cell_type": "markdown",
   "id": "6d764bf2",
   "metadata": {},
   "source": [
    "3 . What statement creates a function?"
   ]
  },
  {
   "cell_type": "markdown",
   "id": "f952ddbd",
   "metadata": {},
   "source": [
    "Answer: The 'def' statement is used to create a function"
   ]
  },
  {
   "cell_type": "code",
   "execution_count": null,
   "id": "e5250837",
   "metadata": {},
   "outputs": [],
   "source": []
  },
  {
   "cell_type": "markdown",
   "id": "25513f1b",
   "metadata": {},
   "source": [
    "4 . What is the difference between a function and a function call?"
   ]
  },
  {
   "cell_type": "markdown",
   "id": "9e805820",
   "metadata": {},
   "source": [
    "Answer : A function is a lines of code that preforms a particular action \n",
    "        a functin call is a code/programm that performs a predefined function , a function call can be used to pass data to the function for execution."
   ]
  },
  {
   "cell_type": "code",
   "execution_count": null,
   "id": "be87f9a8",
   "metadata": {},
   "outputs": [],
   "source": []
  },
  {
   "cell_type": "markdown",
   "id": "f10ab813",
   "metadata": {},
   "source": [
    "5 . How many global scopes are there in a Python program? How many local scopes? "
   ]
  },
  {
   "cell_type": "markdown",
   "id": "084fef48",
   "metadata": {},
   "source": [
    "Answer : There is just one global as well as one local scope per function"
   ]
  },
  {
   "cell_type": "code",
   "execution_count": null,
   "id": "9ef072db",
   "metadata": {},
   "outputs": [],
   "source": []
  },
  {
   "cell_type": "markdown",
   "id": "67a80de2",
   "metadata": {},
   "source": [
    "6 . What happens to variables in a local scope when the function call returns?"
   ]
  },
  {
   "cell_type": "markdown",
   "id": "3698aed5",
   "metadata": {},
   "source": [
    "Answer : When a function call return local scope is destroyed."
   ]
  },
  {
   "cell_type": "code",
   "execution_count": null,
   "id": "32b4da2a",
   "metadata": {},
   "outputs": [],
   "source": []
  },
  {
   "cell_type": "markdown",
   "id": "eef00896",
   "metadata": {},
   "source": [
    "7 . What is the concept of a return value? Is it possible to have a return value in an expression?"
   ]
  },
  {
   "cell_type": "markdown",
   "id": "33c0a088",
   "metadata": {},
   "source": [
    "Answer : A return value is a value that a function gives when it completes its execution.\n",
    "        Yes it is possible to have a return value as an expression, just like any other value."
   ]
  },
  {
   "cell_type": "code",
   "execution_count": null,
   "id": "9066cbd9",
   "metadata": {},
   "outputs": [],
   "source": []
  },
  {
   "cell_type": "markdown",
   "id": "3ecdad96",
   "metadata": {},
   "source": [
    "8 . If a function does not have a return statement, what is the return value of a call to that function?"
   ]
  },
  {
   "cell_type": "markdown",
   "id": "a3c89c70",
   "metadata": {},
   "source": [
    "Answer : If a function does not have a return statement then there will be no return value of call of the function."
   ]
  },
  {
   "cell_type": "code",
   "execution_count": null,
   "id": "5acc9be4",
   "metadata": {},
   "outputs": [],
   "source": []
  },
  {
   "cell_type": "markdown",
   "id": "c3fded7e",
   "metadata": {},
   "source": [
    "9 . How do you make a function variable refer to the global variable?"
   ]
  },
  {
   "cell_type": "markdown",
   "id": "255388d1",
   "metadata": {},
   "source": [
    "Answer : We can refer function variabe to global variable using global keyword."
   ]
  },
  {
   "cell_type": "code",
   "execution_count": null,
   "id": "b819bd0e",
   "metadata": {},
   "outputs": [],
   "source": []
  },
  {
   "cell_type": "markdown",
   "id": "e4d15724",
   "metadata": {},
   "source": [
    "10 . What is the data type of None?"
   ]
  },
  {
   "cell_type": "markdown",
   "id": "30dac4c9",
   "metadata": {},
   "source": [
    "Answer : The data type of None is Nonetype"
   ]
  },
  {
   "cell_type": "code",
   "execution_count": 2,
   "id": "9ac42cdc",
   "metadata": {},
   "outputs": [
    {
     "data": {
      "text/plain": [
       "NoneType"
      ]
     },
     "execution_count": 2,
     "metadata": {},
     "output_type": "execute_result"
    }
   ],
   "source": [
    "type(None)"
   ]
  },
  {
   "cell_type": "code",
   "execution_count": null,
   "id": "d32c9385",
   "metadata": {},
   "outputs": [],
   "source": []
  },
  {
   "cell_type": "markdown",
   "id": "6b6333c4",
   "metadata": {},
   "source": [
    "11 . What does the sentence import areallyourpetsnamederic do?"
   ]
  },
  {
   "cell_type": "markdown",
   "id": "19e7b199",
   "metadata": {},
   "source": [
    "Answer : The sentence import areallyourpetsnamederic will import a module name 'areallyourpetsnamederic' only if this module was already created."
   ]
  },
  {
   "cell_type": "code",
   "execution_count": null,
   "id": "5b86504b",
   "metadata": {},
   "outputs": [],
   "source": []
  },
  {
   "cell_type": "markdown",
   "id": "fbfa515d",
   "metadata": {},
   "source": [
    "12 . If you had a bacon() feature in a spam module, what would you call it after importing spam?"
   ]
  },
  {
   "cell_type": "markdown",
   "id": "dd48b6be",
   "metadata": {},
   "source": [
    "Answer : After importing spam\n",
    "    \n",
    "    - import spam\n",
    "    - spam.bacon()"
   ]
  },
  {
   "cell_type": "code",
   "execution_count": null,
   "id": "e12f9a95",
   "metadata": {},
   "outputs": [],
   "source": []
  },
  {
   "cell_type": "markdown",
   "id": "5a6eabd3",
   "metadata": {},
   "source": [
    "13 . What can you do to save a programme from crashing if it encounters an error?"
   ]
  },
  {
   "cell_type": "markdown",
   "id": "1dd7d7d8",
   "metadata": {},
   "source": [
    "Answer : We can make use of exception handling to save a programm from crashing"
   ]
  },
  {
   "cell_type": "code",
   "execution_count": null,
   "id": "e527e2ea",
   "metadata": {},
   "outputs": [],
   "source": []
  },
  {
   "cell_type": "markdown",
   "id": "1213b0e1",
   "metadata": {},
   "source": [
    "14 . What is the purpose of the try clause? What is the purpose of the except clause?"
   ]
  },
  {
   "cell_type": "markdown",
   "id": "ff0b10aa",
   "metadata": {},
   "source": [
    "Answer : The purpose of try clause is :\n",
    "        if we have a suspicious code that we think may give an error ,we can write that code within the try clause.\n",
    "        \n",
    "        the purpose for except clause:\n",
    "        if there is an error in the try clause it will be handled by the except clause, therefore handling the error.\n",
    "        \n",
    "        \n",
    "        hence, we can use try clause for checking/finding any error and then handling it using the except clause\n",
    "        "
   ]
  },
  {
   "cell_type": "code",
   "execution_count": null,
   "id": "88a1cbb0",
   "metadata": {},
   "outputs": [],
   "source": []
  }
 ],
 "metadata": {
  "kernelspec": {
   "display_name": "Python 3 (ipykernel)",
   "language": "python",
   "name": "python3"
  },
  "language_info": {
   "codemirror_mode": {
    "name": "ipython",
    "version": 3
   },
   "file_extension": ".py",
   "mimetype": "text/x-python",
   "name": "python",
   "nbconvert_exporter": "python",
   "pygments_lexer": "ipython3",
   "version": "3.9.12"
  }
 },
 "nbformat": 4,
 "nbformat_minor": 5
}
