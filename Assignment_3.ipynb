{
 "cells": [
  {
   "cell_type": "markdown",
   "id": "a10c23ff",
   "metadata": {},
   "source": [
    "1 . Why are functions advantageous to have in your programs?"
   ]
  },
  {
   "cell_type": "markdown",
   "id": "723f2b45",
   "metadata": {},
   "source": [
    "Answer: \n",
    "- A normal program can only be used once, where as a function once created can be used multiple times.\n",
    "- The main advantage of Function comes with its reusability . So that we dont have to write a code again and again."
   ]
  },
  {
   "cell_type": "code",
   "execution_count": null,
   "id": "f3f50e56",
   "metadata": {},
   "outputs": [],
   "source": []
  },
  {
   "cell_type": "markdown",
   "id": "93afc4b8",
   "metadata": {},
   "source": [
    "2 . When does the code in a function run: when its specified or when its called? "
   ]
  },
  {
   "cell_type": "markdown",
   "id": "ade6a1c6",
   "metadata": {},
   "source": [
    "Answer : The function code run when the function is called"
   ]
  },
  {
   "cell_type": "code",
   "execution_count": null,
   "id": "301e0ec0",
   "metadata": {},
   "outputs": [],
   "source": []
  },
  {
   "cell_type": "markdown",
   "id": "0c066e25",
   "metadata": {},
   "source": [
    "3 . What statement creates a function?"
   ]
  },
  {
   "cell_type": "markdown",
   "id": "5758b845",
   "metadata": {},
   "source": [
    "Answer: The 'def' statement is used to create a function"
   ]
  },
  {
   "cell_type": "code",
   "execution_count": null,
   "id": "f459d980",
   "metadata": {},
   "outputs": [],
   "source": []
  },
  {
   "cell_type": "markdown",
   "id": "b55bfbcb",
   "metadata": {},
   "source": [
    "4 . What is the difference between a function and a function call?"
   ]
  },
  {
   "cell_type": "markdown",
   "id": "113824bf",
   "metadata": {},
   "source": [
    "Answer : A function is a lines of code that preforms a particular action \n",
    "        a functin call is a code/programm that performs a predefined function , a function call can be used to pass data to the function for execution."
   ]
  },
  {
   "cell_type": "code",
   "execution_count": null,
   "id": "43c9c7ea",
   "metadata": {},
   "outputs": [],
   "source": []
  },
  {
   "cell_type": "markdown",
   "id": "47548f7e",
   "metadata": {},
   "source": [
    "5 . How many global scopes are there in a Python program? How many local scopes? "
   ]
  },
  {
   "cell_type": "markdown",
   "id": "b44b061e",
   "metadata": {},
   "source": [
    "Answer : There is just one global as well as one local scope per function"
   ]
  },
  {
   "cell_type": "code",
   "execution_count": null,
   "id": "80030bbe",
   "metadata": {},
   "outputs": [],
   "source": []
  },
  {
   "cell_type": "markdown",
   "id": "9dfcb7a6",
   "metadata": {},
   "source": [
    "6 . What happens to variables in a local scope when the function call returns?"
   ]
  },
  {
   "cell_type": "markdown",
   "id": "d6a0e8ca",
   "metadata": {},
   "source": [
    "Answer : When a function call return local scope is destroyed."
   ]
  },
  {
   "cell_type": "code",
   "execution_count": null,
   "id": "b032d66f",
   "metadata": {},
   "outputs": [],
   "source": []
  },
  {
   "cell_type": "markdown",
   "id": "6a0f1758",
   "metadata": {},
   "source": [
    "7 . What is the concept of a return value? Is it possible to have a return value in an expression?"
   ]
  },
  {
   "cell_type": "markdown",
   "id": "3023b83b",
   "metadata": {},
   "source": [
    "Answer : A return value is a value that a function gives when it completes its execution.\n",
    "        Yes it is possible to have a return value as an expression, just like any other value."
   ]
  },
  {
   "cell_type": "code",
   "execution_count": null,
   "id": "8132474a",
   "metadata": {},
   "outputs": [],
   "source": []
  },
  {
   "cell_type": "markdown",
   "id": "32ea0ef6",
   "metadata": {},
   "source": [
    "8 . If a function does not have a return statement, what is the return value of a call to that function?"
   ]
  },
  {
   "cell_type": "markdown",
   "id": "f725f79c",
   "metadata": {},
   "source": [
    "Answer : If a function does not have a return statement then there will be no return value of call of the function."
   ]
  },
  {
   "cell_type": "code",
   "execution_count": null,
   "id": "e03e9c09",
   "metadata": {},
   "outputs": [],
   "source": []
  },
  {
   "cell_type": "markdown",
   "id": "0d95325e",
   "metadata": {},
   "source": [
    "9 . How do you make a function variable refer to the global variable?"
   ]
  },
  {
   "cell_type": "markdown",
   "id": "b885f514",
   "metadata": {},
   "source": [
    "Answer : We can refer function variabe to global variable using global keyword."
   ]
  },
  {
   "cell_type": "code",
   "execution_count": null,
   "id": "5c9d3caf",
   "metadata": {},
   "outputs": [],
   "source": []
  },
  {
   "cell_type": "markdown",
   "id": "b0cd79ec",
   "metadata": {},
   "source": [
    "10 . What is the data type of None?"
   ]
  },
  {
   "cell_type": "markdown",
   "id": "b2c6dbfa",
   "metadata": {},
   "source": [
    "Answer : The data type of None is Nonetype"
   ]
  },
  {
   "cell_type": "code",
   "execution_count": 2,
   "id": "0accf2dc",
   "metadata": {},
   "outputs": [
    {
     "data": {
      "text/plain": [
       "NoneType"
      ]
     },
     "execution_count": 2,
     "metadata": {},
     "output_type": "execute_result"
    }
   ],
   "source": [
    "type(None)"
   ]
  },
  {
   "cell_type": "code",
   "execution_count": null,
   "id": "e8a5f57c",
   "metadata": {},
   "outputs": [],
   "source": []
  },
  {
   "cell_type": "markdown",
   "id": "0288e2f1",
   "metadata": {},
   "source": [
    "11 . What does the sentence import areallyourpetsnamederic do?"
   ]
  },
  {
   "cell_type": "markdown",
   "id": "7e6050af",
   "metadata": {},
   "source": [
    "Answer : The sentence import areallyourpetsnamederic will import a module name 'areallyourpetsnamederic' only if this module was already created."
   ]
  },
  {
   "cell_type": "code",
   "execution_count": null,
   "id": "c70f37e2",
   "metadata": {},
   "outputs": [],
   "source": []
  },
  {
   "cell_type": "markdown",
   "id": "3a5ed720",
   "metadata": {},
   "source": [
    "12 . If you had a bacon() feature in a spam module, what would you call it after importing spam?"
   ]
  },
  {
   "cell_type": "markdown",
   "id": "42a6fed7",
   "metadata": {},
   "source": [
    "Answer : After importing spam\n",
    "    \n",
    "    - import spam\n",
    "    - spam.bacon()"
   ]
  },
  {
   "cell_type": "code",
   "execution_count": null,
   "id": "d7b67d0c",
   "metadata": {},
   "outputs": [],
   "source": []
  },
  {
   "cell_type": "markdown",
   "id": "108cdd3a",
   "metadata": {},
   "source": [
    "13 . What can you do to save a programme from crashing if it encounters an error?"
   ]
  },
  {
   "cell_type": "markdown",
   "id": "c8996b0f",
   "metadata": {},
   "source": [
    "Answer : We can make use of exception handling to save a programm from crashing"
   ]
  },
  {
   "cell_type": "code",
   "execution_count": null,
   "id": "248f676f",
   "metadata": {},
   "outputs": [],
   "source": []
  },
  {
   "cell_type": "markdown",
   "id": "86247560",
   "metadata": {},
   "source": [
    "14 . What is the purpose of the try clause? What is the purpose of the except clause?"
   ]
  },
  {
   "cell_type": "markdown",
   "id": "6a7a351c",
   "metadata": {},
   "source": [
    "Answer : The purpose of try clause is :\n",
    "        if we have a suspicious code that we think may give an error ,we can write that code within the try clause.\n",
    "        \n",
    "        the purpose for except clause:\n",
    "        if there is an error in the try clause it will be handled by the except clause, therefore handling the error.\n",
    "        \n",
    "        \n",
    "        hence, we can use try clause for checking/findinf any error and then handling it using the except clause\n",
    "        "
   ]
  },
  {
   "cell_type": "code",
   "execution_count": null,
   "id": "19b91981",
   "metadata": {},
   "outputs": [],
   "source": []
  }
 ],
 "metadata": {
  "kernelspec": {
   "display_name": "Python 3 (ipykernel)",
   "language": "python",
   "name": "python3"
  },
  "language_info": {
   "codemirror_mode": {
    "name": "ipython",
    "version": 3
   },
   "file_extension": ".py",
   "mimetype": "text/x-python",
   "name": "python",
   "nbconvert_exporter": "python",
   "pygments_lexer": "ipython3",
   "version": "3.9.12"
  }
 },
 "nbformat": 4,
 "nbformat_minor": 5
}
