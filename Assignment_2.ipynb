{
 "cells": [
  {
   "cell_type": "markdown",
   "id": "aff15ee4",
   "metadata": {},
   "source": [
    "1 . What are the two values of the Boolean data type? How do you write them?"
   ]
  },
  {
   "cell_type": "markdown",
   "id": "2f0492f7",
   "metadata": {},
   "source": [
    "Answer : The two values of Boolean data type are true and false\n",
    "\n",
    "    - we can write them as True and False \n",
    "    - eg: x = True,\n",
    "        y = False"
   ]
  },
  {
   "cell_type": "code",
   "execution_count": null,
   "id": "38bb4cd4",
   "metadata": {},
   "outputs": [],
   "source": []
  },
  {
   "cell_type": "markdown",
   "id": "08be8040",
   "metadata": {},
   "source": [
    "2 . What are the three different types of Boolean operators?"
   ]
  },
  {
   "cell_type": "markdown",
   "id": "d1de1f08",
   "metadata": {},
   "source": [
    "Answer: The three different types of boolean operators are:\n",
    "\n",
    "        - AND\n",
    "        - OR\n",
    "        - NOT"
   ]
  },
  {
   "cell_type": "code",
   "execution_count": null,
   "id": "c5e94a69",
   "metadata": {},
   "outputs": [],
   "source": []
  },
  {
   "cell_type": "markdown",
   "id": "13ac1440",
   "metadata": {},
   "source": [
    "3 . Make a list of each Boolean operator truth tables (i.e. every possible combination of Boolean\n",
    "values for the operator and what it evaluate )."
   ]
  },
  {
   "cell_type": "markdown",
   "id": "1cc8f6b9",
   "metadata": {},
   "source": [
    "Answer:\n",
    "    \n",
    "    - AND:                               -AND\n",
    "        True and True  =  True             1 1      1\n",
    "        True and False = False             1 0      0 \n",
    "        False and True  = False            0 1      0\n",
    "        False and False = False            0 0      0\n",
    "\n",
    "    - OR                                 -OR\n",
    "        True or False = True               1 0      1\n",
    "        True or True = True                1 1      1\n",
    "        False or True = True               0 1      1\n",
    "        False or False = False             0 0      0\n",
    "        \n",
    "    -NOT                                 -NOT\n",
    "        not True = False                   1        0                \n",
    "        not False = True                   0        1"
   ]
  },
  {
   "cell_type": "code",
   "execution_count": null,
   "id": "564ee907",
   "metadata": {},
   "outputs": [],
   "source": []
  },
  {
   "cell_type": "markdown",
   "id": "7e699937",
   "metadata": {},
   "source": [
    "4 . What are the values of the following expressions?"
   ]
  },
  {
   "cell_type": "code",
   "execution_count": 3,
   "id": "9ee4a00b",
   "metadata": {},
   "outputs": [
    {
     "name": "stdout",
     "output_type": "stream",
     "text": [
      "False\n",
      "False\n",
      "True\n",
      "False\n",
      "False\n",
      "True\n"
     ]
    }
   ],
   "source": [
    "print((5>4) and (3==5))                   # (True) and (False)   = False\n",
    "print(not(5>4))                           # not(True             = False\n",
    "print((5>4) or (3==5))                    # (True) or (False)    = True\n",
    "print(not(5>4) or (3==5))                 # not(True) or (False) = False\n",
    "print((True and True) and (True==False))  # (True) and (False)   = False\n",
    "print((not(False))or(not(True)))          # (True) or (False)    = True "
   ]
  },
  {
   "cell_type": "code",
   "execution_count": null,
   "id": "568b850d",
   "metadata": {},
   "outputs": [],
   "source": []
  },
  {
   "cell_type": "markdown",
   "id": "ae9ca4af",
   "metadata": {},
   "source": [
    "5 . What are the six comparison operators?"
   ]
  },
  {
   "cell_type": "markdown",
   "id": "5ff95df3",
   "metadata": {},
   "source": [
    "Answer:  The six comparison operators:\n",
    "        \n",
    "        -  >\n",
    "        -  <\n",
    "        - ==\n",
    "        - !=\n",
    "        - >=\n",
    "        - <="
   ]
  },
  {
   "cell_type": "code",
   "execution_count": null,
   "id": "bb87b0d1",
   "metadata": {},
   "outputs": [],
   "source": []
  },
  {
   "cell_type": "markdown",
   "id": "8db74ca3",
   "metadata": {},
   "source": [
    "6 . How do you tell the difference between the equal to and assignment operators?Describe a\n",
    "condition and when you would use one."
   ]
  },
  {
   "cell_type": "markdown",
   "id": "9d02d19b",
   "metadata": {},
   "source": [
    "Answer: Equal to (==) is a comparison operator that compares values and results in a boolean value, An assignment operator is used to store some data within a variable.\n",
    "    \n",
    "    "
   ]
  },
  {
   "cell_type": "code",
   "execution_count": 12,
   "id": "510f6ac5",
   "metadata": {},
   "outputs": [
    {
     "name": "stdout",
     "output_type": "stream",
     "text": [
      "5 False\n",
      "6 False\n",
      "7 True\n",
      "8 False\n",
      "9 False\n"
     ]
    }
   ],
   "source": [
    "for i in range(5,10):\n",
    "    if (i == 7):\n",
    "        print(i, True)\n",
    "    else:\n",
    "        print(i, False)"
   ]
  },
  {
   "cell_type": "code",
   "execution_count": null,
   "id": "32c7df9f",
   "metadata": {},
   "outputs": [],
   "source": [
    "c = 10 # we use assignment operator to assign value 10 to variable 'c'."
   ]
  },
  {
   "cell_type": "code",
   "execution_count": null,
   "id": "dd691d73",
   "metadata": {},
   "outputs": [],
   "source": []
  },
  {
   "cell_type": "code",
   "execution_count": null,
   "id": "ffa57fe2",
   "metadata": {},
   "outputs": [],
   "source": [
    "7 . Identify the three blocks in this code?"
   ]
  },
  {
   "cell_type": "code",
   "execution_count": 13,
   "id": "7661d7e9",
   "metadata": {},
   "outputs": [
    {
     "name": "stdout",
     "output_type": "stream",
     "text": [
      "ham\n",
      "spam\n",
      "spam\n"
     ]
    }
   ],
   "source": [
    "spam = 0\n",
    "if spam == 10:\n",
    "    print('eggs')        # 1st bloack\n",
    "if spam > 5:\n",
    "    print('bacon')       # 2nd block\n",
    "else:\n",
    "    print('ham')         # 3rd block\n",
    "    print('spam')\n",
    "    print('spam')"
   ]
  },
  {
   "cell_type": "code",
   "execution_count": null,
   "id": "137d0145",
   "metadata": {},
   "outputs": [],
   "source": []
  },
  {
   "cell_type": "markdown",
   "id": "220b41cc",
   "metadata": {},
   "source": [
    "8 . Write code that prints Hello if 1 is stored in spam, prints Howdy if 2 is stored in spam, and prints\n",
    "Greetings! if anything else is stored in spam."
   ]
  },
  {
   "cell_type": "code",
   "execution_count": 17,
   "id": "adf859e4",
   "metadata": {},
   "outputs": [
    {
     "name": "stdout",
     "output_type": "stream",
     "text": [
      "5\n",
      "Greetings\n"
     ]
    }
   ],
   "source": [
    "spam = int(input())\n",
    "if spam == 1:\n",
    "    print('Hello')\n",
    "elif spam == 2:\n",
    "    print('Howdy')\n",
    "else:\n",
    "    print('Greetings')"
   ]
  },
  {
   "cell_type": "code",
   "execution_count": null,
   "id": "b6151095",
   "metadata": {},
   "outputs": [],
   "source": []
  },
  {
   "cell_type": "markdown",
   "id": "c2dd8abe",
   "metadata": {},
   "source": [
    "9 . If your programme is stuck in an endless loop, what keys you’ll press?"
   ]
  },
  {
   "cell_type": "code",
   "execution_count": null,
   "id": "c75d6320",
   "metadata": {},
   "outputs": [],
   "source": [
    "Answer: If the programm is stuck in an endless loop we can press CTRL + C.\n",
    "    "
   ]
  },
  {
   "cell_type": "code",
   "execution_count": null,
   "id": "a2295b07",
   "metadata": {},
   "outputs": [],
   "source": []
  },
  {
   "cell_type": "markdown",
   "id": "75be8b46",
   "metadata": {},
   "source": [
    "10 . How can you tell the difference between break and continue?"
   ]
  },
  {
   "cell_type": "markdown",
   "id": "7844484f",
   "metadata": {},
   "source": [
    "Answer: Break statement will break/stop the loop when a condition is True.\n",
    "        Continue Statement will move the execution to the start of the loop."
   ]
  },
  {
   "cell_type": "code",
   "execution_count": 26,
   "id": "a2596500",
   "metadata": {},
   "outputs": [
    {
     "name": "stdout",
     "output_type": "stream",
     "text": [
      "0\n",
      "1\n"
     ]
    }
   ],
   "source": [
    "for i in range(5):\n",
    "    if i == 2:\n",
    "        break\n",
    "    print(i)"
   ]
  },
  {
   "cell_type": "code",
   "execution_count": 27,
   "id": "7817d031",
   "metadata": {},
   "outputs": [
    {
     "name": "stdout",
     "output_type": "stream",
     "text": [
      "0\n",
      "1\n",
      "3\n",
      "4\n"
     ]
    }
   ],
   "source": [
    "for i in range(5):\n",
    "    if i == 2:\n",
    "        continue\n",
    "    print(i)"
   ]
  },
  {
   "cell_type": "code",
   "execution_count": null,
   "id": "7b8cbeab",
   "metadata": {},
   "outputs": [],
   "source": []
  },
  {
   "cell_type": "markdown",
   "id": "312b4b30",
   "metadata": {},
   "source": [
    "11 . In a for loop, what is the difference between range(10), range(0, 10), and range(0, 10, 1)?"
   ]
  },
  {
   "cell_type": "markdown",
   "id": "d88c50ae",
   "metadata": {},
   "source": [
    "Answer: The result for all of them would be the same.\n",
    "   \n",
    "       - in 1st case: range(10) means start from 0 go till 10 excluding 10.  by default step is 1\n",
    "       - in 2nd case; range(0,10) means start from 0 go till 10 excluding 10. again by default step will be 1.\n",
    "       - in 3rd case: range(0, 10, 1) starts form 0 go till 10 and exclude 10 here we set step value as 1.\n",
    "       \n",
    "       \n",
    "       so in all case the output would be the same, as indirectly we are setting the same range.\n",
    "      "
   ]
  },
  {
   "cell_type": "code",
   "execution_count": 32,
   "id": "827aafbf",
   "metadata": {},
   "outputs": [
    {
     "name": "stdout",
     "output_type": "stream",
     "text": [
      "0\n",
      "1\n",
      "2\n",
      "3\n",
      "4\n",
      "5\n",
      "6\n",
      "7\n",
      "8\n",
      "9\n"
     ]
    }
   ],
   "source": [
    "for i in range(10):\n",
    "    print(i)"
   ]
  },
  {
   "cell_type": "code",
   "execution_count": 33,
   "id": "63ba882e",
   "metadata": {},
   "outputs": [
    {
     "name": "stdout",
     "output_type": "stream",
     "text": [
      "0\n",
      "1\n",
      "2\n",
      "3\n",
      "4\n",
      "5\n",
      "6\n",
      "7\n",
      "8\n",
      "9\n"
     ]
    }
   ],
   "source": [
    " for i in range(0, 10):\n",
    "    print(i)"
   ]
  },
  {
   "cell_type": "code",
   "execution_count": 34,
   "id": "34a6eb74",
   "metadata": {},
   "outputs": [
    {
     "name": "stdout",
     "output_type": "stream",
     "text": [
      "0\n",
      "1\n",
      "2\n",
      "3\n",
      "4\n",
      "5\n",
      "6\n",
      "7\n",
      "8\n",
      "9\n"
     ]
    }
   ],
   "source": [
    "for i in range(0, 10, 1):\n",
    "    print(i)"
   ]
  },
  {
   "cell_type": "code",
   "execution_count": null,
   "id": "3acad546",
   "metadata": {},
   "outputs": [],
   "source": []
  },
  {
   "cell_type": "markdown",
   "id": "c8c2de72",
   "metadata": {},
   "source": [
    "12 . Write a short program that prints the numbers 1 to 10 using a for loop. Then write an equivalent\n",
    "program that prints the numbers 1 to 10 using a while loop."
   ]
  },
  {
   "cell_type": "code",
   "execution_count": 37,
   "id": "1c690fe4",
   "metadata": {},
   "outputs": [
    {
     "name": "stdout",
     "output_type": "stream",
     "text": [
      "1\n",
      "2\n",
      "3\n",
      "4\n",
      "5\n",
      "6\n",
      "7\n",
      "8\n",
      "9\n",
      "10\n"
     ]
    }
   ],
   "source": [
    "for i in range(1,11):   # for loop\n",
    "    print(i)"
   ]
  },
  {
   "cell_type": "code",
   "execution_count": 38,
   "id": "33734b95",
   "metadata": {},
   "outputs": [
    {
     "name": "stdout",
     "output_type": "stream",
     "text": [
      "1\n",
      "2\n",
      "3\n",
      "4\n",
      "5\n",
      "6\n",
      "7\n",
      "8\n",
      "9\n",
      "10\n"
     ]
    }
   ],
   "source": [
    "i = 1                 #while loop\n",
    "while i < 11:\n",
    "    print(i)\n",
    "    i += 1"
   ]
  },
  {
   "cell_type": "code",
   "execution_count": null,
   "id": "204e0dfb",
   "metadata": {},
   "outputs": [],
   "source": []
  },
  {
   "cell_type": "markdown",
   "id": "0a378894",
   "metadata": {},
   "source": [
    "13 . If you had a function named bacon() inside a module named spam, how would you call it after\n",
    "importing spam?"
   ]
  },
  {
   "cell_type": "markdown",
   "id": "c820217e",
   "metadata": {},
   "source": [
    "Answer :  we can call the function like this :\n",
    "        \n",
    "        import spam\n",
    "        spam.bacon()"
   ]
  },
  {
   "cell_type": "code",
   "execution_count": null,
   "id": "db4709cb",
   "metadata": {},
   "outputs": [],
   "source": []
  }
 ],
 "metadata": {
  "kernelspec": {
   "display_name": "Python 3 (ipykernel)",
   "language": "python",
   "name": "python3"
  },
  "language_info": {
   "codemirror_mode": {
    "name": "ipython",
    "version": 3
   },
   "file_extension": ".py",
   "mimetype": "text/x-python",
   "name": "python",
   "nbconvert_exporter": "python",
   "pygments_lexer": "ipython3",
   "version": "3.9.12"
  }
 },
 "nbformat": 4,
 "nbformat_minor": 5
}
